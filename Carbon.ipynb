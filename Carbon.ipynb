{
 "cells": [
  {
   "cell_type": "code",
   "execution_count": null,
   "id": "6bed1d1c-5fdc-40e4-aa7c-526dc3c3ed59",
   "metadata": {},
   "outputs": [],
   "source": [
    "!echo $http_proxy"
   ]
  },
  {
   "cell_type": "code",
   "execution_count": null,
   "id": "bcacd8f9-fb86-4182-9d38-9392bcc6d0c7",
   "metadata": {},
   "outputs": [],
   "source": [
    "import comet_ml\n",
    "from codecarbon import EmissionsTracker\n",
    "import tensorflow as tf\n",
    "import os\n",
    "\n",
    "# Initialize Comet Experiment\n",
    "experiment = comet_ml.Experiment(\n",
    "    project_name=\"carbon_footprint_project\"\n",
    ")\n",
    "\n",
    "# Start CodeCarbon Tracker\n",
    "tracker = EmissionsTracker(\n",
    "    measure_power_secs=30,  \n",
    "    tracking_mode='machine',\n",
    "    gpu_ids=\"0\"  \n",
    ")\n",
    "tracker.start()\n",
    "\n",
    "# Dummy ML Experiment (Replace with your actual workload)\n",
    "print(\"Starting a TensorFlow Training Run...\")\n",
    "(x_train, y_train), (x_test, y_test) = tf.keras.datasets.mnist.load_data()\n",
    "x_train, x_test = x_train / 255.0, x_test / 255.0\n",
    "\n",
    "model = tf.keras.models.Sequential([\n",
    "    tf.keras.layers.Flatten(input_shape=(28, 28)),\n",
    "    tf.keras.layers.Dense(128, activation='relu'),\n",
    "    tf.keras.layers.Dropout(0.2),\n",
    "    tf.keras.layers.Dense(10, activation='softmax')\n",
    "])\n",
    "\n",
    "\n",
    "model.compile(optimizer='adam',\n",
    "              loss='sparse_categorical_crossentropy',\n",
    "              metrics=['accuracy'])\n",
    "\n",
    "model.fit(x_train, y_train, epochs=250, batch_size=32)\n",
    "model.evaluate(x_test, y_test)\n",
    "\n",
    "# Stop Tracker and Log Emissions\n",
    "emissions = tracker.stop()\n",
    "experiment.log_metric(\"carbon_emissions_kg\", emissions)\n",
    "\n",
    "\n",
    "# End Comet Experiment\n",
    "experiment.end()\n",
    "\n",
    "\n"
   ]
  },
  {
   "cell_type": "code",
   "execution_count": null,
   "id": "e57c7c0a-94cf-4dbe-b771-03f436380bd0",
   "metadata": {},
   "outputs": [],
   "source": []
  }
 ],
 "metadata": {
  "kernelspec": {
   "display_name": "Python 3 (ipykernel)",
   "language": "python",
   "name": "python3"
  },
  "language_info": {
   "codemirror_mode": {
    "name": "ipython",
    "version": 3
   },
   "file_extension": ".py",
   "mimetype": "text/x-python",
   "name": "python",
   "nbconvert_exporter": "python",
   "pygments_lexer": "ipython3",
   "version": "3.10.12"
  }
 },
 "nbformat": 4,
 "nbformat_minor": 5
}
