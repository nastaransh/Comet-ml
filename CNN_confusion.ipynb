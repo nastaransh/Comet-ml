{
 "cells": [
  {
   "cell_type": "code",
   "execution_count": 1,
   "id": "5106cff9-3417-4a27-a6de-c0d78d3cadd7",
   "metadata": {},
   "outputs": [
    {
     "name": "stdout",
     "output_type": "stream",
     "text": [
      "\n"
     ]
    }
   ],
   "source": [
    "!echo $http_proxy"
   ]
  },
  {
   "cell_type": "code",
   "execution_count": 2,
   "id": "937e7122-b43b-4f1a-8e08-883f9f11ea27",
   "metadata": {},
   "outputs": [],
   "source": [
    "import comet_ml\n",
    "comet_ml.login()"
   ]
  },
  {
   "cell_type": "code",
   "execution_count": 3,
   "id": "e63bab90-1ccb-4af4-96a1-2c2aec3ae79e",
   "metadata": {},
   "outputs": [
    {
     "name": "stderr",
     "output_type": "stream",
     "text": [
      "2024-12-13 13:07:58.769776: I tensorflow/core/util/port.cc:153] oneDNN custom operations are on. You may see slightly different numerical results due to floating-point round-off errors from different computation orders. To turn them off, set the environment variable `TF_ENABLE_ONEDNN_OPTS=0`.\n",
      "2024-12-13 13:07:58.776451: I external/local_xla/xla/tsl/cuda/cudart_stub.cc:32] Could not find cuda drivers on your machine, GPU will not be used.\n",
      "2024-12-13 13:07:58.817931: I external/local_xla/xla/tsl/cuda/cudart_stub.cc:32] Could not find cuda drivers on your machine, GPU will not be used.\n",
      "2024-12-13 13:07:58.848719: E external/local_xla/xla/stream_executor/cuda/cuda_fft.cc:477] Unable to register cuFFT factory: Attempting to register factory for plugin cuFFT when one has already been registered\n",
      "WARNING: All log messages before absl::InitializeLog() is called are written to STDERR\n",
      "E0000 00:00:1734113278.878410   10201 cuda_dnn.cc:8310] Unable to register cuDNN factory: Attempting to register factory for plugin cuDNN when one has already been registered\n",
      "E0000 00:00:1734113278.888052   10201 cuda_blas.cc:1418] Unable to register cuBLAS factory: Attempting to register factory for plugin cuBLAS when one has already been registered\n",
      "2024-12-13 13:07:58.952950: I tensorflow/core/platform/cpu_feature_guard.cc:210] This TensorFlow binary is optimized to use available CPU instructions in performance-critical operations.\n",
      "To enable the following instructions: AVX2 AVX_VNNI FMA, in other operations, rebuild TensorFlow with the appropriate compiler flags.\n"
     ]
    }
   ],
   "source": [
    "\n",
    "from comet_ml import Experiment\n",
    "import keras\n",
    "import numpy as np\n",
    "from keras.datasets import mnist\n",
    "from keras.models import Sequential\n",
    "from keras.layers import Conv2D, MaxPooling2D, Flatten, Dense, Dropout\n",
    "from keras.callbacks import EarlyStopping\n",
    "from keras.preprocessing import image\n",
    "from keras.optimizers import RMSprop\n",
    "from keras.utils import to_categorical\n",
    "import matplotlib.pyplot as plt\n",
    "import tensorflow as tf\n"
   ]
  },
  {
   "cell_type": "code",
   "execution_count": 4,
   "id": "44a39175-791a-42c1-9afb-b83a656103f3",
   "metadata": {},
   "outputs": [],
   "source": [
    "(x_train, y_train), (x_test, y_test) = mnist.load_data()\n",
    "\n",
    "x_train = x_train.reshape(-1, 28, 28, 1).astype('float32') / 255\n",
    "x_test = x_test.reshape(-1, 28, 28, 1).astype('float32') / 255\n"
   ]
  },
  {
   "cell_type": "code",
   "execution_count": 5,
   "id": "c0271b8e-5da7-40f3-9627-bd02f937196a",
   "metadata": {},
   "outputs": [
    {
     "name": "stdout",
     "output_type": "stream",
     "text": [
      "y_train shape :  (60000,)\n",
      "y_test shape :  (60000,)\n"
     ]
    }
   ],
   "source": [
    "print(\"y_train shape : \" ,y_train.shape)\n",
    "print(\"y_test shape : \" ,y_train.shape)"
   ]
  },
  {
   "cell_type": "code",
   "execution_count": 6,
   "id": "3a131d78-363f-4264-923c-c77c62b76bf3",
   "metadata": {},
   "outputs": [],
   "source": [
    "# convert class vectors to binary class matrices\n",
    "y_train = keras.utils.to_categorical(y_train, 10)\n",
    "y_test = keras.utils.to_categorical(y_test, 10)"
   ]
  },
  {
   "cell_type": "code",
   "execution_count": 7,
   "id": "827003b0-f7db-4a3f-898e-5927ba47aeaa",
   "metadata": {},
   "outputs": [
    {
     "name": "stderr",
     "output_type": "stream",
     "text": [
      "/home/nast/SHARCNET/2024/HPC/ENV/lib/python3.10/site-packages/keras/src/layers/convolutional/base_conv.py:107: UserWarning: Do not pass an `input_shape`/`input_dim` argument to a layer. When using Sequential models, prefer using an `Input(shape)` object as the first layer in the model instead.\n",
      "  super().__init__(activity_regularizer=activity_regularizer, **kwargs)\n",
      "2024-12-13 13:08:00.529187: E external/local_xla/xla/stream_executor/cuda/cuda_driver.cc:152] failed call to cuInit: INTERNAL: CUDA error: Failed call to cuInit: UNKNOWN ERROR (303)\n",
      "\u001b[1;38;5;214mCOMET WARNING:\u001b[0m As you are running in a Jupyter environment, you will need to call `experiment.end()` when finished to ensure all metrics and code are logged before exiting.\n",
      "[codecarbon INFO @ 13:08:01] [setup] RAM Tracking...\n",
      "[codecarbon INFO @ 13:08:01] [setup] GPU Tracking...\n",
      "[codecarbon INFO @ 13:08:01] No GPU found.\n",
      "[codecarbon INFO @ 13:08:01] [setup] CPU Tracking...\n",
      "[codecarbon WARNING @ 13:08:01] No CPU tracking mode found. Falling back on CPU constant mode. \n",
      " Linux OS detected: Please ensure RAPL files exist at \\sys\\class\\powercap\\intel-rapl to measure CPU\n",
      "\n",
      "[codecarbon WARNING @ 13:08:02] We saw that you have a 12th Gen Intel(R) Core(TM) i7-1260P but we don't know it. Please contact us.\n",
      "[codecarbon INFO @ 13:08:02] CPU Model on constant consumption mode: 12th Gen Intel(R) Core(TM) i7-1260P\n",
      "[codecarbon INFO @ 13:08:02] >>> Tracker's metadata:\n",
      "[codecarbon INFO @ 13:08:02]   Platform system: Linux-6.8.0-49-generic-x86_64-with-glibc2.35\n",
      "[codecarbon INFO @ 13:08:02]   Python version: 3.10.12\n",
      "[codecarbon INFO @ 13:08:02]   CodeCarbon version: 2.8.1\n",
      "[codecarbon INFO @ 13:08:02]   Available RAM : 30.959 GB\n",
      "[codecarbon INFO @ 13:08:02]   CPU count: 16\n",
      "[codecarbon INFO @ 13:08:02]   CPU model: 12th Gen Intel(R) Core(TM) i7-1260P\n",
      "[codecarbon INFO @ 13:08:02]   GPU count: None\n",
      "[codecarbon INFO @ 13:08:02]   GPU model: None\n",
      "[codecarbon INFO @ 13:08:05] Saving emissions data to file /tmp/tmpl4xm2wh5/codecarbon/emissions.csv\n",
      "\u001b[1;38;5;39mCOMET INFO:\u001b[0m Experiment is live on comet.com https://www.comet.com/nast69/confusion-matrix/89618eb33e4746eea3dc734421a33919\n",
      "\n"
     ]
    },
    {
     "data": {
      "text/html": [
       "\n",
       "        <iframe\n",
       "            width=\"100%\"\n",
       "            height=\"800px\"\n",
       "            src=\"https://www.comet.com/nast69/confusion-matrix/89618eb33e4746eea3dc734421a33919\"\n",
       "            frameborder=\"0\"\n",
       "            allowfullscreen\n",
       "            \n",
       "        ></iframe>\n",
       "        "
      ],
      "text/plain": [
       "<IPython.lib.display.IFrame at 0x78ddced0f9a0>"
      ]
     },
     "metadata": {},
     "output_type": "display_data"
    },
    {
     "data": {
      "text/html": [
       "<pre style=\"white-space:pre;overflow-x:auto;line-height:normal;font-family:Menlo,'DejaVu Sans Mono',consolas,'Courier New',monospace\"><span style=\"font-weight: bold\">Model: \"sequential\"</span>\n",
       "</pre>\n"
      ],
      "text/plain": [
       "\u001b[1mModel: \"sequential\"\u001b[0m\n"
      ]
     },
     "metadata": {},
     "output_type": "display_data"
    },
    {
     "data": {
      "text/html": [
       "<pre style=\"white-space:pre;overflow-x:auto;line-height:normal;font-family:Menlo,'DejaVu Sans Mono',consolas,'Courier New',monospace\">┏━━━━━━━━━━━━━━━━━━━━━━━━━━━━━━━━━┳━━━━━━━━━━━━━━━━━━━━━━━━┳━━━━━━━━━━━━━━━┓\n",
       "┃<span style=\"font-weight: bold\"> Layer (type)                    </span>┃<span style=\"font-weight: bold\"> Output Shape           </span>┃<span style=\"font-weight: bold\">       Param # </span>┃\n",
       "┡━━━━━━━━━━━━━━━━━━━━━━━━━━━━━━━━━╇━━━━━━━━━━━━━━━━━━━━━━━━╇━━━━━━━━━━━━━━━┩\n",
       "│ conv2d (<span style=\"color: #0087ff; text-decoration-color: #0087ff\">Conv2D</span>)                 │ (<span style=\"color: #00d7ff; text-decoration-color: #00d7ff\">None</span>, <span style=\"color: #00af00; text-decoration-color: #00af00\">24</span>, <span style=\"color: #00af00; text-decoration-color: #00af00\">24</span>, <span style=\"color: #00af00; text-decoration-color: #00af00\">20</span>)     │           <span style=\"color: #00af00; text-decoration-color: #00af00\">520</span> │\n",
       "├─────────────────────────────────┼────────────────────────┼───────────────┤\n",
       "│ max_pooling2d (<span style=\"color: #0087ff; text-decoration-color: #0087ff\">MaxPooling2D</span>)    │ (<span style=\"color: #00d7ff; text-decoration-color: #00d7ff\">None</span>, <span style=\"color: #00af00; text-decoration-color: #00af00\">12</span>, <span style=\"color: #00af00; text-decoration-color: #00af00\">12</span>, <span style=\"color: #00af00; text-decoration-color: #00af00\">20</span>)     │             <span style=\"color: #00af00; text-decoration-color: #00af00\">0</span> │\n",
       "├─────────────────────────────────┼────────────────────────┼───────────────┤\n",
       "│ conv2d_1 (<span style=\"color: #0087ff; text-decoration-color: #0087ff\">Conv2D</span>)               │ (<span style=\"color: #00d7ff; text-decoration-color: #00d7ff\">None</span>, <span style=\"color: #00af00; text-decoration-color: #00af00\">10</span>, <span style=\"color: #00af00; text-decoration-color: #00af00\">10</span>, <span style=\"color: #00af00; text-decoration-color: #00af00\">40</span>)     │         <span style=\"color: #00af00; text-decoration-color: #00af00\">7,240</span> │\n",
       "├─────────────────────────────────┼────────────────────────┼───────────────┤\n",
       "│ max_pooling2d_1 (<span style=\"color: #0087ff; text-decoration-color: #0087ff\">MaxPooling2D</span>)  │ (<span style=\"color: #00d7ff; text-decoration-color: #00d7ff\">None</span>, <span style=\"color: #00af00; text-decoration-color: #00af00\">5</span>, <span style=\"color: #00af00; text-decoration-color: #00af00\">5</span>, <span style=\"color: #00af00; text-decoration-color: #00af00\">40</span>)       │             <span style=\"color: #00af00; text-decoration-color: #00af00\">0</span> │\n",
       "├─────────────────────────────────┼────────────────────────┼───────────────┤\n",
       "│ flatten (<span style=\"color: #0087ff; text-decoration-color: #0087ff\">Flatten</span>)               │ (<span style=\"color: #00d7ff; text-decoration-color: #00d7ff\">None</span>, <span style=\"color: #00af00; text-decoration-color: #00af00\">1000</span>)           │             <span style=\"color: #00af00; text-decoration-color: #00af00\">0</span> │\n",
       "├─────────────────────────────────┼────────────────────────┼───────────────┤\n",
       "│ dense (<span style=\"color: #0087ff; text-decoration-color: #0087ff\">Dense</span>)                   │ (<span style=\"color: #00d7ff; text-decoration-color: #00d7ff\">None</span>, <span style=\"color: #00af00; text-decoration-color: #00af00\">100</span>)            │       <span style=\"color: #00af00; text-decoration-color: #00af00\">100,100</span> │\n",
       "├─────────────────────────────────┼────────────────────────┼───────────────┤\n",
       "│ dense_1 (<span style=\"color: #0087ff; text-decoration-color: #0087ff\">Dense</span>)                 │ (<span style=\"color: #00d7ff; text-decoration-color: #00d7ff\">None</span>, <span style=\"color: #00af00; text-decoration-color: #00af00\">10</span>)             │         <span style=\"color: #00af00; text-decoration-color: #00af00\">1,010</span> │\n",
       "└─────────────────────────────────┴────────────────────────┴───────────────┘\n",
       "</pre>\n"
      ],
      "text/plain": [
       "┏━━━━━━━━━━━━━━━━━━━━━━━━━━━━━━━━━┳━━━━━━━━━━━━━━━━━━━━━━━━┳━━━━━━━━━━━━━━━┓\n",
       "┃\u001b[1m \u001b[0m\u001b[1mLayer (type)                   \u001b[0m\u001b[1m \u001b[0m┃\u001b[1m \u001b[0m\u001b[1mOutput Shape          \u001b[0m\u001b[1m \u001b[0m┃\u001b[1m \u001b[0m\u001b[1m      Param #\u001b[0m\u001b[1m \u001b[0m┃\n",
       "┡━━━━━━━━━━━━━━━━━━━━━━━━━━━━━━━━━╇━━━━━━━━━━━━━━━━━━━━━━━━╇━━━━━━━━━━━━━━━┩\n",
       "│ conv2d (\u001b[38;5;33mConv2D\u001b[0m)                 │ (\u001b[38;5;45mNone\u001b[0m, \u001b[38;5;34m24\u001b[0m, \u001b[38;5;34m24\u001b[0m, \u001b[38;5;34m20\u001b[0m)     │           \u001b[38;5;34m520\u001b[0m │\n",
       "├─────────────────────────────────┼────────────────────────┼───────────────┤\n",
       "│ max_pooling2d (\u001b[38;5;33mMaxPooling2D\u001b[0m)    │ (\u001b[38;5;45mNone\u001b[0m, \u001b[38;5;34m12\u001b[0m, \u001b[38;5;34m12\u001b[0m, \u001b[38;5;34m20\u001b[0m)     │             \u001b[38;5;34m0\u001b[0m │\n",
       "├─────────────────────────────────┼────────────────────────┼───────────────┤\n",
       "│ conv2d_1 (\u001b[38;5;33mConv2D\u001b[0m)               │ (\u001b[38;5;45mNone\u001b[0m, \u001b[38;5;34m10\u001b[0m, \u001b[38;5;34m10\u001b[0m, \u001b[38;5;34m40\u001b[0m)     │         \u001b[38;5;34m7,240\u001b[0m │\n",
       "├─────────────────────────────────┼────────────────────────┼───────────────┤\n",
       "│ max_pooling2d_1 (\u001b[38;5;33mMaxPooling2D\u001b[0m)  │ (\u001b[38;5;45mNone\u001b[0m, \u001b[38;5;34m5\u001b[0m, \u001b[38;5;34m5\u001b[0m, \u001b[38;5;34m40\u001b[0m)       │             \u001b[38;5;34m0\u001b[0m │\n",
       "├─────────────────────────────────┼────────────────────────┼───────────────┤\n",
       "│ flatten (\u001b[38;5;33mFlatten\u001b[0m)               │ (\u001b[38;5;45mNone\u001b[0m, \u001b[38;5;34m1000\u001b[0m)           │             \u001b[38;5;34m0\u001b[0m │\n",
       "├─────────────────────────────────┼────────────────────────┼───────────────┤\n",
       "│ dense (\u001b[38;5;33mDense\u001b[0m)                   │ (\u001b[38;5;45mNone\u001b[0m, \u001b[38;5;34m100\u001b[0m)            │       \u001b[38;5;34m100,100\u001b[0m │\n",
       "├─────────────────────────────────┼────────────────────────┼───────────────┤\n",
       "│ dense_1 (\u001b[38;5;33mDense\u001b[0m)                 │ (\u001b[38;5;45mNone\u001b[0m, \u001b[38;5;34m10\u001b[0m)             │         \u001b[38;5;34m1,010\u001b[0m │\n",
       "└─────────────────────────────────┴────────────────────────┴───────────────┘\n"
      ]
     },
     "metadata": {},
     "output_type": "display_data"
    },
    {
     "data": {
      "text/html": [
       "<pre style=\"white-space:pre;overflow-x:auto;line-height:normal;font-family:Menlo,'DejaVu Sans Mono',consolas,'Courier New',monospace\"><span style=\"font-weight: bold\"> Total params: </span><span style=\"color: #00af00; text-decoration-color: #00af00\">108,870</span> (425.27 KB)\n",
       "</pre>\n"
      ],
      "text/plain": [
       "\u001b[1m Total params: \u001b[0m\u001b[38;5;34m108,870\u001b[0m (425.27 KB)\n"
      ]
     },
     "metadata": {},
     "output_type": "display_data"
    },
    {
     "data": {
      "text/html": [
       "<pre style=\"white-space:pre;overflow-x:auto;line-height:normal;font-family:Menlo,'DejaVu Sans Mono',consolas,'Courier New',monospace\"><span style=\"font-weight: bold\"> Trainable params: </span><span style=\"color: #00af00; text-decoration-color: #00af00\">108,870</span> (425.27 KB)\n",
       "</pre>\n"
      ],
      "text/plain": [
       "\u001b[1m Trainable params: \u001b[0m\u001b[38;5;34m108,870\u001b[0m (425.27 KB)\n"
      ]
     },
     "metadata": {},
     "output_type": "display_data"
    },
    {
     "data": {
      "text/html": [
       "<pre style=\"white-space:pre;overflow-x:auto;line-height:normal;font-family:Menlo,'DejaVu Sans Mono',consolas,'Courier New',monospace\"><span style=\"font-weight: bold\"> Non-trainable params: </span><span style=\"color: #00af00; text-decoration-color: #00af00\">0</span> (0.00 B)\n",
       "</pre>\n"
      ],
      "text/plain": [
       "\u001b[1m Non-trainable params: \u001b[0m\u001b[38;5;34m0\u001b[0m (0.00 B)\n"
      ]
     },
     "metadata": {},
     "output_type": "display_data"
    }
   ],
   "source": [
    "def build_cnn_model(numfm, numnodes, input_shape = (28, 28, 1)):\n",
    "    model = Sequential()\n",
    "    model.add(Conv2D(numfm, kernel_size = (5, 5), input_shape = input_shape, activation = \"relu\"))\n",
    "    model.add(MaxPooling2D(pool_size = (2, 2), strides = (2, 2)))\n",
    "    model.add(Conv2D(2 * numfm, kernel_size = (3, 3), activation = \"relu\"))\n",
    "    model.add(MaxPooling2D(pool_size = (2, 2), strides = (2, 2)))\n",
    "    model.add(Flatten())\n",
    "    model.add(Dense(numnodes, activation = \"tanh\"))\n",
    "    model.add(Dense(10, activation = \"softmax\"))\n",
    "    return model\n",
    "\n",
    "model = build_cnn_model(20,100)\n",
    "experiment = Experiment(project_name=\"Confusion Matrix\")\n",
    "\n",
    "# Display Comet UI\n",
    "experiment.display()\n",
    "\n",
    "# experiment.log_dataset_hash(x_train)\n",
    "params = {\n",
    "    'batch_size': 64,\n",
    "    'epochs': 3,\n",
    "    'optimizer': 'sgd',\n",
    "    'loss_function': 'categorical_crossentropy',\n",
    "    'metrics': ['accuracy']\n",
    "}\n",
    "\n",
    "\n",
    "\n",
    "# Log dataset hash\n",
    "\n",
    "# experiment.log_parameters(params)\n",
    "\n",
    "model.compile(\n",
    "    optimizer=params['optimizer'],\n",
    "    loss=params['loss_function'],\n",
    "    metrics=params['metrics']\n",
    ")\n",
    "\n",
    "# Summary of the model\n",
    "model.summary()"
   ]
  },
  {
   "cell_type": "code",
   "execution_count": 8,
   "id": "907efd2b-d4bb-457b-80fa-a01688734c0b",
   "metadata": {},
   "outputs": [
    {
     "name": "stderr",
     "output_type": "stream",
     "text": [
      "\u001b[1;38;5;39mCOMET INFO:\u001b[0m Ignoring automatic log_parameter('verbose') because 'keras:verbose' is in COMET_LOGGING_PARAMETERS_IGNORE\n"
     ]
    },
    {
     "name": "stdout",
     "output_type": "stream",
     "text": [
      "Epoch 1/3\n",
      "938/938 - 5s - 5ms/step - accuracy: 0.8079 - loss: 0.7170 - val_accuracy: 0.9250 - val_loss: 0.2695\n",
      "Epoch 2/3\n",
      "938/938 - 5s - 5ms/step - accuracy: 0.9364 - loss: 0.2234 - val_accuracy: 0.9521 - val_loss: 0.1661\n",
      "Epoch 3/3\n"
     ]
    },
    {
     "name": "stderr",
     "output_type": "stream",
     "text": [
      "[codecarbon INFO @ 13:08:20] Energy consumed for RAM : 0.000048 kWh. RAM Power : 11.60967206954956 W\n",
      "[codecarbon INFO @ 13:08:20] Energy consumed for all CPUs : 0.000177 kWh. Total CPU Power : 42.5 W\n",
      "[codecarbon INFO @ 13:08:20] 0.000225 kWh of electricity used since the beginning.\n"
     ]
    },
    {
     "name": "stdout",
     "output_type": "stream",
     "text": [
      "938/938 - 5s - 5ms/step - accuracy: 0.9551 - loss: 0.1582 - val_accuracy: 0.9644 - val_loss: 0.1263\n"
     ]
    }
   ],
   "source": [
    "with experiment.train():\n",
    "    history = model.fit(\n",
    "        x_train, y_train,\n",
    "        epochs=params['epochs'],\n",
    "        batch_size=params['batch_size'],\n",
    "        verbose=2,\n",
    "        validation_data=(x_test, y_test),\n",
    "    )\n"
   ]
  },
  {
   "cell_type": "code",
   "execution_count": 9,
   "id": "f0fde6e6-2646-4f53-8e96-c9cc82754671",
   "metadata": {},
   "outputs": [
    {
     "name": "stderr",
     "output_type": "stream",
     "text": [
      "[codecarbon INFO @ 13:08:35] Energy consumed for RAM : 0.000097 kWh. RAM Power : 11.60967206954956 W\n",
      "[codecarbon INFO @ 13:08:35] Energy consumed for all CPUs : 0.000354 kWh. Total CPU Power : 42.5 W\n",
      "[codecarbon INFO @ 13:08:35] 0.000451 kWh of electricity used since the beginning.\n"
     ]
    }
   ],
   "source": [
    "loss_fn = tf.keras.losses.CategoricalCrossentropy()  # Adjust as per your task\n",
    "\n",
    "# Training loop\n",
    "\n",
    "for epoch in range(30):\n",
    "    with tf.GradientTape() as tape:\n",
    "        predictions = model(x_test)\n",
    "        loss = loss_fn(y_test, predictions)\n",
    "    grads = tape.gradient(loss, model.trainable_variables)\n",
    "\n",
    "        # Log gradients as histograms\n",
    "    for i, grad in enumerate(grads):\n",
    "        experiment.log_histogram_3d(\n",
    "            grad.numpy().flatten(), name=f\"Gradient_Layer_{i}\", step=epoch\n",
    "        )"
   ]
  },
  {
   "cell_type": "code",
   "execution_count": 10,
   "id": "f7aeb624-2d67-470a-93f2-b3f16d3953a7",
   "metadata": {},
   "outputs": [
    {
     "name": "stdout",
     "output_type": "stream",
     "text": [
      "\u001b[1m313/313\u001b[0m \u001b[32m━━━━━━━━━━━━━━━━━━━━\u001b[0m\u001b[37m\u001b[0m \u001b[1m0s\u001b[0m 1ms/step\n"
     ]
    },
    {
     "data": {
      "text/plain": [
       "{'web': 'https://www.comet.com/api/asset/download?assetId=646c500f1e8f4d11ab51c7b15c2bc4a1&experimentKey=89618eb33e4746eea3dc734421a33919',\n",
       " 'api': 'https://www.comet.com/api/rest/v2/experiment/asset/get-asset?assetId=646c500f1e8f4d11ab51c7b15c2bc4a1&experimentKey=89618eb33e4746eea3dc734421a33919',\n",
       " 'assetId': '646c500f1e8f4d11ab51c7b15c2bc4a1'}"
      ]
     },
     "execution_count": 10,
     "metadata": {},
     "output_type": "execute_result"
    }
   ],
   "source": [
    "predicted = model.predict(x_test).argmax(-1)\n",
    "y_true = np.argmax(y_test, axis=1)\n",
    "\n",
    "# Log confusion matrix\n",
    "experiment.log_confusion_matrix(\n",
    "    y_true=y_true,\n",
    "    y_predicted=predicted\n",
    ")\n"
   ]
  },
  {
   "cell_type": "code",
   "execution_count": 11,
   "id": "2fdbf200-0bcd-474e-b408-b73956966bcf",
   "metadata": {},
   "outputs": [
    {
     "name": "stderr",
     "output_type": "stream",
     "text": [
      "[codecarbon INFO @ 13:08:39] Energy consumed for RAM : 0.000109 kWh. RAM Power : 11.60967206954956 W\n",
      "[codecarbon INFO @ 13:08:39] Energy consumed for all CPUs : 0.000400 kWh. Total CPU Power : 42.5 W\n",
      "[codecarbon INFO @ 13:08:39] 0.000509 kWh of electricity used since the beginning.\n",
      "/home/nast/SHARCNET/2024/HPC/ENV/lib/python3.10/site-packages/codecarbon/output_methods/file.py:52: FutureWarning: The behavior of DataFrame concatenation with empty or all-NA entries is deprecated. In a future version, this will no longer exclude empty or all-NA columns when determining the result dtypes. To retain the old behavior, exclude the relevant entries before the concat operation.\n",
      "  df = pd.concat([df, pd.DataFrame.from_records([dict(total.values)])])\n",
      "\u001b[1;38;5;39mCOMET INFO:\u001b[0m ---------------------------------------------------------------------------------------\n",
      "\u001b[1;38;5;39mCOMET INFO:\u001b[0m Comet.ml Experiment Summary\n",
      "\u001b[1;38;5;39mCOMET INFO:\u001b[0m ---------------------------------------------------------------------------------------\n",
      "\u001b[1;38;5;39mCOMET INFO:\u001b[0m   Data:\n",
      "\u001b[1;38;5;39mCOMET INFO:\u001b[0m     display_summary_level : 1\n",
      "\u001b[1;38;5;39mCOMET INFO:\u001b[0m     name                  : safe_canidae_5607\n",
      "\u001b[1;38;5;39mCOMET INFO:\u001b[0m     url                   : https://www.comet.com/nast69/confusion-matrix/89618eb33e4746eea3dc734421a33919\n",
      "\u001b[1;38;5;39mCOMET INFO:\u001b[0m   Metrics [count] (min, max):\n",
      "\u001b[1;38;5;39mCOMET INFO:\u001b[0m     train_accuracy [3]                 : (0.8078833222389221, 0.955133318901062)\n",
      "\u001b[1;38;5;39mCOMET INFO:\u001b[0m     train_batch_accuracy [282]         : (0.09375, 0.96875)\n",
      "\u001b[1;38;5;39mCOMET INFO:\u001b[0m     train_batch_loss [282]             : (0.1585138440132141, 2.316171646118164)\n",
      "\u001b[1;38;5;39mCOMET INFO:\u001b[0m     train_epoch_duration [3]           : (4.630919572999119, 5.031626936999601)\n",
      "\u001b[1;38;5;39mCOMET INFO:\u001b[0m     train_loss [3]                     : (0.15823711454868317, 0.7170001268386841)\n",
      "\u001b[1;38;5;39mCOMET INFO:\u001b[0m     train_val_accuracy [3]             : (0.925000011920929, 0.9643999934196472)\n",
      "\u001b[1;38;5;39mCOMET INFO:\u001b[0m     train_val_loss [3]                 : (0.12627501785755157, 0.26947569847106934)\n",
      "\u001b[1;38;5;39mCOMET INFO:\u001b[0m     train_validate_batch_accuracy [48] : (0.8983274698257446, 0.984375)\n",
      "\u001b[1;38;5;39mCOMET INFO:\u001b[0m     train_validate_batch_loss [48]     : (0.05078599229454994, 0.3431684076786041)\n",
      "\u001b[1;38;5;39mCOMET INFO:\u001b[0m   Others:\n",
      "\u001b[1;38;5;39mCOMET INFO:\u001b[0m     train_trainable_params : 108870\n",
      "\u001b[1;38;5;39mCOMET INFO:\u001b[0m   Parameters:\n",
      "\u001b[1;38;5;39mCOMET INFO:\u001b[0m     Optimizer                             : SGD\n",
      "\u001b[1;38;5;39mCOMET INFO:\u001b[0m     SGD_clipnorm                          : None\n",
      "\u001b[1;38;5;39mCOMET INFO:\u001b[0m     SGD_clipvalue                         : None\n",
      "\u001b[1;38;5;39mCOMET INFO:\u001b[0m     SGD_ema_momentum                      : 0.99\n",
      "\u001b[1;38;5;39mCOMET INFO:\u001b[0m     SGD_ema_overwrite_frequency           : None\n",
      "\u001b[1;38;5;39mCOMET INFO:\u001b[0m     SGD_global_clipnorm                   : None\n",
      "\u001b[1;38;5;39mCOMET INFO:\u001b[0m     SGD_gradient_accumulation_steps       : None\n",
      "\u001b[1;38;5;39mCOMET INFO:\u001b[0m     SGD_learning_rate                     : 0.009999999776482582\n",
      "\u001b[1;38;5;39mCOMET INFO:\u001b[0m     SGD_loss_scale_factor                 : None\n",
      "\u001b[1;38;5;39mCOMET INFO:\u001b[0m     SGD_momentum                          : 0.0\n",
      "\u001b[1;38;5;39mCOMET INFO:\u001b[0m     SGD_nesterov                          : False\n",
      "\u001b[1;38;5;39mCOMET INFO:\u001b[0m     SGD_use_ema                           : False\n",
      "\u001b[1;38;5;39mCOMET INFO:\u001b[0m     SGD_weight_decay                      : None\n",
      "\u001b[1;38;5;39mCOMET INFO:\u001b[0m     train_SGD_clipnorm                    : None\n",
      "\u001b[1;38;5;39mCOMET INFO:\u001b[0m     train_SGD_clipvalue                   : None\n",
      "\u001b[1;38;5;39mCOMET INFO:\u001b[0m     train_SGD_ema_momentum                : 0.99\n",
      "\u001b[1;38;5;39mCOMET INFO:\u001b[0m     train_SGD_ema_overwrite_frequency     : None\n",
      "\u001b[1;38;5;39mCOMET INFO:\u001b[0m     train_SGD_global_clipnorm             : None\n",
      "\u001b[1;38;5;39mCOMET INFO:\u001b[0m     train_SGD_gradient_accumulation_steps : None\n",
      "\u001b[1;38;5;39mCOMET INFO:\u001b[0m     train_SGD_learning_rate               : 0.009999999776482582\n",
      "\u001b[1;38;5;39mCOMET INFO:\u001b[0m     train_SGD_loss_scale_factor           : None\n",
      "\u001b[1;38;5;39mCOMET INFO:\u001b[0m     train_SGD_momentum                    : 0.0\n",
      "\u001b[1;38;5;39mCOMET INFO:\u001b[0m     train_SGD_name                        : SGD\n",
      "\u001b[1;38;5;39mCOMET INFO:\u001b[0m     train_SGD_nesterov                    : False\n",
      "\u001b[1;38;5;39mCOMET INFO:\u001b[0m     train_SGD_use_ema                     : False\n",
      "\u001b[1;38;5;39mCOMET INFO:\u001b[0m     train_SGD_weight_decay                : None\n",
      "\u001b[1;38;5;39mCOMET INFO:\u001b[0m     train_epochs                          : 3\n",
      "\u001b[1;38;5;39mCOMET INFO:\u001b[0m     train_steps                           : 938\n",
      "\u001b[1;38;5;39mCOMET INFO:\u001b[0m   Uploads:\n",
      "\u001b[1;38;5;39mCOMET INFO:\u001b[0m     asset                    : 1 (803 bytes)\n",
      "\u001b[1;38;5;39mCOMET INFO:\u001b[0m     confusion-matrix         : 1\n",
      "\u001b[1;38;5;39mCOMET INFO:\u001b[0m     environment details      : 1\n",
      "\u001b[1;38;5;39mCOMET INFO:\u001b[0m     figures                  : 1\n",
      "\u001b[1;38;5;39mCOMET INFO:\u001b[0m     filename                 : 1\n",
      "\u001b[1;38;5;39mCOMET INFO:\u001b[0m     git metadata             : 1\n",
      "\u001b[1;38;5;39mCOMET INFO:\u001b[0m     git-patch (uncompressed) : 1 (288.11 KB)\n",
      "\u001b[1;38;5;39mCOMET INFO:\u001b[0m     histogram3d              : 240\n",
      "\u001b[1;38;5;39mCOMET INFO:\u001b[0m     installed packages       : 1\n",
      "\u001b[1;38;5;39mCOMET INFO:\u001b[0m     model graph              : 1\n",
      "\u001b[1;38;5;39mCOMET INFO:\u001b[0m     notebook                 : 1\n",
      "\u001b[1;38;5;39mCOMET INFO:\u001b[0m     os packages              : 1\n",
      "\u001b[1;38;5;39mCOMET INFO:\u001b[0m     source_code              : 1\n",
      "\u001b[1;38;5;39mCOMET INFO:\u001b[0m \n"
     ]
    },
    {
     "data": {
      "image/png": "[encoded data removed]",
      "text/plain": [
       "<Figure size 640x480 with 15 Axes>"
      ]
     },
     "metadata": {},
     "output_type": "display_data"
    }
   ],
   "source": [
    "slice=15\n",
    "for i in range(slice):\n",
    "    plt.subplot(1, slice, i+1)\n",
    "    plt.imshow(x_test[i], interpolation='nearest')\n",
    "    plt.text(0, 0, predicted[i], color='black',\n",
    "             bbox=dict(facecolor='white', alpha=1))\n",
    "    plt.axis('off')\n",
    "\n",
    "# Check the 'Graphics' tab to see this logged figure\n",
    "experiment.log_figure('Model Sample Prediction', plt)\n",
    "\n",
    "experiment.end()"
   ]
  },
  {
   "cell_type": "code",
   "execution_count": null,
   "id": "35db310b-21d2-479d-8723-f61147b836cc",
   "metadata": {},
   "outputs": [],
   "source": []
  }
 ],
 "metadata": {
  "kernelspec": {
   "display_name": "Python 3 (ipykernel)",
   "language": "python",
   "name": "python3"
  },
  "language_info": {
   "codemirror_mode": {
    "name": "ipython",
    "version": 3
   },
   "file_extension": ".py",
   "mimetype": "text/x-python",
   "name": "python",
   "nbconvert_exporter": "python",
   "pygments_lexer": "ipython3",
   "version": "3.10.12"
  }
 },
 "nbformat": 4,
 "nbformat_minor": 5
}
