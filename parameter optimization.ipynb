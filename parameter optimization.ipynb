{
 "cells": [
  {
   "cell_type": "code",
   "execution_count": null,
   "id": "8a920335-4bc3-472b-a730-aefdb99c665c",
   "metadata": {},
   "outputs": [],
   "source": [
    "!echo $http_proxy"
   ]
  },
  {
   "cell_type": "code",
   "execution_count": null,
   "id": "9a8420dd-8c36-48a7-9539-05362ea729bc",
   "metadata": {},
   "outputs": [],
   "source": [
    "import comet_ml\n",
    "\n",
    "comet_ml.login(project_name=\"Random_search\")"
   ]
  },
  {
   "cell_type": "code",
   "execution_count": null,
   "id": "ab807d0e-b714-4cca-97ec-dee9fd38323a",
   "metadata": {},
   "outputs": [],
   "source": [
    "import keras\n",
    "from tensorflow.keras.datasets import mnist\n",
    "from tensorflow.keras.layers import Dense, Flatten\n",
    "from tensorflow.keras.models import Sequential\n",
    "from tensorflow.keras.optimizers import RMSprop\n",
    "from tensorflow.keras.utils import to_categorical"
   ]
  },
  {
   "cell_type": "code",
   "execution_count": null,
   "id": "62ccc9f1-51bd-4c83-921e-783a4ddb54a8",
   "metadata": {},
   "outputs": [],
   "source": [
    "(x_train, y_train), (x_test, y_test) = mnist.load_data()\n",
    "\n",
    "x_train = x_train.reshape(-1, 28, 28, 1).astype('float32') / 255\n",
    "x_test = x_test.reshape(-1, 28, 28, 1).astype('float32') / 255\n"
   ]
  },
  {
   "cell_type": "code",
   "execution_count": null,
   "id": "12f7f44d-cb38-4864-9a04-8e07d2c630ac",
   "metadata": {},
   "outputs": [],
   "source": [
    "print(x_train.shape)"
   ]
  },
  {
   "cell_type": "code",
   "execution_count": null,
   "id": "bbcb5d32-bb0b-4da0-ba7e-266cbf48ae11",
   "metadata": {},
   "outputs": [],
   "source": [
    "# convert class vectors to binary class matrices\n",
    "y_train = keras.utils.to_categorical(y_train, 10)\n",
    "y_test = keras.utils.to_categorical(y_test, 10)"
   ]
  },
  {
   "cell_type": "code",
   "execution_count": null,
   "id": "0ea736fb-a5cc-4035-af6a-e314f26561df",
   "metadata": {},
   "outputs": [],
   "source": [
    "def build_model_graph(experiment):\n",
    "    model = Sequential()\n",
    "    model.add(Flatten(input_shape=(28, 28, 1)))  # Flatten layer to reshape (28,28,1) to (784,)\n",
    "    model.add(\n",
    "        Dense(\n",
    "            experiment.get_parameter(\"first_layer_units\"),\n",
    "            activation=\"sigmoid\",\n",
    "            input_shape=(784,),\n",
    "        )\n",
    "    )\n",
    "    model.add(Dense(128, activation=\"sigmoid\"))\n",
    "    model.add(Dense(128, activation=\"sigmoid\"))\n",
    "    model.add(Dense(10, activation=\"softmax\"))\n",
    "    model.compile(\n",
    "        loss=\"categorical_crossentropy\",\n",
    "        optimizer=RMSprop(),\n",
    "        metrics=[\"accuracy\"],\n",
    "    )\n",
    "    return model\n",
    "\n",
    "\n",
    "def train(experiment, model, x_train, y_train, x_test, y_test):\n",
    "    model.fit(\n",
    "        x_train,\n",
    "        y_train,\n",
    "        batch_size=experiment.get_parameter(\"batch_size\"),\n",
    "        epochs=experiment.get_parameter(\"epochs\"),\n",
    "        validation_data=(x_test, y_test),\n",
    "    )\n",
    "\n",
    "\n",
    "def evaluate(experiment, model, x_test, y_test):\n",
    "    score = model.evaluate(x_test, y_test, verbose=0)\n",
    "    print(\"Score %s\", score)\n",
    "\n"
   ]
  },
  {
   "cell_type": "code",
   "execution_count": null,
   "id": "7b9551ea-cb1a-4958-b3d4-0b297fab8e54",
   "metadata": {},
   "outputs": [],
   "source": [
    "# The optimization config:\n",
    "config = {\n",
    "    \"algorithm\": \"random\",  # Change to random search\n",
    "    \"name\": \"Optimize MNIST Network with Random Search\",\n",
    "    \"spec\": {\"maxCombo\": 15, \"objective\": \"minimize\", \"metric\": \"loss\"},\n",
    "    \"parameters\": {\n",
    "        \"first_layer_units\": {\n",
    "            \"type\": \"integer\",\n",
    "            \"min\": 8,\n",
    "            \"max\": 64,\n",
    "        },\n",
    "        \"batch_size\": {\n",
    "            \"type\": \"discrete\",\n",
    "            \"values\": [8, 16, 32],\n",
    "        },\n",
    "        \"learning_rate\": {\n",
    "            \"type\": \"float\",\n",
    "            \"min\": 0.0001,\n",
    "            \"max\": 0.01,\n",
    "        },\n",
    "    },\n",
    "    \"trials\": 1,\n",
    "}\n",
    "opt = comet_ml.Optimizer(config)"
   ]
  },
  {
   "cell_type": "code",
   "execution_count": null,
   "id": "180bee4f-fe81-4e86-bba0-c652d278fa5f",
   "metadata": {},
   "outputs": [],
   "source": [
    "for experiment in opt.get_experiments():\n",
    "    # Log parameters, or others:\n",
    "    experiment.log_parameter(\"epochs\", 10)\n",
    "\n",
    "    # Build the model:\n",
    "    model = build_model_graph(experiment)\n",
    "\n",
    "    # Train it:\n",
    "    train(experiment, model, x_train, y_train, x_test, y_test)\n",
    "\n",
    "    # How well did it do?\n",
    "    evaluate(experiment, model, x_test, y_test)\n",
    "\n",
    "    # Optionally, end the experiment:\n",
    "    experiment.end()"
   ]
  },
  {
   "cell_type": "code",
   "execution_count": null,
   "id": "0f7a3999-f73c-4b5b-89fe-d38e66d3a44c",
   "metadata": {},
   "outputs": [],
   "source": [
    "# Configuration for the optimizer\n",
    "config = {\n",
    "    \"algorithm\": \"random\",  # Random search for hyperparameter optimization\n",
    "    \"name\": \"Optimize MNIST Network with Random Search\",\n",
    "    \"spec\": {\"maxCombo\": 15, \"objective\": \"minimize\", \"metric\": \"loss\"},  # Optimization details\n",
    "    \"parameters\": {  # Hyperparameter definitions\n",
    "        \"first_layer_units\": {\"type\": \"integer\", \"min\": 8, \"max\": 64},  # Number of units in the first layer\n",
    "        \"batch_size\": {\"type\": \"discrete\", \"values\": [8, 16, 32]},  # Batch size options\n",
    "        \"learning_rate\": {\"type\": \"float\", \"min\": 0.0001, \"max\": 0.01},  # Learning rate range\n",
    "    },\n",
    "    \"trials\": 1,  # Number of trials to run\n",
    "}\n",
    "\n",
    "# Initialize the optimizer with the given configuration\n",
    "opt = comet_ml.Optimizer(config)\n",
    "\n",
    "# Iterate over experiments generated by the optimizer\n",
    "for experiment in opt.get_experiments():\n",
    "    experiment.log_parameter(\"epochs\", 10)  # Log fixed parameter: number of epochs\n",
    "\n",
    "    model = build_model_graph(experiment)  # Build the model with the experiment's parameters\n",
    "    train(experiment, model, x_train, y_train, x_test, y_test)  # Train the model on the dataset\n",
    "    evaluate(experiment, model, x_test, y_test)  # Evaluate the model's performance\n",
    "\n",
    "    experiment.end()  # End the experiment (optional but recommended)\n"
   ]
  }
 ],
 "metadata": {
  "kernelspec": {
   "display_name": "Python 3 (ipykernel)",
   "language": "python",
   "name": "python3"
  },
  "language_info": {
   "codemirror_mode": {
    "name": "ipython",
    "version": 3
   },
   "file_extension": ".py",
   "mimetype": "text/x-python",
   "name": "python",
   "nbconvert_exporter": "python",
   "pygments_lexer": "ipython3",
   "version": "3.10.12"
  }
 },
 "nbformat": 4,
 "nbformat_minor": 5
}
