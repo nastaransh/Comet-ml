{
 "cells": [
  {
   "cell_type": "code",
   "execution_count": 1,
   "id": "8a920335-4bc3-472b-a730-aefdb99c665c",
   "metadata": {},
   "outputs": [
    {
     "name": "stdout",
     "output_type": "stream",
     "text": [
      "http://squid-compute101:3128\n"
     ]
    }
   ],
   "source": [
    "!echo $http_proxy"
   ]
  },
  {
   "cell_type": "code",
   "execution_count": 2,
   "id": "9a8420dd-8c36-48a7-9539-05362ea729bc",
   "metadata": {},
   "outputs": [],
   "source": [
    "import comet_ml\n",
    "\n",
    "comet_ml.login(project_name=\"Random_search\")"
   ]
  },
  {
   "cell_type": "code",
   "execution_count": 3,
   "id": "ab807d0e-b714-4cca-97ec-dee9fd38323a",
   "metadata": {},
   "outputs": [
    {
     "name": "stderr",
     "output_type": "stream",
     "text": [
      "2024-11-26 13:01:46.438839: I tensorflow/core/platform/cpu_feature_guard.cc:210] This TensorFlow binary is optimized to use available CPU instructions in performance-critical operations.\n",
      "To enable the following instructions: AVX2 FMA, in other operations, rebuild TensorFlow with the appropriate compiler flags.\n"
     ]
    }
   ],
   "source": [
    "import keras\n",
    "from tensorflow.keras.datasets import mnist\n",
    "from tensorflow.keras.layers import Dense, Flatten\n",
    "from tensorflow.keras.models import Sequential\n",
    "from tensorflow.keras.optimizers import RMSprop\n",
    "from tensorflow.keras.utils import to_categorical"
   ]
  },
  {
   "cell_type": "code",
   "execution_count": 4,
   "id": "62ccc9f1-51bd-4c83-921e-783a4ddb54a8",
   "metadata": {},
   "outputs": [],
   "source": [
    "(x_train, y_train), (x_test, y_test) = mnist.load_data()\n",
    "\n",
    "x_train = x_train.reshape(-1, 28, 28, 1).astype('float32') / 255\n",
    "x_test = x_test.reshape(-1, 28, 28, 1).astype('float32') / 255\n"
   ]
  },
  {
   "cell_type": "code",
   "execution_count": 5,
   "id": "12f7f44d-cb38-4864-9a04-8e07d2c630ac",
   "metadata": {},
   "outputs": [
    {
     "name": "stdout",
     "output_type": "stream",
     "text": [
      "(60000, 28, 28, 1)\n"
     ]
    }
   ],
   "source": [
    "print(x_train.shape)"
   ]
  },
  {
   "cell_type": "code",
   "execution_count": 6,
   "id": "bbcb5d32-bb0b-4da0-ba7e-266cbf48ae11",
   "metadata": {},
   "outputs": [],
   "source": [
    "# convert class vectors to binary class matrices\n",
    "y_train = keras.utils.to_categorical(y_train, 10)\n",
    "y_test = keras.utils.to_categorical(y_test, 10)"
   ]
  },
  {
   "cell_type": "code",
   "execution_count": 7,
   "id": "0ea736fb-a5cc-4035-af6a-e314f26561df",
   "metadata": {},
   "outputs": [],
   "source": [
    "def build_model_graph(experiment):\n",
    "    model = Sequential()\n",
    "    model.add(Flatten(input_shape=(28, 28, 1)))  # Flatten layer to reshape (28,28,1) to (784,)\n",
    "    model.add(\n",
    "        Dense(\n",
    "            experiment.get_parameter(\"first_layer_units\"),\n",
    "            activation=\"sigmoid\",\n",
    "            input_shape=(784,),\n",
    "        )\n",
    "    )\n",
    "    model.add(Dense(128, activation=\"sigmoid\"))\n",
    "    model.add(Dense(128, activation=\"sigmoid\"))\n",
    "    model.add(Dense(10, activation=\"softmax\"))\n",
    "    model.compile(\n",
    "        loss=\"categorical_crossentropy\",\n",
    "        optimizer=RMSprop(),\n",
    "        metrics=[\"accuracy\"],\n",
    "    )\n",
    "    return model\n",
    "\n",
    "\n",
    "def train(experiment, model, x_train, y_train, x_test, y_test):\n",
    "    model.fit(\n",
    "        x_train,\n",
    "        y_train,\n",
    "        batch_size=experiment.get_parameter(\"batch_size\"),\n",
    "        epochs=experiment.get_parameter(\"epochs\"),\n",
    "        validation_data=(x_test, y_test),\n",
    "    )\n",
    "\n",
    "\n",
    "def evaluate(experiment, model, x_test, y_test):\n",
    "    score = model.evaluate(x_test, y_test, verbose=0)\n",
    "    print(\"Score %s\", score)\n",
    "\n"
   ]
  },
  {
   "cell_type": "code",
   "execution_count": 8,
   "id": "7b9551ea-cb1a-4958-b3d4-0b297fab8e54",
   "metadata": {},
   "outputs": [
    {
     "name": "stderr",
     "output_type": "stream",
     "text": [
      "\u001b[1;38;5;39mCOMET INFO:\u001b[0m 61fe9926a0b2429ab77580bbf796ca33\n",
      "\u001b[1;38;5;39mCOMET INFO:\u001b[0m Using optimizer config: {'algorithm': 'random', 'configSpaceSize': 300, 'endTime': None, 'id': '61fe9926a0b2429ab77580bbf796ca33', 'lastUpdateTime': None, 'maxCombo': 15, 'name': 'Optimize MNIST Network with Random Search', 'parameters': {'batch_size': {'type': 'discrete', 'values': [8, 16, 32]}, 'first_layer_units': {'max': 64, 'min': 8, 'scalingType': 'uniform', 'type': 'integer'}, 'learning_rate': {'max': 0.01, 'min': 0.0001, 'scalingType': 'uniform', 'type': 'float'}}, 'predictor': None, 'spec': {'gridSize': 10, 'maxCombo': 15, 'metric': 'loss', 'minSampleSize': 100, 'objective': 'minimize', 'retryAssignLimit': 0, 'retryLimit': 1000}, 'startTime': 6051966556, 'state': {'mode': None, 'seed': 3619596592, 'sequence': [], 'sequence_i': 0, 'sequence_pid': None, 'sequence_retry': 0, 'sequence_retry_count': 0}, 'status': 'running', 'suggestion_count': 0, 'trials': 1, 'version': '2.1.2'}\n"
     ]
    }
   ],
   "source": [
    "# The optimization config:\n",
    "config = {\n",
    "    \"algorithm\": \"random\",  # Change to random search\n",
    "    \"name\": \"Optimize MNIST Network with Random Search\",\n",
    "    \"spec\": {\"maxCombo\": 15, \"objective\": \"minimize\", \"metric\": \"loss\"},\n",
    "    \"parameters\": {\n",
    "        \"first_layer_units\": {\n",
    "            \"type\": \"integer\",\n",
    "            \"min\": 8,\n",
    "            \"max\": 64,\n",
    "        },\n",
    "        \"batch_size\": {\n",
    "            \"type\": \"discrete\",\n",
    "            \"values\": [8, 16, 32],\n",
    "        },\n",
    "        \"learning_rate\": {\n",
    "            \"type\": \"float\",\n",
    "            \"min\": 0.0001,\n",
    "            \"max\": 0.01,\n",
    "        },\n",
    "    },\n",
    "    \"trials\": 1,\n",
    "}\n",
    "opt = comet_ml.Optimizer(config)"
   ]
  },
  {
   "cell_type": "code",
   "execution_count": 9,
   "id": "180bee4f-fe81-4e86-bba0-c652d278fa5f",
   "metadata": {},
   "outputs": [
    {
     "name": "stderr",
     "output_type": "stream",
     "text": [
      "\u001b[1;38;5;214mCOMET WARNING:\u001b[0m As you are running in a Jupyter environment, you will need to call `experiment.end()` when finished to ensure all metrics and code are logged before exiting.\n",
      "\u001b[1;38;5;39mCOMET INFO:\u001b[0m Experiment is live on comet.com https://www.comet.com/nast69/random-search/b74e0b9b928d4ebb870facb1ff814ae6\n",
      "\n",
      "/lustre06/project/6078700/nast/comet/ENV/lib/python3.11/site-packages/keras/src/layers/reshaping/flatten.py:37: UserWarning: Do not pass an `input_shape`/`input_dim` argument to a layer. When using Sequential models, prefer using an `Input(shape)` object as the first layer in the model instead.\n",
      "  super().__init__(**kwargs)\n",
      "/lustre06/project/6078700/nast/comet/ENV/lib/python3.11/site-packages/keras/src/layers/core/dense.py:87: UserWarning: Do not pass an `input_shape`/`input_dim` argument to a layer. When using Sequential models, prefer using an `Input(shape)` object as the first layer in the model instead.\n",
      "  super().__init__(activity_regularizer=activity_regularizer, **kwargs)\n",
      "2024-11-26 13:05:50.382639: I tensorflow/core/common_runtime/gpu/gpu_device.cc:1928] Created device /job:localhost/replica:0/task:0/device:GPU:0 with 38366 MB memory:  -> device: 0, name: NVIDIA A100-SXM4-40GB, pci bus id: 0000:41:00.0, compute capability: 8.0\n",
      "\u001b[1;38;5;39mCOMET INFO:\u001b[0m Couldn't find a Git repository in '/lustre06/project/6078700/nast/comet' nor in any parent directory. Set `COMET_GIT_DIRECTORY` if your Git Repository is elsewhere.\n",
      "\u001b[1;38;5;39mCOMET INFO:\u001b[0m Ignoring automatic log_parameter('verbose') because 'keras:verbose' is in COMET_LOGGING_PARAMETERS_IGNORE\n"
     ]
    },
    {
     "name": "stdout",
     "output_type": "stream",
     "text": [
      "Epoch 1/10\n"
     ]
    },
    {
     "name": "stderr",
     "output_type": "stream",
     "text": [
      "WARNING: All log messages before absl::InitializeLog() is called are written to STDERR\n",
      "I0000 00:00:1732644355.220520 1136148 service.cc:145] XLA service 0x14d7e8014b50 initialized for platform CUDA (this does not guarantee that XLA will be used). Devices:\n",
      "I0000 00:00:1732644355.220697 1136148 service.cc:153]   StreamExecutor device (0): NVIDIA A100-SXM4-40GB, Compute Capability 8.0\n",
      "2024-11-26 13:05:55.451969: I tensorflow/compiler/mlir/tensorflow/utils/dump_mlir_util.cc:268] disabling MLIR crash reproducer, set env var `MLIR_CRASH_REPRODUCER_DIRECTORY` to enable.\n",
      "2024-11-26 13:05:55.583672: I external/local_xla/xla/stream_executor/cuda/cuda_dnn.cc:465] Loaded cuDNN version 8905\n",
      "2024-11-26 13:05:55.618604: W external/local_xla/xla/service/gpu/triton_autotuner.cc:660] Compiling 71 configs for 7 fusions on a single thread.\n"
     ]
    },
    {
     "name": "stdout",
     "output_type": "stream",
     "text": [
      "\u001b[1m 186/7500\u001b[0m \u001b[37m━━━━━━━━━━━━━━━━━━━━\u001b[0m \u001b[1m5s\u001b[0m 818us/step - accuracy: 0.1547 - loss: 2.3049"
     ]
    },
    {
     "name": "stderr",
     "output_type": "stream",
     "text": [
      "I0000 00:00:1732644362.095296 1136148 device_compiler.h:188] Compiled cluster using XLA!  This line is logged at most once for the lifetime of the process.\n"
     ]
    },
    {
     "name": "stdout",
     "output_type": "stream",
     "text": [
      "\u001b[1m7500/7500\u001b[0m \u001b[32m━━━━━━━━━━━━━━━━━━━━\u001b[0m\u001b[37m\u001b[0m \u001b[1m15s\u001b[0m 958us/step - accuracy: 0.7442 - loss: 0.7924 - val_accuracy: 0.9347 - val_loss: 0.2227\n",
      "Epoch 2/10\n",
      "\u001b[1m7500/7500\u001b[0m \u001b[32m━━━━━━━━━━━━━━━━━━━━\u001b[0m\u001b[37m\u001b[0m \u001b[1m7s\u001b[0m 879us/step - accuracy: 0.9401 - loss: 0.2061 - val_accuracy: 0.9487 - val_loss: 0.1786\n",
      "Epoch 3/10\n",
      "\u001b[1m7500/7500\u001b[0m \u001b[32m━━━━━━━━━━━━━━━━━━━━\u001b[0m\u001b[37m\u001b[0m \u001b[1m7s\u001b[0m 884us/step - accuracy: 0.9551 - loss: 0.1548 - val_accuracy: 0.9570 - val_loss: 0.1542\n",
      "Epoch 4/10\n",
      "\u001b[1m7500/7500\u001b[0m \u001b[32m━━━━━━━━━━━━━━━━━━━━\u001b[0m\u001b[37m\u001b[0m \u001b[1m7s\u001b[0m 939us/step - accuracy: 0.9625 - loss: 0.1311 - val_accuracy: 0.9641 - val_loss: 0.1293\n",
      "Epoch 5/10\n",
      "\u001b[1m7500/7500\u001b[0m \u001b[32m━━━━━━━━━━━━━━━━━━━━\u001b[0m\u001b[37m\u001b[0m \u001b[1m7s\u001b[0m 889us/step - accuracy: 0.9682 - loss: 0.1156 - val_accuracy: 0.9646 - val_loss: 0.1325\n",
      "Epoch 6/10\n",
      "\u001b[1m7500/7500\u001b[0m \u001b[32m━━━━━━━━━━━━━━━━━━━━\u001b[0m\u001b[37m\u001b[0m \u001b[1m7s\u001b[0m 876us/step - accuracy: 0.9720 - loss: 0.1034 - val_accuracy: 0.9679 - val_loss: 0.1310\n",
      "Epoch 7/10\n",
      "\u001b[1m7500/7500\u001b[0m \u001b[32m━━━━━━━━━━━━━━━━━━━━\u001b[0m\u001b[37m\u001b[0m \u001b[1m7s\u001b[0m 878us/step - accuracy: 0.9726 - loss: 0.1014 - val_accuracy: 0.9659 - val_loss: 0.1343\n",
      "Epoch 8/10\n",
      "\u001b[1m7500/7500\u001b[0m \u001b[32m━━━━━━━━━━━━━━━━━━━━\u001b[0m\u001b[37m\u001b[0m \u001b[1m7s\u001b[0m 885us/step - accuracy: 0.9749 - loss: 0.0920 - val_accuracy: 0.9664 - val_loss: 0.1335\n",
      "Epoch 9/10\n",
      "\u001b[1m7500/7500\u001b[0m \u001b[32m━━━━━━━━━━━━━━━━━━━━\u001b[0m\u001b[37m\u001b[0m \u001b[1m10s\u001b[0m 880us/step - accuracy: 0.9772 - loss: 0.0870 - val_accuracy: 0.9682 - val_loss: 0.1301\n",
      "Epoch 10/10\n",
      "\u001b[1m7500/7500\u001b[0m \u001b[32m━━━━━━━━━━━━━━━━━━━━\u001b[0m\u001b[37m\u001b[0m \u001b[1m7s\u001b[0m 878us/step - accuracy: 0.9787 - loss: 0.0828 - val_accuracy: 0.9688 - val_loss: 0.1285\n"
     ]
    },
    {
     "name": "stderr",
     "output_type": "stream",
     "text": [
      "\u001b[1;38;5;196mCOMET ERROR:\u001b[0m Data loss. Too many Metrics updates. Only 10000 allowed per experiment per 45 seconds. Reduce logging or request higher limits from Comet admin.\n",
      "2024-11-26 13:07:13.522739: W external/local_xla/xla/service/gpu/triton_autotuner.cc:660] Compiling 57 configs for 3 fusions on a single thread.\n",
      "2024-11-26 13:07:20.520404: W external/local_xla/xla/service/gpu/triton_autotuner.cc:660] Compiling 52 configs for 3 fusions on a single thread.\n",
      "\u001b[1;38;5;196mCOMET ERROR:\u001b[0m Data loss. Too many Metrics updates. Only 10000 allowed per experiment per 45 seconds. Reduce logging or request higher limits from Comet admin.\n",
      "\u001b[1;38;5;39mCOMET INFO:\u001b[0m ---------------------------------------------------------------------------------------\n",
      "\u001b[1;38;5;39mCOMET INFO:\u001b[0m Comet.ml Experiment Summary\n",
      "\u001b[1;38;5;39mCOMET INFO:\u001b[0m ---------------------------------------------------------------------------------------\n",
      "\u001b[1;38;5;39mCOMET INFO:\u001b[0m   Data:\n",
      "\u001b[1;38;5;39mCOMET INFO:\u001b[0m     display_summary_level : 1\n",
      "\u001b[1;38;5;39mCOMET INFO:\u001b[0m     name                  : spicy_rambutan_1076\n",
      "\u001b[1;38;5;39mCOMET INFO:\u001b[0m     url                   : https://www.comet.com/nast69/random-search/b74e0b9b928d4ebb870facb1ff814ae6\n",
      "\u001b[1;38;5;39mCOMET INFO:\u001b[0m   Metrics [count] (min, max):\n",
      "\u001b[1;38;5;39mCOMET INFO:\u001b[0m     accuracy [10]                  : (0.8635833263397217, 0.9781166911125183)\n",
      "\u001b[1;38;5;39mCOMET INFO:\u001b[0m     batch_accuracy [7500]          : (0.09090909361839294, 1.0)\n",
      "\u001b[1;38;5;39mCOMET INFO:\u001b[0m     batch_loss [7500]              : (0.00017040877719409764, 2.393873453140259)\n",
      "\u001b[1;38;5;39mCOMET INFO:\u001b[0m     epoch_duration [10]            : (6.591757438000059, 14.766021727002226)\n",
      "\u001b[1;38;5;39mCOMET INFO:\u001b[0m     loss [10]                      : (0.08602126687765121, 0.4485194981098175)\n",
      "\u001b[1;38;5;39mCOMET INFO:\u001b[0m     val_accuracy [10]              : (0.9347000122070312, 0.9688000082969666)\n",
      "\u001b[1;38;5;39mCOMET INFO:\u001b[0m     val_loss [10]                  : (0.12845684587955475, 0.222694993019104)\n",
      "\u001b[1;38;5;39mCOMET INFO:\u001b[0m     validate_batch_accuracy [1250] : (0.915996789932251, 1.0)\n",
      "\u001b[1;38;5;39mCOMET INFO:\u001b[0m     validate_batch_loss [1250]     : (0.0018770612077787519, 0.28361302614212036)\n",
      "\u001b[1;38;5;39mCOMET INFO:\u001b[0m   Others:\n",
      "\u001b[1;38;5;39mCOMET INFO:\u001b[0m     optimizer_count        : 1\n",
      "\u001b[1;38;5;39mCOMET INFO:\u001b[0m     optimizer_id           : 61fe9926a0b2429ab77580bbf796ca33\n",
      "\u001b[1;38;5;39mCOMET INFO:\u001b[0m     optimizer_metric       : loss\n",
      "\u001b[1;38;5;39mCOMET INFO:\u001b[0m     optimizer_metric_value : 0.08602126687765121\n",
      "\u001b[1;38;5;39mCOMET INFO:\u001b[0m     optimizer_name         : Optimize MNIST Network with Random Search\n",
      "\u001b[1;38;5;39mCOMET INFO:\u001b[0m     optimizer_objective    : minimum\n",
      "\u001b[1;38;5;39mCOMET INFO:\u001b[0m     optimizer_parameters   : {\"batch_size\": 8, \"first_layer_units\": 58, \"learning_rate\": 0.0018529142680082564}\n",
      "\u001b[1;38;5;39mCOMET INFO:\u001b[0m     optimizer_pid          : 757ee89554b042d3679cca88d14d06cdaab9bc1e\n",
      "\u001b[1;38;5;39mCOMET INFO:\u001b[0m     optimizer_process      : 1123214\n",
      "\u001b[1;38;5;39mCOMET INFO:\u001b[0m     optimizer_trial        : 1\n"
     ]
    },
    {
     "name": "stdout",
     "output_type": "stream",
     "text": [
      "Score %s [0.12845690548419952, 0.9688000082969666]\n"
     ]
    },
    {
     "name": "stderr",
     "output_type": "stream",
     "text": [
      "\u001b[1;38;5;39mCOMET INFO:\u001b[0m     optimizer_version      : 2.1.2\n",
      "\u001b[1;38;5;39mCOMET INFO:\u001b[0m     trainable_params       : 70884\n",
      "\u001b[1;38;5;39mCOMET INFO:\u001b[0m   Parameters:\n",
      "\u001b[1;38;5;39mCOMET INFO:\u001b[0m     Optimizer                           : rmsprop\n",
      "\u001b[1;38;5;39mCOMET INFO:\u001b[0m     RMSprop_centered                    : False\n",
      "\u001b[1;38;5;39mCOMET INFO:\u001b[0m     RMSprop_clipnorm                    : None\n",
      "\u001b[1;38;5;39mCOMET INFO:\u001b[0m     RMSprop_clipvalue                   : None\n",
      "\u001b[1;38;5;39mCOMET INFO:\u001b[0m     RMSprop_ema_momentum                : 0.99\n",
      "\u001b[1;38;5;39mCOMET INFO:\u001b[0m     RMSprop_ema_overwrite_frequency     : None\n",
      "\u001b[1;38;5;39mCOMET INFO:\u001b[0m     RMSprop_epsilon                     : 1e-07\n",
      "\u001b[1;38;5;39mCOMET INFO:\u001b[0m     RMSprop_global_clipnorm             : None\n",
      "\u001b[1;38;5;39mCOMET INFO:\u001b[0m     RMSprop_gradient_accumulation_steps : None\n",
      "\u001b[1;38;5;39mCOMET INFO:\u001b[0m     RMSprop_learning_rate               : 0.0010000000474974513\n",
      "\u001b[1;38;5;39mCOMET INFO:\u001b[0m     RMSprop_loss_scale_factor           : None\n",
      "\u001b[1;38;5;39mCOMET INFO:\u001b[0m     RMSprop_momentum                    : 0.0\n",
      "\u001b[1;38;5;39mCOMET INFO:\u001b[0m     RMSprop_name                        : rmsprop\n",
      "\u001b[1;38;5;39mCOMET INFO:\u001b[0m     RMSprop_rho                         : 0.9\n",
      "\u001b[1;38;5;39mCOMET INFO:\u001b[0m     RMSprop_use_ema                     : False\n",
      "\u001b[1;38;5;39mCOMET INFO:\u001b[0m     RMSprop_weight_decay                : None\n",
      "\u001b[1;38;5;39mCOMET INFO:\u001b[0m     batch_size                          : 8\n",
      "\u001b[1;38;5;39mCOMET INFO:\u001b[0m     epochs                              : 10\n",
      "\u001b[1;38;5;39mCOMET INFO:\u001b[0m     first_layer_units                   : 58\n",
      "\u001b[1;38;5;39mCOMET INFO:\u001b[0m     learning_rate                       : 0.0018529142680082564\n",
      "\u001b[1;38;5;39mCOMET INFO:\u001b[0m     rmsprop_centered                    : False\n",
      "\u001b[1;38;5;39mCOMET INFO:\u001b[0m     rmsprop_clipnorm                    : None\n",
      "\u001b[1;38;5;39mCOMET INFO:\u001b[0m     rmsprop_clipvalue                   : None\n",
      "\u001b[1;38;5;39mCOMET INFO:\u001b[0m     rmsprop_ema_momentum                : 0.99\n",
      "\u001b[1;38;5;39mCOMET INFO:\u001b[0m     rmsprop_ema_overwrite_frequency     : None\n",
      "\u001b[1;38;5;39mCOMET INFO:\u001b[0m     rmsprop_epsilon                     : 1e-07\n",
      "\u001b[1;38;5;39mCOMET INFO:\u001b[0m     rmsprop_global_clipnorm             : None\n",
      "\u001b[1;38;5;39mCOMET INFO:\u001b[0m     rmsprop_gradient_accumulation_steps : None\n",
      "\u001b[1;38;5;39mCOMET INFO:\u001b[0m     rmsprop_learning_rate               : 0.0010000000474974513\n",
      "\u001b[1;38;5;39mCOMET INFO:\u001b[0m     rmsprop_loss_scale_factor           : None\n",
      "\u001b[1;38;5;39mCOMET INFO:\u001b[0m     rmsprop_momentum                    : 0.0\n",
      "\u001b[1;38;5;39mCOMET INFO:\u001b[0m     rmsprop_rho                         : 0.9\n",
      "\u001b[1;38;5;39mCOMET INFO:\u001b[0m     rmsprop_use_ema                     : False\n",
      "\u001b[1;38;5;39mCOMET INFO:\u001b[0m     rmsprop_weight_decay                : None\n",
      "\u001b[1;38;5;39mCOMET INFO:\u001b[0m     steps                               : 7500\n",
      "\u001b[1;38;5;39mCOMET INFO:\u001b[0m   Uploads:\n",
      "\u001b[1;38;5;39mCOMET INFO:\u001b[0m     environment details : 1\n",
      "\u001b[1;38;5;39mCOMET INFO:\u001b[0m     filename            : 1\n",
      "\u001b[1;38;5;39mCOMET INFO:\u001b[0m     installed packages  : 1\n",
      "\u001b[1;38;5;39mCOMET INFO:\u001b[0m     model graph         : 1\n",
      "\u001b[1;38;5;39mCOMET INFO:\u001b[0m     notebook            : 1\n",
      "\u001b[1;38;5;39mCOMET INFO:\u001b[0m     source_code         : 1\n",
      "\u001b[1;38;5;39mCOMET INFO:\u001b[0m \n",
      "\u001b[1;38;5;214mCOMET WARNING:\u001b[0m Experiment has been throttled. Some data (like experiment metrics) might be missing. Mission-critical data, like Artifacts, are never throttled.\n",
      "Reason(s) of the experiment being throttled: metrics\n",
      "\u001b[1;38;5;214mCOMET WARNING:\u001b[0m As you are running in a Jupyter environment, you will need to call `experiment.end()` when finished to ensure all metrics and code are logged before exiting.\n",
      "\u001b[1;38;5;39mCOMET INFO:\u001b[0m Couldn't find a Git repository in '/lustre06/project/6078700/nast/comet' nor in any parent directory. Set `COMET_GIT_DIRECTORY` if your Git Repository is elsewhere.\n",
      "\u001b[1;38;5;39mCOMET INFO:\u001b[0m Experiment is live on comet.com https://www.comet.com/nast69/random-search/12fad0a109f248f6a114a76346d9247e\n",
      "\n"
     ]
    },
    {
     "name": "stdout",
     "output_type": "stream",
     "text": [
      "Epoch 1/10\n"
     ]
    },
    {
     "name": "stderr",
     "output_type": "stream",
     "text": [
      "2024-11-26 13:07:29.013601: W external/local_xla/xla/service/gpu/triton_autotuner.cc:660] Compiling 32 configs for 3 fusions on a single thread.\n"
     ]
    },
    {
     "name": "stdout",
     "output_type": "stream",
     "text": [
      "\u001b[1m7500/7500\u001b[0m \u001b[32m━━━━━━━━━━━━━━━━━━━━\u001b[0m\u001b[37m\u001b[0m \u001b[1m11s\u001b[0m 950us/step - accuracy: 0.6987 - loss: 0.9011 - val_accuracy: 0.9274 - val_loss: 0.2568\n",
      "Epoch 2/10\n",
      "\u001b[1m7500/7500\u001b[0m \u001b[32m━━━━━━━━━━━━━━━━━━━━\u001b[0m\u001b[37m\u001b[0m \u001b[1m7s\u001b[0m 875us/step - accuracy: 0.9246 - loss: 0.2558 - val_accuracy: 0.9389 - val_loss: 0.2113\n",
      "Epoch 3/10\n",
      "\u001b[1m7500/7500\u001b[0m \u001b[32m━━━━━━━━━━━━━━━━━━━━\u001b[0m\u001b[37m\u001b[0m \u001b[1m7s\u001b[0m 869us/step - accuracy: 0.9409 - loss: 0.2088 - val_accuracy: 0.9387 - val_loss: 0.2092\n",
      "Epoch 4/10\n",
      "\u001b[1m7500/7500\u001b[0m \u001b[32m━━━━━━━━━━━━━━━━━━━━\u001b[0m\u001b[37m\u001b[0m \u001b[1m10s\u001b[0m 877us/step - accuracy: 0.9489 - loss: 0.1766 - val_accuracy: 0.9488 - val_loss: 0.1803\n",
      "Epoch 5/10\n",
      "\u001b[1m7500/7500\u001b[0m \u001b[32m━━━━━━━━━━━━━━━━━━━━\u001b[0m\u001b[37m\u001b[0m \u001b[1m7s\u001b[0m 877us/step - accuracy: 0.9564 - loss: 0.1573 - val_accuracy: 0.9558 - val_loss: 0.1598\n",
      "Epoch 6/10\n",
      "\u001b[1m7500/7500\u001b[0m \u001b[32m━━━━━━━━━━━━━━━━━━━━\u001b[0m\u001b[37m\u001b[0m \u001b[1m7s\u001b[0m 872us/step - accuracy: 0.9591 - loss: 0.1441 - val_accuracy: 0.9514 - val_loss: 0.1698\n",
      "Epoch 7/10\n",
      "\u001b[1m7500/7500\u001b[0m \u001b[32m━━━━━━━━━━━━━━━━━━━━\u001b[0m\u001b[37m\u001b[0m \u001b[1m7s\u001b[0m 872us/step - accuracy: 0.9613 - loss: 0.1374 - val_accuracy: 0.9601 - val_loss: 0.1561\n",
      "Epoch 8/10\n",
      "\u001b[1m7500/7500\u001b[0m \u001b[32m━━━━━━━━━━━━━━━━━━━━\u001b[0m\u001b[37m\u001b[0m \u001b[1m7s\u001b[0m 871us/step - accuracy: 0.9636 - loss: 0.1323 - val_accuracy: 0.9598 - val_loss: 0.1495\n",
      "Epoch 9/10\n",
      "\u001b[1m7500/7500\u001b[0m \u001b[32m━━━━━━━━━━━━━━━━━━━━\u001b[0m\u001b[37m\u001b[0m \u001b[1m7s\u001b[0m 879us/step - accuracy: 0.9641 - loss: 0.1269 - val_accuracy: 0.9592 - val_loss: 0.1508\n",
      "Epoch 10/10\n",
      "\u001b[1m7500/7500\u001b[0m \u001b[32m━━━━━━━━━━━━━━━━━━━━\u001b[0m\u001b[37m\u001b[0m \u001b[1m7s\u001b[0m 870us/step - accuracy: 0.9654 - loss: 0.1248 - val_accuracy: 0.9526 - val_loss: 0.1864\n"
     ]
    },
    {
     "name": "stderr",
     "output_type": "stream",
     "text": [
      "2024-11-26 13:08:42.137729: W external/local_xla/xla/service/gpu/triton_autotuner.cc:656] Compiling 16 configs for triton_gemm_dot.50 on a single thread.\n",
      "\u001b[1;38;5;196mCOMET ERROR:\u001b[0m Data loss. Too many Metrics updates. Only 10000 allowed per experiment per 45 seconds. Reduce logging or request higher limits from Comet admin.\n",
      "2024-11-26 13:08:44.682283: W external/local_xla/xla/service/gpu/triton_autotuner.cc:656] Compiling 13 configs for triton_gemm_dot.50 on a single thread.\n",
      "\u001b[1;38;5;39mCOMET INFO:\u001b[0m ---------------------------------------------------------------------------------------\n",
      "\u001b[1;38;5;39mCOMET INFO:\u001b[0m Comet.ml Experiment Summary\n",
      "\u001b[1;38;5;39mCOMET INFO:\u001b[0m ---------------------------------------------------------------------------------------\n",
      "\u001b[1;38;5;39mCOMET INFO:\u001b[0m   Data:\n",
      "\u001b[1;38;5;39mCOMET INFO:\u001b[0m     display_summary_level : 1\n",
      "\u001b[1;38;5;39mCOMET INFO:\u001b[0m     name                  : just_kangaroo_1574\n",
      "\u001b[1;38;5;39mCOMET INFO:\u001b[0m     url                   : https://www.comet.com/nast69/random-search/12fad0a109f248f6a114a76346d9247e\n",
      "\u001b[1;38;5;39mCOMET INFO:\u001b[0m   Metrics [count] (min, max):\n",
      "\u001b[1;38;5;39mCOMET INFO:\u001b[0m     accuracy [10]                  : (0.8368333578109741, 0.9653499722480774)\n",
      "\u001b[1;38;5;39mCOMET INFO:\u001b[0m     batch_accuracy [7500]          : (0.06818182021379471, 1.0)\n",
      "\u001b[1;38;5;39mCOMET INFO:\u001b[0m     batch_loss [7500]              : (0.00024996092543005943, 2.4646854400634766)\n",
      "\u001b[1;38;5;39mCOMET INFO:\u001b[0m     epoch_duration [10]            : (6.536565757000062, 10.521082174993353)\n",
      "\u001b[1;38;5;39mCOMET INFO:\u001b[0m     loss [10]                      : (0.1267218440771103, 0.5227771997451782)\n",
      "\u001b[1;38;5;39mCOMET INFO:\u001b[0m     val_accuracy [10]              : (0.9273999929428101, 0.960099995136261)\n",
      "\u001b[1;38;5;39mCOMET INFO:\u001b[0m     val_loss [10]                  : (0.14952608942985535, 0.25676319003105164)\n",
      "\u001b[1;38;5;39mCOMET INFO:\u001b[0m     validate_batch_accuracy [1250] : (0.9060798287391663, 1.0)\n",
      "\u001b[1;38;5;39mCOMET INFO:\u001b[0m     validate_batch_loss [1250]     : (0.001283535035327077, 0.32769545912742615)\n",
      "\u001b[1;38;5;39mCOMET INFO:\u001b[0m   Others:\n",
      "\u001b[1;38;5;39mCOMET INFO:\u001b[0m     optimizer_count        : 2\n",
      "\u001b[1;38;5;39mCOMET INFO:\u001b[0m     optimizer_id           : 61fe9926a0b2429ab77580bbf796ca33\n",
      "\u001b[1;38;5;39mCOMET INFO:\u001b[0m     optimizer_metric       : loss\n",
      "\u001b[1;38;5;39mCOMET INFO:\u001b[0m     optimizer_metric_value : 0.1267218440771103\n",
      "\u001b[1;38;5;39mCOMET INFO:\u001b[0m     optimizer_name         : Optimize MNIST Network with Random Search\n",
      "\u001b[1;38;5;39mCOMET INFO:\u001b[0m     optimizer_objective    : minimum\n",
      "\u001b[1;38;5;39mCOMET INFO:\u001b[0m     optimizer_parameters   : {\"batch_size\": 8, \"first_layer_units\": 29, \"learning_rate\": 0.0057106618276128165}\n",
      "\u001b[1;38;5;39mCOMET INFO:\u001b[0m     optimizer_pid          : a726747ac2532871efbb8d2c815707c7f3d7eaae\n",
      "\u001b[1;38;5;39mCOMET INFO:\u001b[0m     optimizer_process      : 1123214\n",
      "\u001b[1;38;5;39mCOMET INFO:\u001b[0m     optimizer_trial        : 1\n",
      "\u001b[1;38;5;39mCOMET INFO:\u001b[0m     optimizer_version      : 2.1.2\n",
      "\u001b[1;38;5;39mCOMET INFO:\u001b[0m     trainable_params       : 44407\n",
      "\u001b[1;38;5;39mCOMET INFO:\u001b[0m   Parameters:\n",
      "\u001b[1;38;5;39mCOMET INFO:\u001b[0m     Optimizer                           : rmsprop\n",
      "\u001b[1;38;5;39mCOMET INFO:\u001b[0m     RMSprop_centered                    : False\n",
      "\u001b[1;38;5;39mCOMET INFO:\u001b[0m     RMSprop_clipnorm                    : None\n",
      "\u001b[1;38;5;39mCOMET INFO:\u001b[0m     RMSprop_clipvalue                   : None\n",
      "\u001b[1;38;5;39mCOMET INFO:\u001b[0m     RMSprop_ema_momentum                : 0.99\n",
      "\u001b[1;38;5;39mCOMET INFO:\u001b[0m     RMSprop_ema_overwrite_frequency     : None\n",
      "\u001b[1;38;5;39mCOMET INFO:\u001b[0m     RMSprop_epsilon                     : 1e-07\n",
      "\u001b[1;38;5;39mCOMET INFO:\u001b[0m     RMSprop_global_clipnorm             : None\n",
      "\u001b[1;38;5;39mCOMET INFO:\u001b[0m     RMSprop_gradient_accumulation_steps : None\n",
      "\u001b[1;38;5;39mCOMET INFO:\u001b[0m     RMSprop_learning_rate               : 0.0010000000474974513\n",
      "\u001b[1;38;5;39mCOMET INFO:\u001b[0m     RMSprop_loss_scale_factor           : None\n",
      "\u001b[1;38;5;39mCOMET INFO:\u001b[0m     RMSprop_momentum                    : 0.0\n",
      "\u001b[1;38;5;39mCOMET INFO:\u001b[0m     RMSprop_name                        : rmsprop\n",
      "\u001b[1;38;5;39mCOMET INFO:\u001b[0m     RMSprop_rho                         : 0.9\n",
      "\u001b[1;38;5;39mCOMET INFO:\u001b[0m     RMSprop_use_ema                     : False\n",
      "\u001b[1;38;5;39mCOMET INFO:\u001b[0m     RMSprop_weight_decay                : None\n",
      "\u001b[1;38;5;39mCOMET INFO:\u001b[0m     batch_size                          : 8\n",
      "\u001b[1;38;5;39mCOMET INFO:\u001b[0m     epochs                              : 10\n",
      "\u001b[1;38;5;39mCOMET INFO:\u001b[0m     first_layer_units                   : 29\n",
      "\u001b[1;38;5;39mCOMET INFO:\u001b[0m     learning_rate                       : 0.0057106618276128165\n",
      "\u001b[1;38;5;39mCOMET INFO:\u001b[0m     rmsprop_centered                    : False\n",
      "\u001b[1;38;5;39mCOMET INFO:\u001b[0m     rmsprop_clipnorm                    : None\n",
      "\u001b[1;38;5;39mCOMET INFO:\u001b[0m     rmsprop_clipvalue                   : None\n",
      "\u001b[1;38;5;39mCOMET INFO:\u001b[0m     rmsprop_ema_momentum                : 0.99\n",
      "\u001b[1;38;5;39mCOMET INFO:\u001b[0m     rmsprop_ema_overwrite_frequency     : None\n",
      "\u001b[1;38;5;39mCOMET INFO:\u001b[0m     rmsprop_epsilon                     : 1e-07\n",
      "\u001b[1;38;5;39mCOMET INFO:\u001b[0m     rmsprop_global_clipnorm             : None\n",
      "\u001b[1;38;5;39mCOMET INFO:\u001b[0m     rmsprop_gradient_accumulation_steps : None\n",
      "\u001b[1;38;5;39mCOMET INFO:\u001b[0m     rmsprop_learning_rate               : 0.0010000000474974513\n",
      "\u001b[1;38;5;39mCOMET INFO:\u001b[0m     rmsprop_loss_scale_factor           : None\n",
      "\u001b[1;38;5;39mCOMET INFO:\u001b[0m     rmsprop_momentum                    : 0.0\n",
      "\u001b[1;38;5;39mCOMET INFO:\u001b[0m     rmsprop_rho                         : 0.9\n",
      "\u001b[1;38;5;39mCOMET INFO:\u001b[0m     rmsprop_use_ema                     : False\n",
      "\u001b[1;38;5;39mCOMET INFO:\u001b[0m     rmsprop_weight_decay                : None\n",
      "\u001b[1;38;5;39mCOMET INFO:\u001b[0m     steps                               : 7500\n",
      "\u001b[1;38;5;39mCOMET INFO:\u001b[0m   Uploads:\n",
      "\u001b[1;38;5;39mCOMET INFO:\u001b[0m     environment details : 1\n",
      "\u001b[1;38;5;39mCOMET INFO:\u001b[0m     filename            : 1\n",
      "\u001b[1;38;5;39mCOMET INFO:\u001b[0m     installed packages  : 1\n",
      "\u001b[1;38;5;39mCOMET INFO:\u001b[0m     model graph         : 1\n",
      "\u001b[1;38;5;39mCOMET INFO:\u001b[0m     notebook            : 1\n",
      "\u001b[1;38;5;39mCOMET INFO:\u001b[0m     source_code         : 1\n",
      "\u001b[1;38;5;39mCOMET INFO:\u001b[0m \n"
     ]
    },
    {
     "name": "stdout",
     "output_type": "stream",
     "text": [
      "Score %s [0.18635103106498718, 0.9526000022888184]\n"
     ]
    },
    {
     "name": "stderr",
     "output_type": "stream",
     "text": [
      "\u001b[1;38;5;214mCOMET WARNING:\u001b[0m Experiment has been throttled. Some data (like experiment metrics) might be missing. Mission-critical data, like Artifacts, are never throttled.\n",
      "Reason(s) of the experiment being throttled: metrics\n",
      "\u001b[1;38;5;214mCOMET WARNING:\u001b[0m As you are running in a Jupyter environment, you will need to call `experiment.end()` when finished to ensure all metrics and code are logged before exiting.\n",
      "\u001b[1;38;5;39mCOMET INFO:\u001b[0m Experiment is live on comet.com https://www.comet.com/nast69/random-search/217bc9da4dbe4a9189d9d59dece22657\n",
      "\n",
      "\u001b[1;38;5;39mCOMET INFO:\u001b[0m Couldn't find a Git repository in '/lustre06/project/6078700/nast/comet' nor in any parent directory. Set `COMET_GIT_DIRECTORY` if your Git Repository is elsewhere.\n"
     ]
    },
    {
     "name": "stdout",
     "output_type": "stream",
     "text": [
      "Epoch 1/10\n"
     ]
    },
    {
     "name": "stderr",
     "output_type": "stream",
     "text": [
      "2024-11-26 13:08:48.811326: W external/local_xla/xla/service/gpu/triton_autotuner.cc:660] Compiling 32 configs for 3 fusions on a single thread.\n"
     ]
    },
    {
     "name": "stdout",
     "output_type": "stream",
     "text": [
      "\u001b[1m7500/7500\u001b[0m \u001b[32m━━━━━━━━━━━━━━━━━━━━\u001b[0m\u001b[37m\u001b[0m \u001b[1m10s\u001b[0m 940us/step - accuracy: 0.6654 - loss: 1.0053 - val_accuracy: 0.9047 - val_loss: 0.3272\n",
      "Epoch 2/10\n",
      "\u001b[1m7500/7500\u001b[0m \u001b[32m━━━━━━━━━━━━━━━━━━━━\u001b[0m\u001b[37m\u001b[0m \u001b[1m7s\u001b[0m 869us/step - accuracy: 0.9156 - loss: 0.2924 - val_accuracy: 0.9298 - val_loss: 0.2425\n",
      "Epoch 3/10\n",
      "\u001b[1m7500/7500\u001b[0m \u001b[32m━━━━━━━━━━━━━━━━━━━━\u001b[0m\u001b[37m\u001b[0m \u001b[1m7s\u001b[0m 867us/step - accuracy: 0.9329 - loss: 0.2372 - val_accuracy: 0.9334 - val_loss: 0.2328\n",
      "Epoch 4/10\n",
      "\u001b[1m7500/7500\u001b[0m \u001b[32m━━━━━━━━━━━━━━━━━━━━\u001b[0m\u001b[37m\u001b[0m \u001b[1m7s\u001b[0m 870us/step - accuracy: 0.9368 - loss: 0.2203 - val_accuracy: 0.9329 - val_loss: 0.2377\n",
      "Epoch 5/10\n",
      "\u001b[1m7500/7500\u001b[0m \u001b[32m━━━━━━━━━━━━━━━━━━━━\u001b[0m\u001b[37m\u001b[0m \u001b[1m7s\u001b[0m 963us/step - accuracy: 0.9418 - loss: 0.2064 - val_accuracy: 0.9444 - val_loss: 0.2019\n",
      "Epoch 6/10\n",
      "\u001b[1m7500/7500\u001b[0m \u001b[32m━━━━━━━━━━━━━━━━━━━━\u001b[0m\u001b[37m\u001b[0m \u001b[1m7s\u001b[0m 869us/step - accuracy: 0.9426 - loss: 0.2003 - val_accuracy: 0.9435 - val_loss: 0.2109\n",
      "Epoch 7/10\n",
      "\u001b[1m7500/7500\u001b[0m \u001b[32m━━━━━━━━━━━━━━━━━━━━\u001b[0m\u001b[37m\u001b[0m \u001b[1m7s\u001b[0m 873us/step - accuracy: 0.9460 - loss: 0.1959 - val_accuracy: 0.9488 - val_loss: 0.1856\n",
      "Epoch 8/10\n"
     ]
    },
    {
     "name": "stderr",
     "output_type": "stream",
     "text": [
      "\u001b[1;38;5;196mCOMET ERROR:\u001b[0m Data loss. Too many Metrics updates. Only 10000 allowed per experiment per 45 seconds. Reduce logging or request higher limits from Comet admin.\n"
     ]
    },
    {
     "name": "stdout",
     "output_type": "stream",
     "text": [
      "\u001b[1m7500/7500\u001b[0m \u001b[32m━━━━━━━━━━━━━━━━━━━━\u001b[0m\u001b[37m\u001b[0m \u001b[1m10s\u001b[0m 870us/step - accuracy: 0.9496 - loss: 0.1831 - val_accuracy: 0.9468 - val_loss: 0.1904\n",
      "Epoch 9/10\n",
      "\u001b[1m7500/7500\u001b[0m \u001b[32m━━━━━━━━━━━━━━━━━━━━\u001b[0m\u001b[37m\u001b[0m \u001b[1m10s\u001b[0m 868us/step - accuracy: 0.9488 - loss: 0.1841 - val_accuracy: 0.9441 - val_loss: 0.2100\n",
      "Epoch 10/10\n",
      "\u001b[1m7500/7500\u001b[0m \u001b[32m━━━━━━━━━━━━━━━━━━━━\u001b[0m\u001b[37m\u001b[0m \u001b[1m7s\u001b[0m 868us/step - accuracy: 0.9487 - loss: 0.1826 - val_accuracy: 0.9474 - val_loss: 0.1997\n"
     ]
    },
    {
     "name": "stderr",
     "output_type": "stream",
     "text": [
      "2024-11-26 13:10:05.829620: W external/local_xla/xla/service/gpu/triton_autotuner.cc:656] Compiling 16 configs for triton_gemm_dot.50 on a single thread.\n",
      "2024-11-26 13:10:07.522426: W external/local_xla/xla/service/gpu/triton_autotuner.cc:656] Compiling 13 configs for triton_gemm_dot.50 on a single thread.\n",
      "\u001b[1;38;5;39mCOMET INFO:\u001b[0m ---------------------------------------------------------------------------------------\n",
      "\u001b[1;38;5;39mCOMET INFO:\u001b[0m Comet.ml Experiment Summary\n",
      "\u001b[1;38;5;39mCOMET INFO:\u001b[0m ---------------------------------------------------------------------------------------\n",
      "\u001b[1;38;5;39mCOMET INFO:\u001b[0m   Data:\n",
      "\u001b[1;38;5;39mCOMET INFO:\u001b[0m     display_summary_level : 1\n",
      "\u001b[1;38;5;39mCOMET INFO:\u001b[0m     name                  : comprehensive_perch_7460\n",
      "\u001b[1;38;5;39mCOMET INFO:\u001b[0m     url                   : https://www.comet.com/nast69/random-search/217bc9da4dbe4a9189d9d59dece22657\n",
      "\u001b[1;38;5;39mCOMET INFO:\u001b[0m   Metrics [count] (min, max):\n",
      "\u001b[1;38;5;39mCOMET INFO:\u001b[0m     accuracy [10]                  : (0.8184499740600586, 0.9492833614349365)\n",
      "\u001b[1;38;5;39mCOMET INFO:\u001b[0m     batch_accuracy [7500]          : (0.0, 1.0)\n",
      "\u001b[1;38;5;39mCOMET INFO:\u001b[0m     batch_loss [7500]              : (0.0033955522812902927, 2.7928853034973145)\n",
      "\u001b[1;38;5;39mCOMET INFO:\u001b[0m     epoch_duration [10]            : (6.522356157998729, 10.257426871001371)\n",
      "\u001b[1;38;5;39mCOMET INFO:\u001b[0m     loss [10]                      : (0.18285603821277618, 0.5862352848052979)\n",
      "\u001b[1;38;5;39mCOMET INFO:\u001b[0m     val_accuracy [10]              : (0.904699981212616, 0.9488000273704529)\n",
      "\u001b[1;38;5;39mCOMET INFO:\u001b[0m     val_loss [10]                  : (0.18558283150196075, 0.32721182703971863)\n",
      "\u001b[1;38;5;39mCOMET INFO:\u001b[0m     validate_batch_accuracy [1250] : (0.875, 1.0)\n",
      "\u001b[1;38;5;39mCOMET INFO:\u001b[0m     validate_batch_loss [1250]     : (0.01996450126171112, 0.4144211411476135)\n",
      "\u001b[1;38;5;39mCOMET INFO:\u001b[0m   Others:\n",
      "\u001b[1;38;5;39mCOMET INFO:\u001b[0m     optimizer_count        : 3\n",
      "\u001b[1;38;5;39mCOMET INFO:\u001b[0m     optimizer_id           : 61fe9926a0b2429ab77580bbf796ca33\n",
      "\u001b[1;38;5;39mCOMET INFO:\u001b[0m     optimizer_metric       : loss\n",
      "\u001b[1;38;5;39mCOMET INFO:\u001b[0m     optimizer_metric_value : 0.18285603821277618\n",
      "\u001b[1;38;5;39mCOMET INFO:\u001b[0m     optimizer_name         : Optimize MNIST Network with Random Search\n",
      "\u001b[1;38;5;39mCOMET INFO:\u001b[0m     optimizer_objective    : minimum\n",
      "\u001b[1;38;5;39mCOMET INFO:\u001b[0m     optimizer_parameters   : {\"batch_size\": 8, \"first_layer_units\": 18, \"learning_rate\": 0.006643556860841811}\n",
      "\u001b[1;38;5;39mCOMET INFO:\u001b[0m     optimizer_pid          : 0bbde2f04cabbfda5c570f6abb21598db35e7c04\n",
      "\u001b[1;38;5;39mCOMET INFO:\u001b[0m     optimizer_process      : 1123214\n",
      "\u001b[1;38;5;39mCOMET INFO:\u001b[0m     optimizer_trial        : 1\n",
      "\u001b[1;38;5;39mCOMET INFO:\u001b[0m     optimizer_version      : 2.1.2\n",
      "\u001b[1;38;5;39mCOMET INFO:\u001b[0m     trainable_params       : 34364\n",
      "\u001b[1;38;5;39mCOMET INFO:\u001b[0m   Parameters:\n",
      "\u001b[1;38;5;39mCOMET INFO:\u001b[0m     Optimizer                           : rmsprop\n",
      "\u001b[1;38;5;39mCOMET INFO:\u001b[0m     RMSprop_centered                    : False\n",
      "\u001b[1;38;5;39mCOMET INFO:\u001b[0m     RMSprop_clipnorm                    : None\n",
      "\u001b[1;38;5;39mCOMET INFO:\u001b[0m     RMSprop_clipvalue                   : None\n",
      "\u001b[1;38;5;39mCOMET INFO:\u001b[0m     RMSprop_ema_momentum                : 0.99\n",
      "\u001b[1;38;5;39mCOMET INFO:\u001b[0m     RMSprop_ema_overwrite_frequency     : None\n",
      "\u001b[1;38;5;39mCOMET INFO:\u001b[0m     RMSprop_epsilon                     : 1e-07\n",
      "\u001b[1;38;5;39mCOMET INFO:\u001b[0m     RMSprop_global_clipnorm             : None\n",
      "\u001b[1;38;5;39mCOMET INFO:\u001b[0m     RMSprop_gradient_accumulation_steps : None\n",
      "\u001b[1;38;5;39mCOMET INFO:\u001b[0m     RMSprop_learning_rate               : 0.0010000000474974513\n",
      "\u001b[1;38;5;39mCOMET INFO:\u001b[0m     RMSprop_loss_scale_factor           : None\n",
      "\u001b[1;38;5;39mCOMET INFO:\u001b[0m     RMSprop_momentum                    : 0.0\n",
      "\u001b[1;38;5;39mCOMET INFO:\u001b[0m     RMSprop_name                        : rmsprop\n",
      "\u001b[1;38;5;39mCOMET INFO:\u001b[0m     RMSprop_rho                         : 0.9\n",
      "\u001b[1;38;5;39mCOMET INFO:\u001b[0m     RMSprop_use_ema                     : False\n",
      "\u001b[1;38;5;39mCOMET INFO:\u001b[0m     RMSprop_weight_decay                : None\n",
      "\u001b[1;38;5;39mCOMET INFO:\u001b[0m     batch_size                          : 8\n",
      "\u001b[1;38;5;39mCOMET INFO:\u001b[0m     epochs                              : 10\n",
      "\u001b[1;38;5;39mCOMET INFO:\u001b[0m     first_layer_units                   : 18\n",
      "\u001b[1;38;5;39mCOMET INFO:\u001b[0m     learning_rate                       : 0.006643556860841811\n",
      "\u001b[1;38;5;39mCOMET INFO:\u001b[0m     rmsprop_centered                    : False\n",
      "\u001b[1;38;5;39mCOMET INFO:\u001b[0m     rmsprop_clipnorm                    : None\n",
      "\u001b[1;38;5;39mCOMET INFO:\u001b[0m     rmsprop_clipvalue                   : None\n",
      "\u001b[1;38;5;39mCOMET INFO:\u001b[0m     rmsprop_ema_momentum                : 0.99\n",
      "\u001b[1;38;5;39mCOMET INFO:\u001b[0m     rmsprop_ema_overwrite_frequency     : None\n",
      "\u001b[1;38;5;39mCOMET INFO:\u001b[0m     rmsprop_epsilon                     : 1e-07\n",
      "\u001b[1;38;5;39mCOMET INFO:\u001b[0m     rmsprop_global_clipnorm             : None\n",
      "\u001b[1;38;5;39mCOMET INFO:\u001b[0m     rmsprop_gradient_accumulation_steps : None\n",
      "\u001b[1;38;5;39mCOMET INFO:\u001b[0m     rmsprop_learning_rate               : 0.0010000000474974513\n",
      "\u001b[1;38;5;39mCOMET INFO:\u001b[0m     rmsprop_loss_scale_factor           : None\n",
      "\u001b[1;38;5;39mCOMET INFO:\u001b[0m     rmsprop_momentum                    : 0.0\n",
      "\u001b[1;38;5;39mCOMET INFO:\u001b[0m     rmsprop_rho                         : 0.9\n",
      "\u001b[1;38;5;39mCOMET INFO:\u001b[0m     rmsprop_use_ema                     : False\n",
      "\u001b[1;38;5;39mCOMET INFO:\u001b[0m     rmsprop_weight_decay                : None\n",
      "\u001b[1;38;5;39mCOMET INFO:\u001b[0m     steps                               : 7500\n",
      "\u001b[1;38;5;39mCOMET INFO:\u001b[0m   Uploads:\n",
      "\u001b[1;38;5;39mCOMET INFO:\u001b[0m     environment details : 1\n",
      "\u001b[1;38;5;39mCOMET INFO:\u001b[0m     filename            : 1\n",
      "\u001b[1;38;5;39mCOMET INFO:\u001b[0m     installed packages  : 1\n",
      "\u001b[1;38;5;39mCOMET INFO:\u001b[0m     model graph         : 1\n",
      "\u001b[1;38;5;39mCOMET INFO:\u001b[0m     notebook            : 1\n",
      "\u001b[1;38;5;39mCOMET INFO:\u001b[0m     source_code         : 1\n",
      "\u001b[1;38;5;39mCOMET INFO:\u001b[0m \n"
     ]
    },
    {
     "name": "stdout",
     "output_type": "stream",
     "text": [
      "Score %s [0.19967657327651978, 0.9473999738693237]\n"
     ]
    },
    {
     "name": "stderr",
     "output_type": "stream",
     "text": [
      "\u001b[1;38;5;214mCOMET WARNING:\u001b[0m Experiment has been throttled. Some data (like experiment metrics) might be missing. Mission-critical data, like Artifacts, are never throttled.\n",
      "Reason(s) of the experiment being throttled: metrics\n",
      "\u001b[1;38;5;39mCOMET INFO:\u001b[0m Please wait for metadata to finish uploading (timeout is 3600 seconds)\n",
      "\u001b[1;38;5;39mCOMET INFO:\u001b[0m Uploading 80 metrics, params and output messages\n",
      "\u001b[1;38;5;214mCOMET WARNING:\u001b[0m As you are running in a Jupyter environment, you will need to call `experiment.end()` when finished to ensure all metrics and code are logged before exiting.\n",
      "\u001b[1;38;5;39mCOMET INFO:\u001b[0m Experiment is live on comet.com https://www.comet.com/nast69/random-search/1b32580ce690477296995ddcc29a67a1\n",
      "\n",
      "\u001b[1;38;5;39mCOMET INFO:\u001b[0m Couldn't find a Git repository in '/lustre06/project/6078700/nast/comet' nor in any parent directory. Set `COMET_GIT_DIRECTORY` if your Git Repository is elsewhere.\n"
     ]
    },
    {
     "name": "stdout",
     "output_type": "stream",
     "text": [
      "Epoch 1/10\n"
     ]
    },
    {
     "name": "stderr",
     "output_type": "stream",
     "text": [
      "2024-11-26 13:10:11.783009: W external/local_xla/xla/service/gpu/triton_autotuner.cc:660] Compiling 82 configs for 5 fusions on a single thread.\n"
     ]
    },
    {
     "name": "stdout",
     "output_type": "stream",
     "text": [
      "\u001b[1m3750/3750\u001b[0m \u001b[32m━━━━━━━━━━━━━━━━━━━━\u001b[0m\u001b[37m\u001b[0m \u001b[1m11s\u001b[0m 1ms/step - accuracy: 0.6732 - loss: 0.9990 - val_accuracy: 0.9255 - val_loss: 0.2598\n",
      "Epoch 2/10\n",
      "\u001b[1m3750/3750\u001b[0m \u001b[32m━━━━━━━━━━━━━━━━━━━━\u001b[0m\u001b[37m\u001b[0m \u001b[1m3s\u001b[0m 892us/step - accuracy: 0.9295 - loss: 0.2460 - val_accuracy: 0.9435 - val_loss: 0.2013\n",
      "Epoch 3/10\n",
      "\u001b[1m3750/3750\u001b[0m \u001b[32m━━━━━━━━━━━━━━━━━━━━\u001b[0m\u001b[37m\u001b[0m \u001b[1m3s\u001b[0m 897us/step - accuracy: 0.9482 - loss: 0.1760 - val_accuracy: 0.9555 - val_loss: 0.1559\n",
      "Epoch 4/10\n",
      "\u001b[1m3750/3750\u001b[0m \u001b[32m━━━━━━━━━━━━━━━━━━━━\u001b[0m\u001b[37m\u001b[0m \u001b[1m3s\u001b[0m 900us/step - accuracy: 0.9577 - loss: 0.1439 - val_accuracy: 0.9570 - val_loss: 0.1463\n",
      "Epoch 5/10\n",
      "\u001b[1m3750/3750\u001b[0m \u001b[32m━━━━━━━━━━━━━━━━━━━━\u001b[0m\u001b[37m\u001b[0m \u001b[1m3s\u001b[0m 893us/step - accuracy: 0.9628 - loss: 0.1254 - val_accuracy: 0.9584 - val_loss: 0.1433\n",
      "Epoch 6/10\n",
      "\u001b[1m3750/3750\u001b[0m \u001b[32m━━━━━━━━━━━━━━━━━━━━\u001b[0m\u001b[37m\u001b[0m \u001b[1m3s\u001b[0m 894us/step - accuracy: 0.9671 - loss: 0.1113 - val_accuracy: 0.9637 - val_loss: 0.1246\n",
      "Epoch 7/10\n",
      "\u001b[1m3750/3750\u001b[0m \u001b[32m━━━━━━━━━━━━━━━━━━━━\u001b[0m\u001b[37m\u001b[0m \u001b[1m3s\u001b[0m 891us/step - accuracy: 0.9701 - loss: 0.1035 - val_accuracy: 0.9651 - val_loss: 0.1288\n",
      "Epoch 8/10\n",
      "\u001b[1m3750/3750\u001b[0m \u001b[32m━━━━━━━━━━━━━━━━━━━━\u001b[0m\u001b[37m\u001b[0m \u001b[1m3s\u001b[0m 902us/step - accuracy: 0.9726 - loss: 0.0968 - val_accuracy: 0.9621 - val_loss: 0.1385\n",
      "Epoch 9/10\n",
      "\u001b[1m3750/3750\u001b[0m \u001b[32m━━━━━━━━━━━━━━━━━━━━\u001b[0m\u001b[37m\u001b[0m \u001b[1m3s\u001b[0m 893us/step - accuracy: 0.9743 - loss: 0.0883 - val_accuracy: 0.9676 - val_loss: 0.1134\n",
      "Epoch 10/10\n",
      "\u001b[1m3750/3750\u001b[0m \u001b[32m━━━━━━━━━━━━━━━━━━━━\u001b[0m\u001b[37m\u001b[0m \u001b[1m3s\u001b[0m 890us/step - accuracy: 0.9753 - loss: 0.0870 - val_accuracy: 0.9656 - val_loss: 0.1244\n"
     ]
    },
    {
     "name": "stderr",
     "output_type": "stream",
     "text": [
      "2024-11-26 13:10:52.863245: W external/local_xla/xla/service/gpu/triton_autotuner.cc:656] Compiling 20 configs for triton_gemm_dot.50 on a single thread.\n",
      "\u001b[1;38;5;39mCOMET INFO:\u001b[0m ---------------------------------------------------------------------------------------\n",
      "\u001b[1;38;5;39mCOMET INFO:\u001b[0m Comet.ml Experiment Summary\n",
      "\u001b[1;38;5;39mCOMET INFO:\u001b[0m ---------------------------------------------------------------------------------------\n",
      "\u001b[1;38;5;39mCOMET INFO:\u001b[0m   Data:\n",
      "\u001b[1;38;5;39mCOMET INFO:\u001b[0m     display_summary_level : 1\n",
      "\u001b[1;38;5;39mCOMET INFO:\u001b[0m     name                  : coral_museum_6561\n",
      "\u001b[1;38;5;39mCOMET INFO:\u001b[0m     url                   : https://www.comet.com/nast69/random-search/1b32580ce690477296995ddcc29a67a1\n",
      "\u001b[1;38;5;39mCOMET INFO:\u001b[0m   Metrics [count] (min, max):\n",
      "\u001b[1;38;5;39mCOMET INFO:\u001b[0m     accuracy [10]                 : (0.8271499872207642, 0.9744333624839783)\n",
      "\u001b[1;38;5;39mCOMET INFO:\u001b[0m     batch_accuracy [3750]         : (0.0625, 1.0)\n",
      "\u001b[1;38;5;39mCOMET INFO:\u001b[0m     batch_loss [3750]             : (0.004261038266122341, 2.542757034301758)\n",
      "\u001b[1;38;5;39mCOMET INFO:\u001b[0m     epoch_duration [10]           : (3.355696430997341, 10.89101314599975)\n",
      "\u001b[1;38;5;39mCOMET INFO:\u001b[0m     loss [10]                     : (0.08737266808748245, 0.5616428256034851)\n",
      "\u001b[1;38;5;39mCOMET INFO:\u001b[0m     val_accuracy [10]             : (0.9254999756813049, 0.9675999879837036)\n",
      "\u001b[1;38;5;39mCOMET INFO:\u001b[0m     val_loss [10]                 : (0.11341029405593872, 0.2598123848438263)\n",
      "\u001b[1;38;5;39mCOMET INFO:\u001b[0m     validate_batch_accuracy [630] : (0.9074733257293701, 1.0)\n",
      "\u001b[1;38;5;39mCOMET INFO:\u001b[0m     validate_batch_loss [630]     : (0.004224618896842003, 0.32055649161338806)\n",
      "\u001b[1;38;5;39mCOMET INFO:\u001b[0m   Others:\n",
      "\u001b[1;38;5;39mCOMET INFO:\u001b[0m     optimizer_count        : 4\n",
      "\u001b[1;38;5;39mCOMET INFO:\u001b[0m     optimizer_id           : 61fe9926a0b2429ab77580bbf796ca33\n",
      "\u001b[1;38;5;39mCOMET INFO:\u001b[0m     optimizer_metric       : loss\n",
      "\u001b[1;38;5;39mCOMET INFO:\u001b[0m     optimizer_metric_value : 0.08737266808748245\n",
      "\u001b[1;38;5;39mCOMET INFO:\u001b[0m     optimizer_name         : Optimize MNIST Network with Random Search\n",
      "\u001b[1;38;5;39mCOMET INFO:\u001b[0m     optimizer_objective    : minimum\n",
      "\u001b[1;38;5;39mCOMET INFO:\u001b[0m     optimizer_parameters   : {\"batch_size\": 16, \"first_layer_units\": 39, \"learning_rate\": 0.0014009724237268424}\n",
      "\u001b[1;38;5;39mCOMET INFO:\u001b[0m     optimizer_pid          : 8cdf086eb970d851df589baa858de3cd0a5fffea\n",
      "\u001b[1;38;5;39mCOMET INFO:\u001b[0m     optimizer_process      : 1123214\n",
      "\u001b[1;38;5;39mCOMET INFO:\u001b[0m     optimizer_trial        : 1\n",
      "\u001b[1;38;5;39mCOMET INFO:\u001b[0m     optimizer_version      : 2.1.2\n",
      "\u001b[1;38;5;39mCOMET INFO:\u001b[0m     trainable_params       : 53537\n",
      "\u001b[1;38;5;39mCOMET INFO:\u001b[0m   Parameters:\n",
      "\u001b[1;38;5;39mCOMET INFO:\u001b[0m     Optimizer                           : rmsprop\n",
      "\u001b[1;38;5;39mCOMET INFO:\u001b[0m     RMSprop_centered                    : False\n",
      "\u001b[1;38;5;39mCOMET INFO:\u001b[0m     RMSprop_clipnorm                    : None\n",
      "\u001b[1;38;5;39mCOMET INFO:\u001b[0m     RMSprop_clipvalue                   : None\n",
      "\u001b[1;38;5;39mCOMET INFO:\u001b[0m     RMSprop_ema_momentum                : 0.99\n",
      "\u001b[1;38;5;39mCOMET INFO:\u001b[0m     RMSprop_ema_overwrite_frequency     : None\n",
      "\u001b[1;38;5;39mCOMET INFO:\u001b[0m     RMSprop_epsilon                     : 1e-07\n",
      "\u001b[1;38;5;39mCOMET INFO:\u001b[0m     RMSprop_global_clipnorm             : None\n",
      "\u001b[1;38;5;39mCOMET INFO:\u001b[0m     RMSprop_gradient_accumulation_steps : None\n",
      "\u001b[1;38;5;39mCOMET INFO:\u001b[0m     RMSprop_learning_rate               : 0.0010000000474974513\n",
      "\u001b[1;38;5;39mCOMET INFO:\u001b[0m     RMSprop_loss_scale_factor           : None\n",
      "\u001b[1;38;5;39mCOMET INFO:\u001b[0m     RMSprop_momentum                    : 0.0\n",
      "\u001b[1;38;5;39mCOMET INFO:\u001b[0m     RMSprop_name                        : rmsprop\n",
      "\u001b[1;38;5;39mCOMET INFO:\u001b[0m     RMSprop_rho                         : 0.9\n",
      "\u001b[1;38;5;39mCOMET INFO:\u001b[0m     RMSprop_use_ema                     : False\n",
      "\u001b[1;38;5;39mCOMET INFO:\u001b[0m     RMSprop_weight_decay                : None\n",
      "\u001b[1;38;5;39mCOMET INFO:\u001b[0m     batch_size                          : 16\n",
      "\u001b[1;38;5;39mCOMET INFO:\u001b[0m     epochs                              : 10\n",
      "\u001b[1;38;5;39mCOMET INFO:\u001b[0m     first_layer_units                   : 39\n",
      "\u001b[1;38;5;39mCOMET INFO:\u001b[0m     learning_rate                       : 0.0014009724237268424\n",
      "\u001b[1;38;5;39mCOMET INFO:\u001b[0m     rmsprop_centered                    : False\n",
      "\u001b[1;38;5;39mCOMET INFO:\u001b[0m     rmsprop_clipnorm                    : None\n",
      "\u001b[1;38;5;39mCOMET INFO:\u001b[0m     rmsprop_clipvalue                   : None\n",
      "\u001b[1;38;5;39mCOMET INFO:\u001b[0m     rmsprop_ema_momentum                : 0.99\n",
      "\u001b[1;38;5;39mCOMET INFO:\u001b[0m     rmsprop_ema_overwrite_frequency     : None\n",
      "\u001b[1;38;5;39mCOMET INFO:\u001b[0m     rmsprop_epsilon                     : 1e-07\n",
      "\u001b[1;38;5;39mCOMET INFO:\u001b[0m     rmsprop_global_clipnorm             : None\n",
      "\u001b[1;38;5;39mCOMET INFO:\u001b[0m     rmsprop_gradient_accumulation_steps : None\n",
      "\u001b[1;38;5;39mCOMET INFO:\u001b[0m     rmsprop_learning_rate               : 0.0010000000474974513\n",
      "\u001b[1;38;5;39mCOMET INFO:\u001b[0m     rmsprop_loss_scale_factor           : None\n",
      "\u001b[1;38;5;39mCOMET INFO:\u001b[0m     rmsprop_momentum                    : 0.0\n",
      "\u001b[1;38;5;39mCOMET INFO:\u001b[0m     rmsprop_rho                         : 0.9\n",
      "\u001b[1;38;5;39mCOMET INFO:\u001b[0m     rmsprop_use_ema                     : False\n",
      "\u001b[1;38;5;39mCOMET INFO:\u001b[0m     rmsprop_weight_decay                : None\n",
      "\u001b[1;38;5;39mCOMET INFO:\u001b[0m     steps                               : 3750\n",
      "\u001b[1;38;5;39mCOMET INFO:\u001b[0m   Uploads:\n",
      "\u001b[1;38;5;39mCOMET INFO:\u001b[0m     environment details : 1\n",
      "\u001b[1;38;5;39mCOMET INFO:\u001b[0m     filename            : 1\n",
      "\u001b[1;38;5;39mCOMET INFO:\u001b[0m     installed packages  : 1\n",
      "\u001b[1;38;5;39mCOMET INFO:\u001b[0m     model graph         : 1\n",
      "\u001b[1;38;5;39mCOMET INFO:\u001b[0m     notebook            : 1\n",
      "\u001b[1;38;5;39mCOMET INFO:\u001b[0m     source_code         : 1\n",
      "\u001b[1;38;5;39mCOMET INFO:\u001b[0m \n"
     ]
    },
    {
     "name": "stdout",
     "output_type": "stream",
     "text": [
      "Score %s [0.12437977641820908, 0.9656000137329102]\n"
     ]
    },
    {
     "name": "stderr",
     "output_type": "stream",
     "text": [
      "\u001b[1;38;5;39mCOMET INFO:\u001b[0m Uploading 76 metrics, params and output messages\n",
      "\u001b[1;38;5;214mCOMET WARNING:\u001b[0m As you are running in a Jupyter environment, you will need to call `experiment.end()` when finished to ensure all metrics and code are logged before exiting.\n",
      "\u001b[1;38;5;39mCOMET INFO:\u001b[0m Couldn't find a Git repository in '/lustre06/project/6078700/nast/comet' nor in any parent directory. Set `COMET_GIT_DIRECTORY` if your Git Repository is elsewhere.\n",
      "\u001b[1;38;5;39mCOMET INFO:\u001b[0m Experiment is live on comet.com https://www.comet.com/nast69/random-search/48f72b66e96d49cfb43d5a1426b0acb0\n",
      "\n"
     ]
    },
    {
     "name": "stdout",
     "output_type": "stream",
     "text": [
      "Epoch 1/10\n"
     ]
    },
    {
     "name": "stderr",
     "output_type": "stream",
     "text": [
      "2024-11-26 13:10:59.642415: W external/local_xla/xla/service/gpu/triton_autotuner.cc:660] Compiling 81 configs for 5 fusions on a single thread.\n"
     ]
    },
    {
     "name": "stdout",
     "output_type": "stream",
     "text": [
      "\u001b[1m1816/1875\u001b[0m \u001b[32m━━━━━━━━━━━━━━━━━━━\u001b[0m\u001b[37m━\u001b[0m \u001b[1m0s\u001b[0m 778us/step - accuracy: 0.5511 - loss: 1.3594"
     ]
    },
    {
     "name": "stderr",
     "output_type": "stream",
     "text": [
      "2024-11-26 13:11:08.602074: W external/local_xla/xla/service/gpu/triton_autotuner.cc:656] Compiling 13 configs for triton_gemm_dot.50 on a single thread.\n"
     ]
    },
    {
     "name": "stdout",
     "output_type": "stream",
     "text": [
      "\u001b[1m1875/1875\u001b[0m \u001b[32m━━━━━━━━━━━━━━━━━━━━\u001b[0m\u001b[37m\u001b[0m \u001b[1m11s\u001b[0m 2ms/step - accuracy: 0.5578 - loss: 1.3410 - val_accuracy: 0.9043 - val_loss: 0.3382\n",
      "Epoch 2/10\n",
      "\u001b[1m1875/1875\u001b[0m \u001b[32m━━━━━━━━━━━━━━━━━━━━\u001b[0m\u001b[37m\u001b[0m \u001b[1m2s\u001b[0m 909us/step - accuracy: 0.9089 - loss: 0.3177 - val_accuracy: 0.9238 - val_loss: 0.2545\n",
      "Epoch 3/10\n",
      "\u001b[1m1875/1875\u001b[0m \u001b[32m━━━━━━━━━━━━━━━━━━━━\u001b[0m\u001b[37m\u001b[0m \u001b[1m2s\u001b[0m 900us/step - accuracy: 0.9303 - loss: 0.2363 - val_accuracy: 0.9354 - val_loss: 0.2078\n",
      "Epoch 4/10\n",
      "\u001b[1m1875/1875\u001b[0m \u001b[32m━━━━━━━━━━━━━━━━━━━━\u001b[0m\u001b[37m\u001b[0m \u001b[1m2s\u001b[0m 901us/step - accuracy: 0.9428 - loss: 0.1988 - val_accuracy: 0.9454 - val_loss: 0.1849\n",
      "Epoch 5/10\n",
      "\u001b[1m1875/1875\u001b[0m \u001b[32m━━━━━━━━━━━━━━━━━━━━\u001b[0m\u001b[37m\u001b[0m \u001b[1m2s\u001b[0m 915us/step - accuracy: 0.9463 - loss: 0.1786 - val_accuracy: 0.9466 - val_loss: 0.1802\n",
      "Epoch 6/10\n",
      "\u001b[1m1875/1875\u001b[0m \u001b[32m━━━━━━━━━━━━━━━━━━━━\u001b[0m\u001b[37m\u001b[0m \u001b[1m2s\u001b[0m 901us/step - accuracy: 0.9503 - loss: 0.1688 - val_accuracy: 0.9469 - val_loss: 0.1819\n",
      "Epoch 7/10\n",
      "\u001b[1m1875/1875\u001b[0m \u001b[32m━━━━━━━━━━━━━━━━━━━━\u001b[0m\u001b[37m\u001b[0m \u001b[1m2s\u001b[0m 909us/step - accuracy: 0.9542 - loss: 0.1551 - val_accuracy: 0.9479 - val_loss: 0.1742\n",
      "Epoch 8/10\n",
      "\u001b[1m1875/1875\u001b[0m \u001b[32m━━━━━━━━━━━━━━━━━━━━\u001b[0m\u001b[37m\u001b[0m \u001b[1m2s\u001b[0m 899us/step - accuracy: 0.9572 - loss: 0.1440 - val_accuracy: 0.9503 - val_loss: 0.1636\n",
      "Epoch 9/10\n",
      "\u001b[1m1875/1875\u001b[0m \u001b[32m━━━━━━━━━━━━━━━━━━━━\u001b[0m\u001b[37m\u001b[0m \u001b[1m3s\u001b[0m 902us/step - accuracy: 0.9584 - loss: 0.1381 - val_accuracy: 0.9530 - val_loss: 0.1648\n",
      "Epoch 10/10\n",
      "\u001b[1m1875/1875\u001b[0m \u001b[32m━━━━━━━━━━━━━━━━━━━━\u001b[0m\u001b[37m\u001b[0m \u001b[1m2s\u001b[0m 900us/step - accuracy: 0.9592 - loss: 0.1358 - val_accuracy: 0.9549 - val_loss: 0.1534\n"
     ]
    },
    {
     "name": "stderr",
     "output_type": "stream",
     "text": [
      "\u001b[1;38;5;39mCOMET INFO:\u001b[0m ---------------------------------------------------------------------------------------\n",
      "\u001b[1;38;5;39mCOMET INFO:\u001b[0m Comet.ml Experiment Summary\n",
      "\u001b[1;38;5;39mCOMET INFO:\u001b[0m ---------------------------------------------------------------------------------------\n",
      "\u001b[1;38;5;39mCOMET INFO:\u001b[0m   Data:\n",
      "\u001b[1;38;5;39mCOMET INFO:\u001b[0m     display_summary_level : 1\n",
      "\u001b[1;38;5;39mCOMET INFO:\u001b[0m     name                  : growing_pilaster_4435\n",
      "\u001b[1;38;5;39mCOMET INFO:\u001b[0m     url                   : https://www.comet.com/nast69/random-search/48f72b66e96d49cfb43d5a1426b0acb0\n",
      "\u001b[1;38;5;39mCOMET INFO:\u001b[0m   Metrics [count] (min, max):\n",
      "\u001b[1;38;5;39mCOMET INFO:\u001b[0m     accuracy [10]                 : (0.7623166441917419, 0.9595166444778442)\n",
      "\u001b[1;38;5;39mCOMET INFO:\u001b[0m     batch_accuracy [1880]         : (0.0625, 1.0)\n",
      "\u001b[1;38;5;39mCOMET INFO:\u001b[0m     batch_loss [1880]             : (0.02827959693968296, 2.573902130126953)\n",
      "\u001b[1;38;5;39mCOMET INFO:\u001b[0m     epoch_duration [10]           : (1.702667723999184, 10.547453594997933)\n",
      "\u001b[1;38;5;39mCOMET INFO:\u001b[0m     loss [10]                     : (0.1353299915790558, 0.7786597013473511)\n",
      "\u001b[1;38;5;39mCOMET INFO:\u001b[0m     val_accuracy [10]             : (0.9042999744415283, 0.9549000263214111)\n",
      "\u001b[1;38;5;39mCOMET INFO:\u001b[0m     val_loss [10]                 : (0.15340153872966766, 0.3382183313369751)\n",
      "\u001b[1;38;5;39mCOMET INFO:\u001b[0m     validate_batch_accuracy [320] : (0.8742284178733826, 1.0)\n",
      "\u001b[1;38;5;39mCOMET INFO:\u001b[0m     validate_batch_loss [320]     : (0.044279344379901886, 0.4225977063179016)\n",
      "\u001b[1;38;5;39mCOMET INFO:\u001b[0m   Others:\n",
      "\u001b[1;38;5;39mCOMET INFO:\u001b[0m     optimizer_count        : 5\n",
      "\u001b[1;38;5;39mCOMET INFO:\u001b[0m     optimizer_id           : 61fe9926a0b2429ab77580bbf796ca33\n",
      "\u001b[1;38;5;39mCOMET INFO:\u001b[0m     optimizer_metric       : loss\n",
      "\u001b[1;38;5;39mCOMET INFO:\u001b[0m     optimizer_metric_value : 0.1353299915790558\n",
      "\u001b[1;38;5;39mCOMET INFO:\u001b[0m     optimizer_name         : Optimize MNIST Network with Random Search\n",
      "\u001b[1;38;5;39mCOMET INFO:\u001b[0m     optimizer_objective    : minimum\n",
      "\u001b[1;38;5;39mCOMET INFO:\u001b[0m     optimizer_parameters   : {\"batch_size\": 32, \"first_layer_units\": 20, \"learning_rate\": 0.0028046288616174744}\n",
      "\u001b[1;38;5;39mCOMET INFO:\u001b[0m     optimizer_pid          : 2e0a5f14a4a068af77ae6e876f1cff8efff12d45\n",
      "\u001b[1;38;5;39mCOMET INFO:\u001b[0m     optimizer_process      : 1123214\n",
      "\u001b[1;38;5;39mCOMET INFO:\u001b[0m     optimizer_trial        : 1\n",
      "\u001b[1;38;5;39mCOMET INFO:\u001b[0m     optimizer_version      : 2.1.2\n",
      "\u001b[1;38;5;39mCOMET INFO:\u001b[0m     trainable_params       : 36190\n",
      "\u001b[1;38;5;39mCOMET INFO:\u001b[0m   Parameters:\n",
      "\u001b[1;38;5;39mCOMET INFO:\u001b[0m     Optimizer                           : rmsprop\n",
      "\u001b[1;38;5;39mCOMET INFO:\u001b[0m     RMSprop_centered                    : False\n",
      "\u001b[1;38;5;39mCOMET INFO:\u001b[0m     RMSprop_clipnorm                    : None\n",
      "\u001b[1;38;5;39mCOMET INFO:\u001b[0m     RMSprop_clipvalue                   : None\n",
      "\u001b[1;38;5;39mCOMET INFO:\u001b[0m     RMSprop_ema_momentum                : 0.99\n",
      "\u001b[1;38;5;39mCOMET INFO:\u001b[0m     RMSprop_ema_overwrite_frequency     : None\n",
      "\u001b[1;38;5;39mCOMET INFO:\u001b[0m     RMSprop_epsilon                     : 1e-07\n",
      "\u001b[1;38;5;39mCOMET INFO:\u001b[0m     RMSprop_global_clipnorm             : None\n",
      "\u001b[1;38;5;39mCOMET INFO:\u001b[0m     RMSprop_gradient_accumulation_steps : None\n",
      "\u001b[1;38;5;39mCOMET INFO:\u001b[0m     RMSprop_learning_rate               : 0.0010000000474974513\n",
      "\u001b[1;38;5;39mCOMET INFO:\u001b[0m     RMSprop_loss_scale_factor           : None\n",
      "\u001b[1;38;5;39mCOMET INFO:\u001b[0m     RMSprop_momentum                    : 0.0\n",
      "\u001b[1;38;5;39mCOMET INFO:\u001b[0m     RMSprop_name                        : rmsprop\n",
      "\u001b[1;38;5;39mCOMET INFO:\u001b[0m     RMSprop_rho                         : 0.9\n",
      "\u001b[1;38;5;39mCOMET INFO:\u001b[0m     RMSprop_use_ema                     : False\n",
      "\u001b[1;38;5;39mCOMET INFO:\u001b[0m     RMSprop_weight_decay                : None\n",
      "\u001b[1;38;5;39mCOMET INFO:\u001b[0m     batch_size                          : 32\n",
      "\u001b[1;38;5;39mCOMET INFO:\u001b[0m     epochs                              : 10\n",
      "\u001b[1;38;5;39mCOMET INFO:\u001b[0m     first_layer_units                   : 20\n",
      "\u001b[1;38;5;39mCOMET INFO:\u001b[0m     learning_rate                       : 0.0028046288616174744\n",
      "\u001b[1;38;5;39mCOMET INFO:\u001b[0m     rmsprop_centered                    : False\n",
      "\u001b[1;38;5;39mCOMET INFO:\u001b[0m     rmsprop_clipnorm                    : None\n",
      "\u001b[1;38;5;39mCOMET INFO:\u001b[0m     rmsprop_clipvalue                   : None\n",
      "\u001b[1;38;5;39mCOMET INFO:\u001b[0m     rmsprop_ema_momentum                : 0.99\n",
      "\u001b[1;38;5;39mCOMET INFO:\u001b[0m     rmsprop_ema_overwrite_frequency     : None\n",
      "\u001b[1;38;5;39mCOMET INFO:\u001b[0m     rmsprop_epsilon                     : 1e-07\n",
      "\u001b[1;38;5;39mCOMET INFO:\u001b[0m     rmsprop_global_clipnorm             : None\n",
      "\u001b[1;38;5;39mCOMET INFO:\u001b[0m     rmsprop_gradient_accumulation_steps : None\n",
      "\u001b[1;38;5;39mCOMET INFO:\u001b[0m     rmsprop_learning_rate               : 0.0010000000474974513\n",
      "\u001b[1;38;5;39mCOMET INFO:\u001b[0m     rmsprop_loss_scale_factor           : None\n",
      "\u001b[1;38;5;39mCOMET INFO:\u001b[0m     rmsprop_momentum                    : 0.0\n",
      "\u001b[1;38;5;39mCOMET INFO:\u001b[0m     rmsprop_rho                         : 0.9\n",
      "\u001b[1;38;5;39mCOMET INFO:\u001b[0m     rmsprop_use_ema                     : False\n",
      "\u001b[1;38;5;39mCOMET INFO:\u001b[0m     rmsprop_weight_decay                : None\n",
      "\u001b[1;38;5;39mCOMET INFO:\u001b[0m     steps                               : 1875\n",
      "\u001b[1;38;5;39mCOMET INFO:\u001b[0m   Uploads:\n",
      "\u001b[1;38;5;39mCOMET INFO:\u001b[0m     environment details : 1\n",
      "\u001b[1;38;5;39mCOMET INFO:\u001b[0m     filename            : 1\n",
      "\u001b[1;38;5;39mCOMET INFO:\u001b[0m     installed packages  : 1\n",
      "\u001b[1;38;5;39mCOMET INFO:\u001b[0m     model graph         : 1\n",
      "\u001b[1;38;5;39mCOMET INFO:\u001b[0m     notebook            : 1\n",
      "\u001b[1;38;5;39mCOMET INFO:\u001b[0m     source_code         : 1\n",
      "\u001b[1;38;5;39mCOMET INFO:\u001b[0m \n"
     ]
    },
    {
     "name": "stdout",
     "output_type": "stream",
     "text": [
      "Score %s [0.15340153872966766, 0.9549000263214111]\n"
     ]
    },
    {
     "name": "stderr",
     "output_type": "stream",
     "text": [
      "\u001b[1;38;5;214mCOMET WARNING:\u001b[0m As you are running in a Jupyter environment, you will need to call `experiment.end()` when finished to ensure all metrics and code are logged before exiting.\n",
      "\u001b[1;38;5;39mCOMET INFO:\u001b[0m Couldn't find a Git repository in '/lustre06/project/6078700/nast/comet' nor in any parent directory. Set `COMET_GIT_DIRECTORY` if your Git Repository is elsewhere.\n",
      "\u001b[1;38;5;39mCOMET INFO:\u001b[0m Experiment is live on comet.com https://www.comet.com/nast69/random-search/215be0913b974492ba1192634a55d1c2\n",
      "\n"
     ]
    },
    {
     "name": "stdout",
     "output_type": "stream",
     "text": [
      "Epoch 1/10\n"
     ]
    },
    {
     "name": "stderr",
     "output_type": "stream",
     "text": [
      "2024-11-26 13:11:29.349918: W external/local_xla/xla/service/gpu/triton_autotuner.cc:660] Compiling 29 configs for 2 fusions on a single thread.\n"
     ]
    },
    {
     "name": "stdout",
     "output_type": "stream",
     "text": [
      "\u001b[1m3750/3750\u001b[0m \u001b[32m━━━━━━━━━━━━━━━━━━━━\u001b[0m\u001b[37m\u001b[0m \u001b[1m7s\u001b[0m 1ms/step - accuracy: 0.6376 - loss: 1.0901 - val_accuracy: 0.9138 - val_loss: 0.3014\n",
      "Epoch 2/10\n",
      "\u001b[1m3750/3750\u001b[0m \u001b[32m━━━━━━━━━━━━━━━━━━━━\u001b[0m\u001b[37m\u001b[0m \u001b[1m3s\u001b[0m 885us/step - accuracy: 0.9217 - loss: 0.2695 - val_accuracy: 0.9340 - val_loss: 0.2367\n",
      "Epoch 3/10\n",
      "\u001b[1m3750/3750\u001b[0m \u001b[32m━━━━━━━━━━━━━━━━━━━━\u001b[0m\u001b[37m\u001b[0m \u001b[1m3s\u001b[0m 883us/step - accuracy: 0.9365 - loss: 0.2171 - val_accuracy: 0.9426 - val_loss: 0.1937\n",
      "Epoch 4/10\n",
      "\u001b[1m3750/3750\u001b[0m \u001b[32m━━━━━━━━━━━━━━━━━━━━\u001b[0m\u001b[37m\u001b[0m \u001b[1m3s\u001b[0m 900us/step - accuracy: 0.9455 - loss: 0.1829 - val_accuracy: 0.9468 - val_loss: 0.1801\n",
      "Epoch 5/10\n",
      "\u001b[1m3750/3750\u001b[0m \u001b[32m━━━━━━━━━━━━━━━━━━━━\u001b[0m\u001b[37m\u001b[0m \u001b[1m3s\u001b[0m 889us/step - accuracy: 0.9510 - loss: 0.1639 - val_accuracy: 0.9498 - val_loss: 0.1733\n",
      "Epoch 6/10\n",
      "\u001b[1m3750/3750\u001b[0m \u001b[32m━━━━━━━━━━━━━━━━━━━━\u001b[0m\u001b[37m\u001b[0m \u001b[1m3s\u001b[0m 880us/step - accuracy: 0.9544 - loss: 0.1518 - val_accuracy: 0.9513 - val_loss: 0.1604\n",
      "Epoch 7/10\n",
      "\u001b[1m3750/3750\u001b[0m \u001b[32m━━━━━━━━━━━━━━━━━━━━\u001b[0m\u001b[37m\u001b[0m \u001b[1m3s\u001b[0m 887us/step - accuracy: 0.9560 - loss: 0.1477 - val_accuracy: 0.9496 - val_loss: 0.1662\n",
      "Epoch 8/10\n",
      "\u001b[1m3750/3750\u001b[0m \u001b[32m━━━━━━━━━━━━━━━━━━━━\u001b[0m\u001b[37m\u001b[0m \u001b[1m3s\u001b[0m 884us/step - accuracy: 0.9597 - loss: 0.1351 - val_accuracy: 0.9498 - val_loss: 0.1660\n",
      "Epoch 9/10\n",
      "\u001b[1m3750/3750\u001b[0m \u001b[32m━━━━━━━━━━━━━━━━━━━━\u001b[0m\u001b[37m\u001b[0m \u001b[1m3s\u001b[0m 895us/step - accuracy: 0.9598 - loss: 0.1319 - val_accuracy: 0.9535 - val_loss: 0.1552\n",
      "Epoch 10/10\n",
      "\u001b[1m3750/3750\u001b[0m \u001b[32m━━━━━━━━━━━━━━━━━━━━\u001b[0m\u001b[37m\u001b[0m \u001b[1m3s\u001b[0m 886us/step - accuracy: 0.9636 - loss: 0.1260 - val_accuracy: 0.9540 - val_loss: 0.1570\n"
     ]
    },
    {
     "name": "stderr",
     "output_type": "stream",
     "text": [
      "2024-11-26 13:12:05.945525: W external/local_xla/xla/service/gpu/triton_autotuner.cc:656] Compiling 16 configs for triton_gemm_dot.50 on a single thread.\n",
      "\u001b[1;38;5;39mCOMET INFO:\u001b[0m ---------------------------------------------------------------------------------------\n",
      "\u001b[1;38;5;39mCOMET INFO:\u001b[0m Comet.ml Experiment Summary\n",
      "\u001b[1;38;5;39mCOMET INFO:\u001b[0m ---------------------------------------------------------------------------------------\n",
      "\u001b[1;38;5;39mCOMET INFO:\u001b[0m   Data:\n",
      "\u001b[1;38;5;39mCOMET INFO:\u001b[0m     display_summary_level : 1\n",
      "\u001b[1;38;5;39mCOMET INFO:\u001b[0m     name                  : beige_chapel_635\n",
      "\u001b[1;38;5;39mCOMET INFO:\u001b[0m     url                   : https://www.comet.com/nast69/random-search/215be0913b974492ba1192634a55d1c2\n",
      "\u001b[1;38;5;39mCOMET INFO:\u001b[0m   Metrics [count] (min, max):\n",
      "\u001b[1;38;5;39mCOMET INFO:\u001b[0m     accuracy [10]                 : (0.8058500289916992, 0.9629999995231628)\n",
      "\u001b[1;38;5;39mCOMET INFO:\u001b[0m     batch_accuracy [3750]         : (0.10171568393707275, 1.0)\n",
      "\u001b[1;38;5;39mCOMET INFO:\u001b[0m     batch_loss [3750]             : (0.04721992835402489, 2.8224496841430664)\n",
      "\u001b[1;38;5;39mCOMET INFO:\u001b[0m     epoch_duration [10]           : (3.317432446005114, 6.561292314996535)\n",
      "\u001b[1;38;5;39mCOMET INFO:\u001b[0m     loss [10]                     : (0.12814168632030487, 0.6231521368026733)\n",
      "\u001b[1;38;5;39mCOMET INFO:\u001b[0m     val_accuracy [10]             : (0.9138000011444092, 0.9539999961853027)\n",
      "\u001b[1;38;5;39mCOMET INFO:\u001b[0m     val_loss [10]                 : (0.1552465260028839, 0.30141448974609375)\n",
      "\u001b[1;38;5;39mCOMET INFO:\u001b[0m     validate_batch_accuracy [630] : (0.8904520273208618, 1.0)\n",
      "\u001b[1;38;5;39mCOMET INFO:\u001b[0m     validate_batch_loss [630]     : (0.003140796208754182, 0.3752519488334656)\n",
      "\u001b[1;38;5;39mCOMET INFO:\u001b[0m   Others:\n",
      "\u001b[1;38;5;39mCOMET INFO:\u001b[0m     optimizer_count        : 6\n",
      "\u001b[1;38;5;39mCOMET INFO:\u001b[0m     optimizer_id           : 61fe9926a0b2429ab77580bbf796ca33\n",
      "\u001b[1;38;5;39mCOMET INFO:\u001b[0m     optimizer_metric       : loss\n",
      "\u001b[1;38;5;39mCOMET INFO:\u001b[0m     optimizer_metric_value : 0.12814168632030487\n",
      "\u001b[1;38;5;39mCOMET INFO:\u001b[0m     optimizer_name         : Optimize MNIST Network with Random Search\n",
      "\u001b[1;38;5;39mCOMET INFO:\u001b[0m     optimizer_objective    : minimum\n",
      "\u001b[1;38;5;39mCOMET INFO:\u001b[0m     optimizer_parameters   : {\"batch_size\": 16, \"first_layer_units\": 23, \"learning_rate\": 0.007889677349573914}\n",
      "\u001b[1;38;5;39mCOMET INFO:\u001b[0m     optimizer_pid          : f0e4b8c9f3465a975eb3684dab5e16ac60d918c8\n",
      "\u001b[1;38;5;39mCOMET INFO:\u001b[0m     optimizer_process      : 1123214\n",
      "\u001b[1;38;5;39mCOMET INFO:\u001b[0m     optimizer_trial        : 1\n",
      "\u001b[1;38;5;39mCOMET INFO:\u001b[0m     optimizer_version      : 2.1.2\n",
      "\u001b[1;38;5;39mCOMET INFO:\u001b[0m     trainable_params       : 38929\n",
      "\u001b[1;38;5;39mCOMET INFO:\u001b[0m   Parameters:\n",
      "\u001b[1;38;5;39mCOMET INFO:\u001b[0m     Optimizer                           : rmsprop\n",
      "\u001b[1;38;5;39mCOMET INFO:\u001b[0m     RMSprop_centered                    : False\n",
      "\u001b[1;38;5;39mCOMET INFO:\u001b[0m     RMSprop_clipnorm                    : None\n",
      "\u001b[1;38;5;39mCOMET INFO:\u001b[0m     RMSprop_clipvalue                   : None\n",
      "\u001b[1;38;5;39mCOMET INFO:\u001b[0m     RMSprop_ema_momentum                : 0.99\n",
      "\u001b[1;38;5;39mCOMET INFO:\u001b[0m     RMSprop_ema_overwrite_frequency     : None\n",
      "\u001b[1;38;5;39mCOMET INFO:\u001b[0m     RMSprop_epsilon                     : 1e-07\n",
      "\u001b[1;38;5;39mCOMET INFO:\u001b[0m     RMSprop_global_clipnorm             : None\n",
      "\u001b[1;38;5;39mCOMET INFO:\u001b[0m     RMSprop_gradient_accumulation_steps : None\n",
      "\u001b[1;38;5;39mCOMET INFO:\u001b[0m     RMSprop_learning_rate               : 0.0010000000474974513\n",
      "\u001b[1;38;5;39mCOMET INFO:\u001b[0m     RMSprop_loss_scale_factor           : None\n",
      "\u001b[1;38;5;39mCOMET INFO:\u001b[0m     RMSprop_momentum                    : 0.0\n",
      "\u001b[1;38;5;39mCOMET INFO:\u001b[0m     RMSprop_name                        : rmsprop\n",
      "\u001b[1;38;5;39mCOMET INFO:\u001b[0m     RMSprop_rho                         : 0.9\n",
      "\u001b[1;38;5;39mCOMET INFO:\u001b[0m     RMSprop_use_ema                     : False\n",
      "\u001b[1;38;5;39mCOMET INFO:\u001b[0m     RMSprop_weight_decay                : None\n",
      "\u001b[1;38;5;39mCOMET INFO:\u001b[0m     batch_size                          : 16\n",
      "\u001b[1;38;5;39mCOMET INFO:\u001b[0m     epochs                              : 10\n",
      "\u001b[1;38;5;39mCOMET INFO:\u001b[0m     first_layer_units                   : 23\n",
      "\u001b[1;38;5;39mCOMET INFO:\u001b[0m     learning_rate                       : 0.007889677349573914\n",
      "\u001b[1;38;5;39mCOMET INFO:\u001b[0m     rmsprop_centered                    : False\n",
      "\u001b[1;38;5;39mCOMET INFO:\u001b[0m     rmsprop_clipnorm                    : None\n",
      "\u001b[1;38;5;39mCOMET INFO:\u001b[0m     rmsprop_clipvalue                   : None\n",
      "\u001b[1;38;5;39mCOMET INFO:\u001b[0m     rmsprop_ema_momentum                : 0.99\n",
      "\u001b[1;38;5;39mCOMET INFO:\u001b[0m     rmsprop_ema_overwrite_frequency     : None\n",
      "\u001b[1;38;5;39mCOMET INFO:\u001b[0m     rmsprop_epsilon                     : 1e-07\n",
      "\u001b[1;38;5;39mCOMET INFO:\u001b[0m     rmsprop_global_clipnorm             : None\n",
      "\u001b[1;38;5;39mCOMET INFO:\u001b[0m     rmsprop_gradient_accumulation_steps : None\n",
      "\u001b[1;38;5;39mCOMET INFO:\u001b[0m     rmsprop_learning_rate               : 0.0010000000474974513\n",
      "\u001b[1;38;5;39mCOMET INFO:\u001b[0m     rmsprop_loss_scale_factor           : None\n",
      "\u001b[1;38;5;39mCOMET INFO:\u001b[0m     rmsprop_momentum                    : 0.0\n",
      "\u001b[1;38;5;39mCOMET INFO:\u001b[0m     rmsprop_rho                         : 0.9\n",
      "\u001b[1;38;5;39mCOMET INFO:\u001b[0m     rmsprop_use_ema                     : False\n",
      "\u001b[1;38;5;39mCOMET INFO:\u001b[0m     rmsprop_weight_decay                : None\n",
      "\u001b[1;38;5;39mCOMET INFO:\u001b[0m     steps                               : 3750\n",
      "\u001b[1;38;5;39mCOMET INFO:\u001b[0m   Uploads:\n",
      "\u001b[1;38;5;39mCOMET INFO:\u001b[0m     environment details : 1\n",
      "\u001b[1;38;5;39mCOMET INFO:\u001b[0m     filename            : 1\n",
      "\u001b[1;38;5;39mCOMET INFO:\u001b[0m     installed packages  : 1\n",
      "\u001b[1;38;5;39mCOMET INFO:\u001b[0m     model graph         : 1\n",
      "\u001b[1;38;5;39mCOMET INFO:\u001b[0m     notebook            : 1\n",
      "\u001b[1;38;5;39mCOMET INFO:\u001b[0m     source_code         : 1\n",
      "\u001b[1;38;5;39mCOMET INFO:\u001b[0m \n"
     ]
    },
    {
     "name": "stdout",
     "output_type": "stream",
     "text": [
      "Score %s [0.15699973702430725, 0.9539999961853027]\n"
     ]
    },
    {
     "name": "stderr",
     "output_type": "stream",
     "text": [
      "\u001b[1;38;5;39mCOMET INFO:\u001b[0m Uploading 84 metrics, params and output messages\n",
      "\u001b[1;38;5;214mCOMET WARNING:\u001b[0m As you are running in a Jupyter environment, you will need to call `experiment.end()` when finished to ensure all metrics and code are logged before exiting.\n",
      "\u001b[1;38;5;39mCOMET INFO:\u001b[0m Experiment is live on comet.com https://www.comet.com/nast69/random-search/05e9e80b674a46da886046d94acde045\n",
      "\n",
      "\u001b[1;38;5;39mCOMET INFO:\u001b[0m Couldn't find a Git repository in '/lustre06/project/6078700/nast/comet' nor in any parent directory. Set `COMET_GIT_DIRECTORY` if your Git Repository is elsewhere.\n"
     ]
    },
    {
     "name": "stdout",
     "output_type": "stream",
     "text": [
      "Epoch 1/10\n"
     ]
    },
    {
     "name": "stderr",
     "output_type": "stream",
     "text": [
      "2024-11-26 13:12:11.440958: W external/local_xla/xla/service/gpu/triton_autotuner.cc:660] Compiling 36 configs for 2 fusions on a single thread.\n"
     ]
    },
    {
     "name": "stdout",
     "output_type": "stream",
     "text": [
      "\u001b[1m3750/3750\u001b[0m \u001b[32m━━━━━━━━━━━━━━━━━━━━\u001b[0m\u001b[37m\u001b[0m \u001b[1m8s\u001b[0m 1ms/step - accuracy: 0.6798 - loss: 0.9610 - val_accuracy: 0.9322 - val_loss: 0.2335\n",
      "Epoch 2/10\n",
      "\u001b[1m3750/3750\u001b[0m \u001b[32m━━━━━━━━━━━━━━━━━━━━\u001b[0m\u001b[37m\u001b[0m \u001b[1m3s\u001b[0m 882us/step - accuracy: 0.9376 - loss: 0.2063 - val_accuracy: 0.9512 - val_loss: 0.1622\n",
      "Epoch 3/10\n",
      "\u001b[1m3750/3750\u001b[0m \u001b[32m━━━━━━━━━━━━━━━━━━━━\u001b[0m\u001b[37m\u001b[0m \u001b[1m3s\u001b[0m 887us/step - accuracy: 0.9550 - loss: 0.1480 - val_accuracy: 0.9636 - val_loss: 0.1270\n",
      "Epoch 4/10\n",
      "\u001b[1m3750/3750\u001b[0m \u001b[32m━━━━━━━━━━━━━━━━━━━━\u001b[0m\u001b[37m\u001b[0m \u001b[1m3s\u001b[0m 890us/step - accuracy: 0.9627 - loss: 0.1258 - val_accuracy: 0.9665 - val_loss: 0.1175\n",
      "Epoch 5/10\n",
      "\u001b[1m3750/3750\u001b[0m \u001b[32m━━━━━━━━━━━━━━━━━━━━\u001b[0m\u001b[37m\u001b[0m \u001b[1m3s\u001b[0m 891us/step - accuracy: 0.9682 - loss: 0.1061 - val_accuracy: 0.9673 - val_loss: 0.1185\n",
      "Epoch 6/10\n",
      "\u001b[1m3750/3750\u001b[0m \u001b[32m━━━━━━━━━━━━━━━━━━━━\u001b[0m\u001b[37m\u001b[0m \u001b[1m3s\u001b[0m 886us/step - accuracy: 0.9715 - loss: 0.0947 - val_accuracy: 0.9716 - val_loss: 0.1035\n",
      "Epoch 7/10\n",
      "\u001b[1m3750/3750\u001b[0m \u001b[32m━━━━━━━━━━━━━━━━━━━━\u001b[0m\u001b[37m\u001b[0m \u001b[1m3s\u001b[0m 880us/step - accuracy: 0.9758 - loss: 0.0825 - val_accuracy: 0.9665 - val_loss: 0.1182\n",
      "Epoch 8/10\n",
      "\u001b[1m3750/3750\u001b[0m \u001b[32m━━━━━━━━━━━━━━━━━━━━\u001b[0m\u001b[37m\u001b[0m \u001b[1m5s\u001b[0m 889us/step - accuracy: 0.9761 - loss: 0.0786 - val_accuracy: 0.9724 - val_loss: 0.0950\n",
      "Epoch 9/10\n",
      "\u001b[1m3750/3750\u001b[0m \u001b[32m━━━━━━━━━━━━━━━━━━━━\u001b[0m\u001b[37m\u001b[0m \u001b[1m3s\u001b[0m 896us/step - accuracy: 0.9773 - loss: 0.0754 - val_accuracy: 0.9694 - val_loss: 0.1127\n",
      "Epoch 10/10\n",
      "\u001b[1m3750/3750\u001b[0m \u001b[32m━━━━━━━━━━━━━━━━━━━━\u001b[0m\u001b[37m\u001b[0m \u001b[1m5s\u001b[0m 888us/step - accuracy: 0.9799 - loss: 0.0713 - val_accuracy: 0.9696 - val_loss: 0.1136\n"
     ]
    },
    {
     "name": "stderr",
     "output_type": "stream",
     "text": [
      "2024-11-26 13:12:52.453204: W external/local_xla/xla/service/gpu/triton_autotuner.cc:656] Compiling 20 configs for triton_gemm_dot.50 on a single thread.\n",
      "\u001b[1;38;5;39mCOMET INFO:\u001b[0m ---------------------------------------------------------------------------------------\n",
      "\u001b[1;38;5;39mCOMET INFO:\u001b[0m Comet.ml Experiment Summary\n",
      "\u001b[1;38;5;39mCOMET INFO:\u001b[0m ---------------------------------------------------------------------------------------\n",
      "\u001b[1;38;5;39mCOMET INFO:\u001b[0m   Data:\n",
      "\u001b[1;38;5;39mCOMET INFO:\u001b[0m     display_summary_level : 1\n",
      "\u001b[1;38;5;39mCOMET INFO:\u001b[0m     name                  : boring_cake_74\n",
      "\u001b[1;38;5;39mCOMET INFO:\u001b[0m     url                   : https://www.comet.com/nast69/random-search/05e9e80b674a46da886046d94acde045\n",
      "\u001b[1;38;5;39mCOMET INFO:\u001b[0m   Metrics [count] (min, max):\n",
      "\u001b[1;38;5;39mCOMET INFO:\u001b[0m     accuracy [10]                 : (0.8354499936103821, 0.9794833064079285)\n",
      "\u001b[1;38;5;39mCOMET INFO:\u001b[0m     batch_accuracy [3750]         : (0.0625, 1.0)\n",
      "\u001b[1;38;5;39mCOMET INFO:\u001b[0m     batch_loss [3750]             : (0.0017145969904959202, 2.4504787921905518)\n",
      "\u001b[1;38;5;39mCOMET INFO:\u001b[0m     epoch_duration [10]           : (3.3245800500008045, 7.625019264000002)\n",
      "\u001b[1;38;5;39mCOMET INFO:\u001b[0m     loss [10]                     : (0.07186786830425262, 0.5276575684547424)\n",
      "\u001b[1;38;5;39mCOMET INFO:\u001b[0m     val_accuracy [10]             : (0.932200014591217, 0.9724000096321106)\n",
      "\u001b[1;38;5;39mCOMET INFO:\u001b[0m     val_loss [10]                 : (0.09501904249191284, 0.2334950864315033)\n",
      "\u001b[1;38;5;39mCOMET INFO:\u001b[0m     validate_batch_accuracy [630] : (0.9138745665550232, 1.0)\n",
      "\u001b[1;38;5;39mCOMET INFO:\u001b[0m     validate_batch_loss [630]     : (0.0008489621104672551, 0.29235923290252686)\n",
      "\u001b[1;38;5;39mCOMET INFO:\u001b[0m   Others:\n",
      "\u001b[1;38;5;39mCOMET INFO:\u001b[0m     optimizer_count        : 7\n",
      "\u001b[1;38;5;39mCOMET INFO:\u001b[0m     optimizer_id           : 61fe9926a0b2429ab77580bbf796ca33\n",
      "\u001b[1;38;5;39mCOMET INFO:\u001b[0m     optimizer_metric       : loss\n",
      "\u001b[1;38;5;39mCOMET INFO:\u001b[0m     optimizer_metric_value : 0.07186786830425262\n",
      "\u001b[1;38;5;39mCOMET INFO:\u001b[0m     optimizer_name         : Optimize MNIST Network with Random Search\n",
      "\u001b[1;38;5;39mCOMET INFO:\u001b[0m     optimizer_objective    : minimum\n",
      "\u001b[1;38;5;39mCOMET INFO:\u001b[0m     optimizer_parameters   : {\"batch_size\": 16, \"first_layer_units\": 56, \"learning_rate\": 0.0007182487156137234}\n",
      "\u001b[1;38;5;39mCOMET INFO:\u001b[0m     optimizer_pid          : ae9f364e9d53c91dfdbb8095211bbd571122e927\n",
      "\u001b[1;38;5;39mCOMET INFO:\u001b[0m     optimizer_process      : 1123214\n",
      "\u001b[1;38;5;39mCOMET INFO:\u001b[0m     optimizer_trial        : 1\n",
      "\u001b[1;38;5;39mCOMET INFO:\u001b[0m     optimizer_version      : 2.1.2\n",
      "\u001b[1;38;5;39mCOMET INFO:\u001b[0m     trainable_params       : 69058\n",
      "\u001b[1;38;5;39mCOMET INFO:\u001b[0m   Parameters:\n",
      "\u001b[1;38;5;39mCOMET INFO:\u001b[0m     Optimizer                           : rmsprop\n",
      "\u001b[1;38;5;39mCOMET INFO:\u001b[0m     RMSprop_centered                    : False\n",
      "\u001b[1;38;5;39mCOMET INFO:\u001b[0m     RMSprop_clipnorm                    : None\n",
      "\u001b[1;38;5;39mCOMET INFO:\u001b[0m     RMSprop_clipvalue                   : None\n",
      "\u001b[1;38;5;39mCOMET INFO:\u001b[0m     RMSprop_ema_momentum                : 0.99\n",
      "\u001b[1;38;5;39mCOMET INFO:\u001b[0m     RMSprop_ema_overwrite_frequency     : None\n",
      "\u001b[1;38;5;39mCOMET INFO:\u001b[0m     RMSprop_epsilon                     : 1e-07\n",
      "\u001b[1;38;5;39mCOMET INFO:\u001b[0m     RMSprop_global_clipnorm             : None\n",
      "\u001b[1;38;5;39mCOMET INFO:\u001b[0m     RMSprop_gradient_accumulation_steps : None\n",
      "\u001b[1;38;5;39mCOMET INFO:\u001b[0m     RMSprop_learning_rate               : 0.0010000000474974513\n",
      "\u001b[1;38;5;39mCOMET INFO:\u001b[0m     RMSprop_loss_scale_factor           : None\n",
      "\u001b[1;38;5;39mCOMET INFO:\u001b[0m     RMSprop_momentum                    : 0.0\n",
      "\u001b[1;38;5;39mCOMET INFO:\u001b[0m     RMSprop_name                        : rmsprop\n",
      "\u001b[1;38;5;39mCOMET INFO:\u001b[0m     RMSprop_rho                         : 0.9\n",
      "\u001b[1;38;5;39mCOMET INFO:\u001b[0m     RMSprop_use_ema                     : False\n",
      "\u001b[1;38;5;39mCOMET INFO:\u001b[0m     RMSprop_weight_decay                : None\n",
      "\u001b[1;38;5;39mCOMET INFO:\u001b[0m     batch_size                          : 16\n",
      "\u001b[1;38;5;39mCOMET INFO:\u001b[0m     epochs                              : 10\n",
      "\u001b[1;38;5;39mCOMET INFO:\u001b[0m     first_layer_units                   : 56\n",
      "\u001b[1;38;5;39mCOMET INFO:\u001b[0m     learning_rate                       : 0.0007182487156137234\n",
      "\u001b[1;38;5;39mCOMET INFO:\u001b[0m     rmsprop_centered                    : False\n",
      "\u001b[1;38;5;39mCOMET INFO:\u001b[0m     rmsprop_clipnorm                    : None\n",
      "\u001b[1;38;5;39mCOMET INFO:\u001b[0m     rmsprop_clipvalue                   : None\n",
      "\u001b[1;38;5;39mCOMET INFO:\u001b[0m     rmsprop_ema_momentum                : 0.99\n",
      "\u001b[1;38;5;39mCOMET INFO:\u001b[0m     rmsprop_ema_overwrite_frequency     : None\n",
      "\u001b[1;38;5;39mCOMET INFO:\u001b[0m     rmsprop_epsilon                     : 1e-07\n",
      "\u001b[1;38;5;39mCOMET INFO:\u001b[0m     rmsprop_global_clipnorm             : None\n",
      "\u001b[1;38;5;39mCOMET INFO:\u001b[0m     rmsprop_gradient_accumulation_steps : None\n",
      "\u001b[1;38;5;39mCOMET INFO:\u001b[0m     rmsprop_learning_rate               : 0.0010000000474974513\n",
      "\u001b[1;38;5;39mCOMET INFO:\u001b[0m     rmsprop_loss_scale_factor           : None\n",
      "\u001b[1;38;5;39mCOMET INFO:\u001b[0m     rmsprop_momentum                    : 0.0\n",
      "\u001b[1;38;5;39mCOMET INFO:\u001b[0m     rmsprop_rho                         : 0.9\n",
      "\u001b[1;38;5;39mCOMET INFO:\u001b[0m     rmsprop_use_ema                     : False\n",
      "\u001b[1;38;5;39mCOMET INFO:\u001b[0m     rmsprop_weight_decay                : None\n",
      "\u001b[1;38;5;39mCOMET INFO:\u001b[0m     steps                               : 3750\n",
      "\u001b[1;38;5;39mCOMET INFO:\u001b[0m   Uploads:\n",
      "\u001b[1;38;5;39mCOMET INFO:\u001b[0m     environment details : 1\n",
      "\u001b[1;38;5;39mCOMET INFO:\u001b[0m     filename            : 1\n",
      "\u001b[1;38;5;39mCOMET INFO:\u001b[0m     installed packages  : 1\n",
      "\u001b[1;38;5;39mCOMET INFO:\u001b[0m     model graph         : 1\n",
      "\u001b[1;38;5;39mCOMET INFO:\u001b[0m     notebook            : 1\n",
      "\u001b[1;38;5;39mCOMET INFO:\u001b[0m     source_code         : 1\n",
      "\u001b[1;38;5;39mCOMET INFO:\u001b[0m \n"
     ]
    },
    {
     "name": "stdout",
     "output_type": "stream",
     "text": [
      "Score %s [0.11364323645830154, 0.9696000218391418]\n"
     ]
    },
    {
     "name": "stderr",
     "output_type": "stream",
     "text": [
      "\u001b[1;38;5;214mCOMET WARNING:\u001b[0m As you are running in a Jupyter environment, you will need to call `experiment.end()` when finished to ensure all metrics and code are logged before exiting.\n",
      "\u001b[1;38;5;39mCOMET INFO:\u001b[0m Couldn't find a Git repository in '/lustre06/project/6078700/nast/comet' nor in any parent directory. Set `COMET_GIT_DIRECTORY` if your Git Repository is elsewhere.\n",
      "\u001b[1;38;5;39mCOMET INFO:\u001b[0m Experiment is live on comet.com https://www.comet.com/nast69/random-search/14a5d02cda2b4da9b5674e96b130ed76\n",
      "\n"
     ]
    },
    {
     "name": "stdout",
     "output_type": "stream",
     "text": [
      "Epoch 1/10\n"
     ]
    },
    {
     "name": "stderr",
     "output_type": "stream",
     "text": [
      "2024-11-26 13:12:58.169037: W external/local_xla/xla/service/gpu/triton_autotuner.cc:660] Compiling 38 configs for 2 fusions on a single thread.\n"
     ]
    },
    {
     "name": "stdout",
     "output_type": "stream",
     "text": [
      "\u001b[1m1855/1875\u001b[0m \u001b[32m━━━━━━━━━━━━━━━━━━━\u001b[0m\u001b[37m━\u001b[0m \u001b[1m0s\u001b[0m 788us/step - accuracy: 0.6189 - loss: 1.1683"
     ]
    },
    {
     "name": "stderr",
     "output_type": "stream",
     "text": [
      "2024-11-26 13:13:04.562644: W external/local_xla/xla/service/gpu/triton_autotuner.cc:656] Compiling 18 configs for triton_gemm_dot.50 on a single thread.\n"
     ]
    },
    {
     "name": "stdout",
     "output_type": "stream",
     "text": [
      "\u001b[1m1875/1875\u001b[0m \u001b[32m━━━━━━━━━━━━━━━━━━━━\u001b[0m\u001b[37m\u001b[0m \u001b[1m9s\u001b[0m 2ms/step - accuracy: 0.6209 - loss: 1.1627 - val_accuracy: 0.9059 - val_loss: 0.3187\n",
      "Epoch 2/10\n",
      "\u001b[1m1875/1875\u001b[0m \u001b[32m━━━━━━━━━━━━━━━━━━━━\u001b[0m\u001b[37m\u001b[0m \u001b[1m2s\u001b[0m 913us/step - accuracy: 0.9192 - loss: 0.2730 - val_accuracy: 0.9350 - val_loss: 0.2150\n",
      "Epoch 3/10\n",
      "\u001b[1m1875/1875\u001b[0m \u001b[32m━━━━━━━━━━━━━━━━━━━━\u001b[0m\u001b[37m\u001b[0m \u001b[1m2s\u001b[0m 911us/step - accuracy: 0.9458 - loss: 0.1836 - val_accuracy: 0.9492 - val_loss: 0.1670\n",
      "Epoch 4/10\n",
      "\u001b[1m1875/1875\u001b[0m \u001b[32m━━━━━━━━━━━━━━━━━━━━\u001b[0m\u001b[37m\u001b[0m \u001b[1m2s\u001b[0m 910us/step - accuracy: 0.9564 - loss: 0.1458 - val_accuracy: 0.9581 - val_loss: 0.1409\n",
      "Epoch 5/10\n",
      "\u001b[1m1875/1875\u001b[0m \u001b[32m━━━━━━━━━━━━━━━━━━━━\u001b[0m\u001b[37m\u001b[0m \u001b[1m2s\u001b[0m 912us/step - accuracy: 0.9630 - loss: 0.1237 - val_accuracy: 0.9617 - val_loss: 0.1336\n",
      "Epoch 6/10\n",
      "\u001b[1m1875/1875\u001b[0m \u001b[32m━━━━━━━━━━━━━━━━━━━━\u001b[0m\u001b[37m\u001b[0m \u001b[1m3s\u001b[0m 922us/step - accuracy: 0.9692 - loss: 0.1045 - val_accuracy: 0.9626 - val_loss: 0.1238\n",
      "Epoch 7/10\n",
      "\u001b[1m1875/1875\u001b[0m \u001b[32m━━━━━━━━━━━━━━━━━━━━\u001b[0m\u001b[37m\u001b[0m \u001b[1m2s\u001b[0m 914us/step - accuracy: 0.9719 - loss: 0.0934 - val_accuracy: 0.9644 - val_loss: 0.1232\n",
      "Epoch 8/10\n",
      "\u001b[1m1875/1875\u001b[0m \u001b[32m━━━━━━━━━━━━━━━━━━━━\u001b[0m\u001b[37m\u001b[0m \u001b[1m3s\u001b[0m 921us/step - accuracy: 0.9737 - loss: 0.0880 - val_accuracy: 0.9668 - val_loss: 0.1154\n",
      "Epoch 9/10\n",
      "\u001b[1m1875/1875\u001b[0m \u001b[32m━━━━━━━━━━━━━━━━━━━━\u001b[0m\u001b[37m\u001b[0m \u001b[1m2s\u001b[0m 917us/step - accuracy: 0.9761 - loss: 0.0805 - val_accuracy: 0.9695 - val_loss: 0.1129\n",
      "Epoch 10/10\n",
      "\u001b[1m1875/1875\u001b[0m \u001b[32m━━━━━━━━━━━━━━━━━━━━\u001b[0m\u001b[37m\u001b[0m \u001b[1m3s\u001b[0m 916us/step - accuracy: 0.9783 - loss: 0.0737 - val_accuracy: 0.9694 - val_loss: 0.1129\n"
     ]
    },
    {
     "name": "stderr",
     "output_type": "stream",
     "text": [
      "\u001b[1;38;5;39mCOMET INFO:\u001b[0m ---------------------------------------------------------------------------------------\n",
      "\u001b[1;38;5;39mCOMET INFO:\u001b[0m Comet.ml Experiment Summary\n",
      "\u001b[1;38;5;39mCOMET INFO:\u001b[0m ---------------------------------------------------------------------------------------\n",
      "\u001b[1;38;5;39mCOMET INFO:\u001b[0m   Data:\n",
      "\u001b[1;38;5;39mCOMET INFO:\u001b[0m     display_summary_level : 1\n",
      "\u001b[1;38;5;39mCOMET INFO:\u001b[0m     name                  : joyous_ladybug_8479\n",
      "\u001b[1;38;5;39mCOMET INFO:\u001b[0m     url                   : https://www.comet.com/nast69/random-search/14a5d02cda2b4da9b5674e96b130ed76\n",
      "\u001b[1;38;5;39mCOMET INFO:\u001b[0m   Metrics [count] (min, max):\n",
      "\u001b[1;38;5;39mCOMET INFO:\u001b[0m     accuracy [10]                 : (0.7940999865531921, 0.9777500033378601)\n",
      "\u001b[1;38;5;39mCOMET INFO:\u001b[0m     batch_accuracy [1880]         : (0.09375, 1.0)\n",
      "\u001b[1;38;5;39mCOMET INFO:\u001b[0m     batch_loss [1880]             : (0.007473716512322426, 2.5167922973632812)\n",
      "\u001b[1;38;5;39mCOMET INFO:\u001b[0m     epoch_duration [10]           : (1.721383654003148, 8.701616661004664)\n",
      "\u001b[1;38;5;39mCOMET INFO:\u001b[0m     loss [10]                     : (0.0747002437710762, 0.670242190361023)\n",
      "\u001b[1;38;5;39mCOMET INFO:\u001b[0m     val_accuracy [10]             : (0.9059000015258789, 0.9695000052452087)\n",
      "\u001b[1;38;5;39mCOMET INFO:\u001b[0m     val_loss [10]                 : (0.1128697618842125, 0.3186729848384857)\n",
      "\u001b[1;38;5;39mCOMET INFO:\u001b[0m     validate_batch_accuracy [320] : (0.8800154328346252, 1.0)\n",
      "\u001b[1;38;5;39mCOMET INFO:\u001b[0m     validate_batch_loss [320]     : (0.0069761695340275764, 0.39917272329330444)\n",
      "\u001b[1;38;5;39mCOMET INFO:\u001b[0m   Others:\n",
      "\u001b[1;38;5;39mCOMET INFO:\u001b[0m     optimizer_count        : 8\n",
      "\u001b[1;38;5;39mCOMET INFO:\u001b[0m     optimizer_id           : 61fe9926a0b2429ab77580bbf796ca33\n",
      "\u001b[1;38;5;39mCOMET INFO:\u001b[0m     optimizer_metric       : loss\n",
      "\u001b[1;38;5;39mCOMET INFO:\u001b[0m     optimizer_metric_value : 0.0747002437710762\n",
      "\u001b[1;38;5;39mCOMET INFO:\u001b[0m     optimizer_name         : Optimize MNIST Network with Random Search\n",
      "\u001b[1;38;5;39mCOMET INFO:\u001b[0m     optimizer_objective    : minimum\n",
      "\u001b[1;38;5;39mCOMET INFO:\u001b[0m     optimizer_parameters   : {\"batch_size\": 32, \"first_layer_units\": 54, \"learning_rate\": 0.004741238185794043}\n",
      "\u001b[1;38;5;39mCOMET INFO:\u001b[0m     optimizer_pid          : 2c2a242e072e6912f927caff21c99e259c065a7f\n",
      "\u001b[1;38;5;39mCOMET INFO:\u001b[0m     optimizer_process      : 1123214\n",
      "\u001b[1;38;5;39mCOMET INFO:\u001b[0m     optimizer_trial        : 1\n",
      "\u001b[1;38;5;39mCOMET INFO:\u001b[0m     optimizer_version      : 2.1.2\n",
      "\u001b[1;38;5;39mCOMET INFO:\u001b[0m     trainable_params       : 67232\n",
      "\u001b[1;38;5;39mCOMET INFO:\u001b[0m   Parameters:\n",
      "\u001b[1;38;5;39mCOMET INFO:\u001b[0m     Optimizer                           : rmsprop\n",
      "\u001b[1;38;5;39mCOMET INFO:\u001b[0m     RMSprop_centered                    : False\n",
      "\u001b[1;38;5;39mCOMET INFO:\u001b[0m     RMSprop_clipnorm                    : None\n",
      "\u001b[1;38;5;39mCOMET INFO:\u001b[0m     RMSprop_clipvalue                   : None\n",
      "\u001b[1;38;5;39mCOMET INFO:\u001b[0m     RMSprop_ema_momentum                : 0.99\n",
      "\u001b[1;38;5;39mCOMET INFO:\u001b[0m     RMSprop_ema_overwrite_frequency     : None\n",
      "\u001b[1;38;5;39mCOMET INFO:\u001b[0m     RMSprop_epsilon                     : 1e-07\n",
      "\u001b[1;38;5;39mCOMET INFO:\u001b[0m     RMSprop_global_clipnorm             : None\n",
      "\u001b[1;38;5;39mCOMET INFO:\u001b[0m     RMSprop_gradient_accumulation_steps : None\n",
      "\u001b[1;38;5;39mCOMET INFO:\u001b[0m     RMSprop_learning_rate               : 0.0010000000474974513\n",
      "\u001b[1;38;5;39mCOMET INFO:\u001b[0m     RMSprop_loss_scale_factor           : None\n",
      "\u001b[1;38;5;39mCOMET INFO:\u001b[0m     RMSprop_momentum                    : 0.0\n",
      "\u001b[1;38;5;39mCOMET INFO:\u001b[0m     RMSprop_name                        : rmsprop\n",
      "\u001b[1;38;5;39mCOMET INFO:\u001b[0m     RMSprop_rho                         : 0.9\n",
      "\u001b[1;38;5;39mCOMET INFO:\u001b[0m     RMSprop_use_ema                     : False\n",
      "\u001b[1;38;5;39mCOMET INFO:\u001b[0m     RMSprop_weight_decay                : None\n",
      "\u001b[1;38;5;39mCOMET INFO:\u001b[0m     batch_size                          : 32\n",
      "\u001b[1;38;5;39mCOMET INFO:\u001b[0m     epochs                              : 10\n",
      "\u001b[1;38;5;39mCOMET INFO:\u001b[0m     first_layer_units                   : 54\n",
      "\u001b[1;38;5;39mCOMET INFO:\u001b[0m     learning_rate                       : 0.004741238185794043\n",
      "\u001b[1;38;5;39mCOMET INFO:\u001b[0m     rmsprop_centered                    : False\n",
      "\u001b[1;38;5;39mCOMET INFO:\u001b[0m     rmsprop_clipnorm                    : None\n",
      "\u001b[1;38;5;39mCOMET INFO:\u001b[0m     rmsprop_clipvalue                   : None\n",
      "\u001b[1;38;5;39mCOMET INFO:\u001b[0m     rmsprop_ema_momentum                : 0.99\n",
      "\u001b[1;38;5;39mCOMET INFO:\u001b[0m     rmsprop_ema_overwrite_frequency     : None\n",
      "\u001b[1;38;5;39mCOMET INFO:\u001b[0m     rmsprop_epsilon                     : 1e-07\n",
      "\u001b[1;38;5;39mCOMET INFO:\u001b[0m     rmsprop_global_clipnorm             : None\n",
      "\u001b[1;38;5;39mCOMET INFO:\u001b[0m     rmsprop_gradient_accumulation_steps : None\n",
      "\u001b[1;38;5;39mCOMET INFO:\u001b[0m     rmsprop_learning_rate               : 0.0010000000474974513\n",
      "\u001b[1;38;5;39mCOMET INFO:\u001b[0m     rmsprop_loss_scale_factor           : None\n",
      "\u001b[1;38;5;39mCOMET INFO:\u001b[0m     rmsprop_momentum                    : 0.0\n",
      "\u001b[1;38;5;39mCOMET INFO:\u001b[0m     rmsprop_rho                         : 0.9\n",
      "\u001b[1;38;5;39mCOMET INFO:\u001b[0m     rmsprop_use_ema                     : False\n",
      "\u001b[1;38;5;39mCOMET INFO:\u001b[0m     rmsprop_weight_decay                : None\n",
      "\u001b[1;38;5;39mCOMET INFO:\u001b[0m     steps                               : 1875\n",
      "\u001b[1;38;5;39mCOMET INFO:\u001b[0m   Uploads:\n",
      "\u001b[1;38;5;39mCOMET INFO:\u001b[0m     environment details : 1\n",
      "\u001b[1;38;5;39mCOMET INFO:\u001b[0m     filename            : 1\n",
      "\u001b[1;38;5;39mCOMET INFO:\u001b[0m     installed packages  : 1\n",
      "\u001b[1;38;5;39mCOMET INFO:\u001b[0m     model graph         : 1\n",
      "\u001b[1;38;5;39mCOMET INFO:\u001b[0m     notebook            : 1\n",
      "\u001b[1;38;5;39mCOMET INFO:\u001b[0m     source_code         : 1\n",
      "\u001b[1;38;5;39mCOMET INFO:\u001b[0m \n"
     ]
    },
    {
     "name": "stdout",
     "output_type": "stream",
     "text": [
      "Score %s [0.112908273935318, 0.9693999886512756]\n"
     ]
    },
    {
     "name": "stderr",
     "output_type": "stream",
     "text": [
      "\u001b[1;38;5;214mCOMET WARNING:\u001b[0m As you are running in a Jupyter environment, you will need to call `experiment.end()` when finished to ensure all metrics and code are logged before exiting.\n",
      "\u001b[1;38;5;39mCOMET INFO:\u001b[0m Couldn't find a Git repository in '/lustre06/project/6078700/nast/comet' nor in any parent directory. Set `COMET_GIT_DIRECTORY` if your Git Repository is elsewhere.\n",
      "\u001b[1;38;5;39mCOMET INFO:\u001b[0m Experiment is live on comet.com https://www.comet.com/nast69/random-search/322aa6a44f0a4431b5c39984dfd0ae49\n",
      "\n"
     ]
    },
    {
     "name": "stdout",
     "output_type": "stream",
     "text": [
      "Epoch 1/10\n"
     ]
    },
    {
     "name": "stderr",
     "output_type": "stream",
     "text": [
      "2024-11-26 13:13:28.173294: W external/local_xla/xla/service/gpu/triton_autotuner.cc:660] Compiling 30 configs for 3 fusions on a single thread.\n"
     ]
    },
    {
     "name": "stdout",
     "output_type": "stream",
     "text": [
      "\u001b[1m7500/7500\u001b[0m \u001b[32m━━━━━━━━━━━━━━━━━━━━\u001b[0m\u001b[37m\u001b[0m \u001b[1m10s\u001b[0m 956us/step - accuracy: 0.6400 - loss: 1.0645 - val_accuracy: 0.9051 - val_loss: 0.3456\n",
      "Epoch 2/10\n",
      "\u001b[1m7500/7500\u001b[0m \u001b[32m━━━━━━━━━━━━━━━━━━━━\u001b[0m\u001b[37m\u001b[0m \u001b[1m7s\u001b[0m 877us/step - accuracy: 0.9151 - loss: 0.3007 - val_accuracy: 0.9264 - val_loss: 0.2710\n",
      "Epoch 3/10\n",
      "\u001b[1m7500/7500\u001b[0m \u001b[32m━━━━━━━━━━━━━━━━━━━━\u001b[0m\u001b[37m\u001b[0m \u001b[1m10s\u001b[0m 872us/step - accuracy: 0.9318 - loss: 0.2451 - val_accuracy: 0.9372 - val_loss: 0.2326\n",
      "Epoch 4/10\n",
      "\u001b[1m7500/7500\u001b[0m \u001b[32m━━━━━━━━━━━━━━━━━━━━\u001b[0m\u001b[37m\u001b[0m \u001b[1m7s\u001b[0m 942us/step - accuracy: 0.9364 - loss: 0.2241 - val_accuracy: 0.9349 - val_loss: 0.2312\n",
      "Epoch 5/10\n",
      "\u001b[1m7500/7500\u001b[0m \u001b[32m━━━━━━━━━━━━━━━━━━━━\u001b[0m\u001b[37m\u001b[0m \u001b[1m10s\u001b[0m 874us/step - accuracy: 0.9390 - loss: 0.2124 - val_accuracy: 0.9362 - val_loss: 0.2294\n",
      "Epoch 6/10\n",
      "\u001b[1m7500/7500\u001b[0m \u001b[32m━━━━━━━━━━━━━━━━━━━━\u001b[0m\u001b[37m\u001b[0m \u001b[1m7s\u001b[0m 875us/step - accuracy: 0.9407 - loss: 0.2092 - val_accuracy: 0.9429 - val_loss: 0.2041\n",
      "Epoch 7/10\n",
      "\u001b[1m7500/7500\u001b[0m \u001b[32m━━━━━━━━━━━━━━━━━━━━\u001b[0m\u001b[37m\u001b[0m \u001b[1m7s\u001b[0m 872us/step - accuracy: 0.9422 - loss: 0.2019 - val_accuracy: 0.9410 - val_loss: 0.2130\n",
      "Epoch 8/10\n",
      "\u001b[1m7500/7500\u001b[0m \u001b[32m━━━━━━━━━━━━━━━━━━━━\u001b[0m\u001b[37m\u001b[0m \u001b[1m7s\u001b[0m 879us/step - accuracy: 0.9438 - loss: 0.1982 - val_accuracy: 0.9431 - val_loss: 0.2186\n",
      "Epoch 9/10\n",
      "\u001b[1m7500/7500\u001b[0m \u001b[32m━━━━━━━━━━━━━━━━━━━━\u001b[0m\u001b[37m\u001b[0m \u001b[1m7s\u001b[0m 871us/step - accuracy: 0.9470 - loss: 0.1899 - val_accuracy: 0.9427 - val_loss: 0.2117\n",
      "Epoch 10/10\n",
      "\u001b[1m7500/7500\u001b[0m \u001b[32m━━━━━━━━━━━━━━━━━━━━\u001b[0m\u001b[37m\u001b[0m \u001b[1m10s\u001b[0m 870us/step - accuracy: 0.9481 - loss: 0.1913 - val_accuracy: 0.9408 - val_loss: 0.2155\n"
     ]
    },
    {
     "name": "stderr",
     "output_type": "stream",
     "text": [
      "2024-11-26 13:14:48.731540: W external/local_xla/xla/service/gpu/triton_autotuner.cc:656] Compiling 16 configs for triton_gemm_dot.50 on a single thread.\n",
      "2024-11-26 13:14:50.230092: W external/local_xla/xla/service/gpu/triton_autotuner.cc:656] Compiling 13 configs for triton_gemm_dot.50 on a single thread.\n",
      "\u001b[1;38;5;39mCOMET INFO:\u001b[0m ---------------------------------------------------------------------------------------\n",
      "\u001b[1;38;5;39mCOMET INFO:\u001b[0m Comet.ml Experiment Summary\n",
      "\u001b[1;38;5;39mCOMET INFO:\u001b[0m ---------------------------------------------------------------------------------------\n",
      "\u001b[1;38;5;39mCOMET INFO:\u001b[0m   Data:\n",
      "\u001b[1;38;5;39mCOMET INFO:\u001b[0m     display_summary_level : 1\n",
      "\u001b[1;38;5;39mCOMET INFO:\u001b[0m     name                  : particular_angelfish_2879\n",
      "\u001b[1;38;5;39mCOMET INFO:\u001b[0m     url                   : https://www.comet.com/nast69/random-search/322aa6a44f0a4431b5c39984dfd0ae49\n",
      "\u001b[1;38;5;39mCOMET INFO:\u001b[0m   Metrics [count] (min, max):\n",
      "\u001b[1;38;5;39mCOMET INFO:\u001b[0m     accuracy [10]                  : (0.8042166829109192, 0.9470999836921692)\n",
      "\u001b[1;38;5;39mCOMET INFO:\u001b[0m     batch_accuracy [7500]          : (0.0, 1.0)\n",
      "\u001b[1;38;5;39mCOMET INFO:\u001b[0m     batch_loss [7500]              : (0.0017243355978280306, 2.4302759170532227)\n",
      "\u001b[1;38;5;39mCOMET INFO:\u001b[0m     epoch_duration [10]            : (6.547510597003566, 10.216696952993516)\n",
      "\u001b[1;38;5;39mCOMET INFO:\u001b[0m     loss [10]                      : (0.19357453286647797, 0.6313374638557434)\n",
      "\u001b[1;38;5;39mCOMET INFO:\u001b[0m     val_accuracy [10]              : (0.9050999879837036, 0.9430999755859375)\n",
      "\u001b[1;38;5;39mCOMET INFO:\u001b[0m     val_loss [10]                  : (0.20412394404411316, 0.34556248784065247)\n",
      "\u001b[1;38;5;39mCOMET INFO:\u001b[0m     validate_batch_accuracy [1250] : (0.8770794868469238, 1.0)\n",
      "\u001b[1;38;5;39mCOMET INFO:\u001b[0m     validate_batch_loss [1250]     : (0.0036490659695118666, 0.45108118653297424)\n",
      "\u001b[1;38;5;39mCOMET INFO:\u001b[0m   Others:\n",
      "\u001b[1;38;5;39mCOMET INFO:\u001b[0m     optimizer_count        : 9\n",
      "\u001b[1;38;5;39mCOMET INFO:\u001b[0m     optimizer_id           : 61fe9926a0b2429ab77580bbf796ca33\n",
      "\u001b[1;38;5;39mCOMET INFO:\u001b[0m     optimizer_metric       : loss\n",
      "\u001b[1;38;5;39mCOMET INFO:\u001b[0m     optimizer_metric_value : 0.19357453286647797\n",
      "\u001b[1;38;5;39mCOMET INFO:\u001b[0m     optimizer_name         : Optimize MNIST Network with Random Search\n",
      "\u001b[1;38;5;39mCOMET INFO:\u001b[0m     optimizer_objective    : minimum\n",
      "\u001b[1;38;5;39mCOMET INFO:\u001b[0m     optimizer_parameters   : {\"batch_size\": 8, \"first_layer_units\": 15, \"learning_rate\": 0.008226709183195935}\n",
      "\u001b[1;38;5;39mCOMET INFO:\u001b[0m     optimizer_pid          : 732d81e40ef652714a2cd0a0346303e59ef2bce1\n",
      "\u001b[1;38;5;39mCOMET INFO:\u001b[0m     optimizer_process      : 1123214\n",
      "\u001b[1;38;5;39mCOMET INFO:\u001b[0m     optimizer_trial        : 1\n",
      "\u001b[1;38;5;39mCOMET INFO:\u001b[0m     optimizer_version      : 2.1.2\n",
      "\u001b[1;38;5;39mCOMET INFO:\u001b[0m     trainable_params       : 31625\n",
      "\u001b[1;38;5;39mCOMET INFO:\u001b[0m   Parameters:\n",
      "\u001b[1;38;5;39mCOMET INFO:\u001b[0m     Optimizer                           : rmsprop\n",
      "\u001b[1;38;5;39mCOMET INFO:\u001b[0m     RMSprop_centered                    : False\n",
      "\u001b[1;38;5;39mCOMET INFO:\u001b[0m     RMSprop_clipnorm                    : None\n",
      "\u001b[1;38;5;39mCOMET INFO:\u001b[0m     RMSprop_clipvalue                   : None\n",
      "\u001b[1;38;5;39mCOMET INFO:\u001b[0m     RMSprop_ema_momentum                : 0.99\n",
      "\u001b[1;38;5;39mCOMET INFO:\u001b[0m     RMSprop_ema_overwrite_frequency     : None\n",
      "\u001b[1;38;5;39mCOMET INFO:\u001b[0m     RMSprop_epsilon                     : 1e-07\n",
      "\u001b[1;38;5;39mCOMET INFO:\u001b[0m     RMSprop_global_clipnorm             : None\n",
      "\u001b[1;38;5;39mCOMET INFO:\u001b[0m     RMSprop_gradient_accumulation_steps : None\n",
      "\u001b[1;38;5;39mCOMET INFO:\u001b[0m     RMSprop_learning_rate               : 0.0010000000474974513\n",
      "\u001b[1;38;5;39mCOMET INFO:\u001b[0m     RMSprop_loss_scale_factor           : None\n",
      "\u001b[1;38;5;39mCOMET INFO:\u001b[0m     RMSprop_momentum                    : 0.0\n",
      "\u001b[1;38;5;39mCOMET INFO:\u001b[0m     RMSprop_name                        : rmsprop\n",
      "\u001b[1;38;5;39mCOMET INFO:\u001b[0m     RMSprop_rho                         : 0.9\n",
      "\u001b[1;38;5;39mCOMET INFO:\u001b[0m     RMSprop_use_ema                     : False\n",
      "\u001b[1;38;5;39mCOMET INFO:\u001b[0m     RMSprop_weight_decay                : None\n",
      "\u001b[1;38;5;39mCOMET INFO:\u001b[0m     batch_size                          : 8\n",
      "\u001b[1;38;5;39mCOMET INFO:\u001b[0m     epochs                              : 10\n",
      "\u001b[1;38;5;39mCOMET INFO:\u001b[0m     first_layer_units                   : 15\n",
      "\u001b[1;38;5;39mCOMET INFO:\u001b[0m     learning_rate                       : 0.008226709183195935\n",
      "\u001b[1;38;5;39mCOMET INFO:\u001b[0m     rmsprop_centered                    : False\n",
      "\u001b[1;38;5;39mCOMET INFO:\u001b[0m     rmsprop_clipnorm                    : None\n",
      "\u001b[1;38;5;39mCOMET INFO:\u001b[0m     rmsprop_clipvalue                   : None\n",
      "\u001b[1;38;5;39mCOMET INFO:\u001b[0m     rmsprop_ema_momentum                : 0.99\n",
      "\u001b[1;38;5;39mCOMET INFO:\u001b[0m     rmsprop_ema_overwrite_frequency     : None\n",
      "\u001b[1;38;5;39mCOMET INFO:\u001b[0m     rmsprop_epsilon                     : 1e-07\n",
      "\u001b[1;38;5;39mCOMET INFO:\u001b[0m     rmsprop_global_clipnorm             : None\n",
      "\u001b[1;38;5;39mCOMET INFO:\u001b[0m     rmsprop_gradient_accumulation_steps : None\n",
      "\u001b[1;38;5;39mCOMET INFO:\u001b[0m     rmsprop_learning_rate               : 0.0010000000474974513\n",
      "\u001b[1;38;5;39mCOMET INFO:\u001b[0m     rmsprop_loss_scale_factor           : None\n",
      "\u001b[1;38;5;39mCOMET INFO:\u001b[0m     rmsprop_momentum                    : 0.0\n",
      "\u001b[1;38;5;39mCOMET INFO:\u001b[0m     rmsprop_rho                         : 0.9\n",
      "\u001b[1;38;5;39mCOMET INFO:\u001b[0m     rmsprop_use_ema                     : False\n",
      "\u001b[1;38;5;39mCOMET INFO:\u001b[0m     rmsprop_weight_decay                : None\n",
      "\u001b[1;38;5;39mCOMET INFO:\u001b[0m     steps                               : 7500\n",
      "\u001b[1;38;5;39mCOMET INFO:\u001b[0m   Uploads:\n",
      "\u001b[1;38;5;39mCOMET INFO:\u001b[0m     environment details : 1\n",
      "\u001b[1;38;5;39mCOMET INFO:\u001b[0m     filename            : 1\n",
      "\u001b[1;38;5;39mCOMET INFO:\u001b[0m     installed packages  : 1\n",
      "\u001b[1;38;5;39mCOMET INFO:\u001b[0m     model graph         : 1\n",
      "\u001b[1;38;5;39mCOMET INFO:\u001b[0m     notebook            : 1\n",
      "\u001b[1;38;5;39mCOMET INFO:\u001b[0m     source_code         : 1\n",
      "\u001b[1;38;5;39mCOMET INFO:\u001b[0m \n",
      "\u001b[1;38;5;196mCOMET ERROR:\u001b[0m Data loss. Too many Metrics updates. Only 10000 allowed per experiment per 45 seconds. Reduce logging or request higher limits from Comet admin.\n"
     ]
    },
    {
     "name": "stdout",
     "output_type": "stream",
     "text": [
      "Score %s [0.2155047059059143, 0.9408000111579895]\n"
     ]
    },
    {
     "name": "stderr",
     "output_type": "stream",
     "text": [
      "\u001b[1;38;5;214mCOMET WARNING:\u001b[0m Experiment has been throttled. Some data (like experiment metrics) might be missing. Mission-critical data, like Artifacts, are never throttled.\n",
      "Reason(s) of the experiment being throttled: metrics\n",
      "\u001b[1;38;5;214mCOMET WARNING:\u001b[0m As you are running in a Jupyter environment, you will need to call `experiment.end()` when finished to ensure all metrics and code are logged before exiting.\n",
      "\u001b[1;38;5;39mCOMET INFO:\u001b[0m Experiment is live on comet.com https://www.comet.com/nast69/random-search/8fba8ff150c147ddbd34e42662658dfa\n",
      "\n",
      "\u001b[1;38;5;39mCOMET INFO:\u001b[0m Couldn't find a Git repository in '/lustre06/project/6078700/nast/comet' nor in any parent directory. Set `COMET_GIT_DIRECTORY` if your Git Repository is elsewhere.\n"
     ]
    },
    {
     "name": "stdout",
     "output_type": "stream",
     "text": [
      "Epoch 1/10\n"
     ]
    },
    {
     "name": "stderr",
     "output_type": "stream",
     "text": [
      "2024-11-26 13:14:54.555630: W external/local_xla/xla/service/gpu/triton_autotuner.cc:660] Compiling 32 configs for 2 fusions on a single thread.\n"
     ]
    },
    {
     "name": "stdout",
     "output_type": "stream",
     "text": [
      "\u001b[1m1850/1875\u001b[0m \u001b[32m━━━━━━━━━━━━━━━━━━━\u001b[0m\u001b[37m━\u001b[0m \u001b[1m0s\u001b[0m 790us/step - accuracy: 0.5686 - loss: 1.2844"
     ]
    },
    {
     "name": "stderr",
     "output_type": "stream",
     "text": [
      "2024-11-26 13:14:59.577577: W external/local_xla/xla/service/gpu/triton_autotuner.cc:656] Compiling 13 configs for triton_gemm_dot.50 on a single thread.\n"
     ]
    },
    {
     "name": "stdout",
     "output_type": "stream",
     "text": [
      "\u001b[1m1875/1875\u001b[0m \u001b[32m━━━━━━━━━━━━━━━━━━━━\u001b[0m\u001b[37m\u001b[0m \u001b[1m7s\u001b[0m 2ms/step - accuracy: 0.5713 - loss: 1.2771 - val_accuracy: 0.9114 - val_loss: 0.3107\n",
      "Epoch 2/10\n",
      "\u001b[1m1875/1875\u001b[0m \u001b[32m━━━━━━━━━━━━━━━━━━━━\u001b[0m\u001b[37m\u001b[0m \u001b[1m2s\u001b[0m 919us/step - accuracy: 0.9188 - loss: 0.2815 - val_accuracy: 0.9365 - val_loss: 0.2175\n",
      "Epoch 3/10\n",
      "\u001b[1m1875/1875\u001b[0m \u001b[32m━━━━━━━━━━━━━━━━━━━━\u001b[0m\u001b[37m\u001b[0m \u001b[1m2s\u001b[0m 916us/step - accuracy: 0.9421 - loss: 0.2037 - val_accuracy: 0.9461 - val_loss: 0.1762\n",
      "Epoch 4/10\n",
      "\u001b[1m1875/1875\u001b[0m \u001b[32m━━━━━━━━━━━━━━━━━━━━\u001b[0m\u001b[37m\u001b[0m \u001b[1m2s\u001b[0m 917us/step - accuracy: 0.9519 - loss: 0.1665 - val_accuracy: 0.9523 - val_loss: 0.1572\n",
      "Epoch 5/10\n",
      "\u001b[1m1875/1875\u001b[0m \u001b[32m━━━━━━━━━━━━━━━━━━━━\u001b[0m\u001b[37m\u001b[0m \u001b[1m2s\u001b[0m 914us/step - accuracy: 0.9559 - loss: 0.1484 - val_accuracy: 0.9557 - val_loss: 0.1502\n",
      "Epoch 6/10\n",
      "\u001b[1m1875/1875\u001b[0m \u001b[32m━━━━━━━━━━━━━━━━━━━━\u001b[0m\u001b[37m\u001b[0m \u001b[1m2s\u001b[0m 1ms/step - accuracy: 0.9620 - loss: 0.1301 - val_accuracy: 0.9580 - val_loss: 0.1376\n",
      "Epoch 7/10\n",
      "\u001b[1m1875/1875\u001b[0m \u001b[32m━━━━━━━━━━━━━━━━━━━━\u001b[0m\u001b[37m\u001b[0m \u001b[1m2s\u001b[0m 924us/step - accuracy: 0.9643 - loss: 0.1249 - val_accuracy: 0.9602 - val_loss: 0.1296\n",
      "Epoch 8/10\n",
      "\u001b[1m1875/1875\u001b[0m \u001b[32m━━━━━━━━━━━━━━━━━━━━\u001b[0m\u001b[37m\u001b[0m \u001b[1m2s\u001b[0m 918us/step - accuracy: 0.9660 - loss: 0.1141 - val_accuracy: 0.9599 - val_loss: 0.1388\n",
      "Epoch 9/10\n",
      "\u001b[1m1875/1875\u001b[0m \u001b[32m━━━━━━━━━━━━━━━━━━━━\u001b[0m\u001b[37m\u001b[0m \u001b[1m3s\u001b[0m 932us/step - accuracy: 0.9693 - loss: 0.1041 - val_accuracy: 0.9628 - val_loss: 0.1274\n",
      "Epoch 10/10\n",
      "\u001b[1m1875/1875\u001b[0m \u001b[32m━━━━━━━━━━━━━━━━━━━━\u001b[0m\u001b[37m\u001b[0m \u001b[1m3s\u001b[0m 919us/step - accuracy: 0.9712 - loss: 0.0970 - val_accuracy: 0.9657 - val_loss: 0.1240\n"
     ]
    },
    {
     "name": "stderr",
     "output_type": "stream",
     "text": [
      "\u001b[1;38;5;39mCOMET INFO:\u001b[0m ---------------------------------------------------------------------------------------\n",
      "\u001b[1;38;5;39mCOMET INFO:\u001b[0m Comet.ml Experiment Summary\n",
      "\u001b[1;38;5;39mCOMET INFO:\u001b[0m ---------------------------------------------------------------------------------------\n",
      "\u001b[1;38;5;39mCOMET INFO:\u001b[0m   Data:\n",
      "\u001b[1;38;5;39mCOMET INFO:\u001b[0m     display_summary_level : 1\n",
      "\u001b[1;38;5;39mCOMET INFO:\u001b[0m     name                  : delighted_soy_4138\n",
      "\u001b[1;38;5;39mCOMET INFO:\u001b[0m     url                   : https://www.comet.com/nast69/random-search/8fba8ff150c147ddbd34e42662658dfa\n",
      "\u001b[1;38;5;39mCOMET INFO:\u001b[0m   Metrics [count] (min, max):\n",
      "\u001b[1;38;5;39mCOMET INFO:\u001b[0m     accuracy [10]                 : (0.7623666524887085, 0.9702666401863098)\n",
      "\u001b[1;38;5;39mCOMET INFO:\u001b[0m     batch_accuracy [1880]         : (0.09375, 1.0)\n",
      "\u001b[1;38;5;39mCOMET INFO:\u001b[0m     batch_loss [1880]             : (0.008719012141227722, 2.441527843475342)\n",
      "\u001b[1;38;5;39mCOMET INFO:\u001b[0m     epoch_duration [10]           : (1.7311907990006148, 6.645569592001266)\n",
      "\u001b[1;38;5;39mCOMET INFO:\u001b[0m     loss [10]                     : (0.10099361091852188, 0.7538666725158691)\n",
      "\u001b[1;38;5;39mCOMET INFO:\u001b[0m     val_accuracy [10]             : (0.9114000201225281, 0.9656999707221985)\n",
      "\u001b[1;38;5;39mCOMET INFO:\u001b[0m     val_loss [10]                 : (0.12399888038635254, 0.3107379972934723)\n",
      "\u001b[1;38;5;39mCOMET INFO:\u001b[0m     validate_batch_accuracy [320] : (0.8892747163772583, 1.0)\n",
      "\u001b[1;38;5;39mCOMET INFO:\u001b[0m     validate_batch_loss [320]     : (0.01459544152021408, 0.3812374174594879)\n",
      "\u001b[1;38;5;39mCOMET INFO:\u001b[0m   Others:\n",
      "\u001b[1;38;5;39mCOMET INFO:\u001b[0m     optimizer_count        : 10\n",
      "\u001b[1;38;5;39mCOMET INFO:\u001b[0m     optimizer_id           : 61fe9926a0b2429ab77580bbf796ca33\n",
      "\u001b[1;38;5;39mCOMET INFO:\u001b[0m     optimizer_metric       : loss\n",
      "\u001b[1;38;5;39mCOMET INFO:\u001b[0m     optimizer_metric_value : 0.10099361091852188\n",
      "\u001b[1;38;5;39mCOMET INFO:\u001b[0m     optimizer_name         : Optimize MNIST Network with Random Search\n",
      "\u001b[1;38;5;39mCOMET INFO:\u001b[0m     optimizer_objective    : minimum\n",
      "\u001b[1;38;5;39mCOMET INFO:\u001b[0m     optimizer_parameters   : {\"batch_size\": 32, \"first_layer_units\": 31, \"learning_rate\": 0.005591341727808062}\n",
      "\u001b[1;38;5;39mCOMET INFO:\u001b[0m     optimizer_pid          : 3bbc7e167e579325f3ad286128153738e57619ca\n",
      "\u001b[1;38;5;39mCOMET INFO:\u001b[0m     optimizer_process      : 1123214\n",
      "\u001b[1;38;5;39mCOMET INFO:\u001b[0m     optimizer_trial        : 1\n",
      "\u001b[1;38;5;39mCOMET INFO:\u001b[0m     optimizer_version      : 2.1.2\n",
      "\u001b[1;38;5;39mCOMET INFO:\u001b[0m     trainable_params       : 46233\n",
      "\u001b[1;38;5;39mCOMET INFO:\u001b[0m   Parameters:\n",
      "\u001b[1;38;5;39mCOMET INFO:\u001b[0m     Optimizer                           : rmsprop\n",
      "\u001b[1;38;5;39mCOMET INFO:\u001b[0m     RMSprop_centered                    : False\n",
      "\u001b[1;38;5;39mCOMET INFO:\u001b[0m     RMSprop_clipnorm                    : None\n",
      "\u001b[1;38;5;39mCOMET INFO:\u001b[0m     RMSprop_clipvalue                   : None\n",
      "\u001b[1;38;5;39mCOMET INFO:\u001b[0m     RMSprop_ema_momentum                : 0.99\n",
      "\u001b[1;38;5;39mCOMET INFO:\u001b[0m     RMSprop_ema_overwrite_frequency     : None\n",
      "\u001b[1;38;5;39mCOMET INFO:\u001b[0m     RMSprop_epsilon                     : 1e-07\n",
      "\u001b[1;38;5;39mCOMET INFO:\u001b[0m     RMSprop_global_clipnorm             : None\n",
      "\u001b[1;38;5;39mCOMET INFO:\u001b[0m     RMSprop_gradient_accumulation_steps : None\n",
      "\u001b[1;38;5;39mCOMET INFO:\u001b[0m     RMSprop_learning_rate               : 0.0010000000474974513\n",
      "\u001b[1;38;5;39mCOMET INFO:\u001b[0m     RMSprop_loss_scale_factor           : None\n",
      "\u001b[1;38;5;39mCOMET INFO:\u001b[0m     RMSprop_momentum                    : 0.0\n",
      "\u001b[1;38;5;39mCOMET INFO:\u001b[0m     RMSprop_name                        : rmsprop\n",
      "\u001b[1;38;5;39mCOMET INFO:\u001b[0m     RMSprop_rho                         : 0.9\n",
      "\u001b[1;38;5;39mCOMET INFO:\u001b[0m     RMSprop_use_ema                     : False\n",
      "\u001b[1;38;5;39mCOMET INFO:\u001b[0m     RMSprop_weight_decay                : None\n",
      "\u001b[1;38;5;39mCOMET INFO:\u001b[0m     batch_size                          : 32\n",
      "\u001b[1;38;5;39mCOMET INFO:\u001b[0m     epochs                              : 10\n",
      "\u001b[1;38;5;39mCOMET INFO:\u001b[0m     first_layer_units                   : 31\n",
      "\u001b[1;38;5;39mCOMET INFO:\u001b[0m     learning_rate                       : 0.005591341727808062\n",
      "\u001b[1;38;5;39mCOMET INFO:\u001b[0m     rmsprop_centered                    : False\n",
      "\u001b[1;38;5;39mCOMET INFO:\u001b[0m     rmsprop_clipnorm                    : None\n",
      "\u001b[1;38;5;39mCOMET INFO:\u001b[0m     rmsprop_clipvalue                   : None\n",
      "\u001b[1;38;5;39mCOMET INFO:\u001b[0m     rmsprop_ema_momentum                : 0.99\n",
      "\u001b[1;38;5;39mCOMET INFO:\u001b[0m     rmsprop_ema_overwrite_frequency     : None\n",
      "\u001b[1;38;5;39mCOMET INFO:\u001b[0m     rmsprop_epsilon                     : 1e-07\n",
      "\u001b[1;38;5;39mCOMET INFO:\u001b[0m     rmsprop_global_clipnorm             : None\n",
      "\u001b[1;38;5;39mCOMET INFO:\u001b[0m     rmsprop_gradient_accumulation_steps : None\n",
      "\u001b[1;38;5;39mCOMET INFO:\u001b[0m     rmsprop_learning_rate               : 0.0010000000474974513\n",
      "\u001b[1;38;5;39mCOMET INFO:\u001b[0m     rmsprop_loss_scale_factor           : None\n",
      "\u001b[1;38;5;39mCOMET INFO:\u001b[0m     rmsprop_momentum                    : 0.0\n",
      "\u001b[1;38;5;39mCOMET INFO:\u001b[0m     rmsprop_rho                         : 0.9\n",
      "\u001b[1;38;5;39mCOMET INFO:\u001b[0m     rmsprop_use_ema                     : False\n",
      "\u001b[1;38;5;39mCOMET INFO:\u001b[0m     rmsprop_weight_decay                : None\n",
      "\u001b[1;38;5;39mCOMET INFO:\u001b[0m     steps                               : 1875\n",
      "\u001b[1;38;5;39mCOMET INFO:\u001b[0m   Uploads:\n",
      "\u001b[1;38;5;39mCOMET INFO:\u001b[0m     environment details : 1\n",
      "\u001b[1;38;5;39mCOMET INFO:\u001b[0m     filename            : 1\n",
      "\u001b[1;38;5;39mCOMET INFO:\u001b[0m     installed packages  : 1\n",
      "\u001b[1;38;5;39mCOMET INFO:\u001b[0m     model graph         : 1\n",
      "\u001b[1;38;5;39mCOMET INFO:\u001b[0m     notebook            : 1\n",
      "\u001b[1;38;5;39mCOMET INFO:\u001b[0m     source_code         : 1\n",
      "\u001b[1;38;5;39mCOMET INFO:\u001b[0m \n"
     ]
    },
    {
     "name": "stdout",
     "output_type": "stream",
     "text": [
      "Score %s [0.12399888038635254, 0.9656999707221985]\n"
     ]
    },
    {
     "name": "stderr",
     "output_type": "stream",
     "text": [
      "\u001b[1;38;5;39mCOMET INFO:\u001b[0m Uploading 84 metrics, params and output messages\n",
      "\u001b[1;38;5;214mCOMET WARNING:\u001b[0m As you are running in a Jupyter environment, you will need to call `experiment.end()` when finished to ensure all metrics and code are logged before exiting.\n",
      "\u001b[1;38;5;39mCOMET INFO:\u001b[0m Couldn't find a Git repository in '/lustre06/project/6078700/nast/comet' nor in any parent directory. Set `COMET_GIT_DIRECTORY` if your Git Repository is elsewhere.\n",
      "\u001b[1;38;5;39mCOMET INFO:\u001b[0m Experiment is live on comet.com https://www.comet.com/nast69/random-search/e3234e6c1ee2415f88bf2573eab84699\n",
      "\n"
     ]
    },
    {
     "name": "stdout",
     "output_type": "stream",
     "text": [
      "Epoch 1/10\n"
     ]
    },
    {
     "name": "stderr",
     "output_type": "stream",
     "text": [
      "2024-11-26 13:15:22.025591: W external/local_xla/xla/service/gpu/triton_autotuner.cc:660] Compiling 32 configs for 3 fusions on a single thread.\n"
     ]
    },
    {
     "name": "stdout",
     "output_type": "stream",
     "text": [
      "\u001b[1m7500/7500\u001b[0m \u001b[32m━━━━━━━━━━━━━━━━━━━━\u001b[0m\u001b[37m\u001b[0m \u001b[1m11s\u001b[0m 962us/step - accuracy: 0.6624 - loss: 0.9840 - val_accuracy: 0.9142 - val_loss: 0.2899\n",
      "Epoch 2/10\n",
      "\u001b[1m7500/7500\u001b[0m \u001b[32m━━━━━━━━━━━━━━━━━━━━\u001b[0m\u001b[37m\u001b[0m \u001b[1m7s\u001b[0m 888us/step - accuracy: 0.9188 - loss: 0.2808 - val_accuracy: 0.9318 - val_loss: 0.2409\n",
      "Epoch 3/10\n",
      "\u001b[1m7500/7500\u001b[0m \u001b[32m━━━━━━━━━━━━━━━━━━━━\u001b[0m\u001b[37m\u001b[0m \u001b[1m7s\u001b[0m 883us/step - accuracy: 0.9349 - loss: 0.2229 - val_accuracy: 0.9297 - val_loss: 0.2450\n",
      "Epoch 4/10\n",
      "\u001b[1m7500/7500\u001b[0m \u001b[32m━━━━━━━━━━━━━━━━━━━━\u001b[0m\u001b[37m\u001b[0m \u001b[1m7s\u001b[0m 887us/step - accuracy: 0.9429 - loss: 0.1992 - val_accuracy: 0.9462 - val_loss: 0.1949\n",
      "Epoch 5/10\n",
      "\u001b[1m7500/7500\u001b[0m \u001b[32m━━━━━━━━━━━━━━━━━━━━\u001b[0m\u001b[37m\u001b[0m \u001b[1m7s\u001b[0m 887us/step - accuracy: 0.9478 - loss: 0.1833 - val_accuracy: 0.9415 - val_loss: 0.2158\n",
      "Epoch 6/10\n",
      "\u001b[1m7500/7500\u001b[0m \u001b[32m━━━━━━━━━━━━━━━━━━━━\u001b[0m\u001b[37m\u001b[0m \u001b[1m7s\u001b[0m 883us/step - accuracy: 0.9497 - loss: 0.1778 - val_accuracy: 0.9429 - val_loss: 0.2197\n",
      "Epoch 7/10\n",
      "\u001b[1m7500/7500\u001b[0m \u001b[32m━━━━━━━━━━━━━━━━━━━━\u001b[0m\u001b[37m\u001b[0m \u001b[1m7s\u001b[0m 878us/step - accuracy: 0.9556 - loss: 0.1617 - val_accuracy: 0.9497 - val_loss: 0.1834\n",
      "Epoch 8/10\n",
      "\u001b[1m7500/7500\u001b[0m \u001b[32m━━━━━━━━━━━━━━━━━━━━\u001b[0m\u001b[37m\u001b[0m \u001b[1m7s\u001b[0m 882us/step - accuracy: 0.9552 - loss: 0.1650 - val_accuracy: 0.9535 - val_loss: 0.1745\n",
      "Epoch 9/10\n",
      "\u001b[1m7500/7500\u001b[0m \u001b[32m━━━━━━━━━━━━━━━━━━━━\u001b[0m\u001b[37m\u001b[0m \u001b[1m7s\u001b[0m 884us/step - accuracy: 0.9571 - loss: 0.1568 - val_accuracy: 0.9500 - val_loss: 0.1889\n",
      "Epoch 10/10\n",
      "\u001b[1m7500/7500\u001b[0m \u001b[32m━━━━━━━━━━━━━━━━━━━━\u001b[0m\u001b[37m\u001b[0m \u001b[1m7s\u001b[0m 879us/step - accuracy: 0.9572 - loss: 0.1537 - val_accuracy: 0.9515 - val_loss: 0.1757\n"
     ]
    },
    {
     "name": "stderr",
     "output_type": "stream",
     "text": [
      "2024-11-26 13:16:32.241624: W external/local_xla/xla/service/gpu/triton_autotuner.cc:656] Compiling 16 configs for triton_gemm_dot.50 on a single thread.\n",
      "\u001b[1;38;5;196mCOMET ERROR:\u001b[0m Data loss. Too many Metrics updates. Only 10000 allowed per experiment per 45 seconds. Reduce logging or request higher limits from Comet admin.\n",
      "2024-11-26 13:16:35.273003: W external/local_xla/xla/service/gpu/triton_autotuner.cc:656] Compiling 13 configs for triton_gemm_dot.50 on a single thread.\n",
      "\u001b[1;38;5;39mCOMET INFO:\u001b[0m ---------------------------------------------------------------------------------------\n",
      "\u001b[1;38;5;39mCOMET INFO:\u001b[0m Comet.ml Experiment Summary\n",
      "\u001b[1;38;5;39mCOMET INFO:\u001b[0m ---------------------------------------------------------------------------------------\n",
      "\u001b[1;38;5;39mCOMET INFO:\u001b[0m   Data:\n",
      "\u001b[1;38;5;39mCOMET INFO:\u001b[0m     display_summary_level : 1\n",
      "\u001b[1;38;5;39mCOMET INFO:\u001b[0m     name                  : busy_bobcat_2673\n",
      "\u001b[1;38;5;39mCOMET INFO:\u001b[0m     url                   : https://www.comet.com/nast69/random-search/e3234e6c1ee2415f88bf2573eab84699\n",
      "\u001b[1;38;5;39mCOMET INFO:\u001b[0m   Metrics [count] (min, max):\n",
      "\u001b[1;38;5;39mCOMET INFO:\u001b[0m     accuracy [10]                  : (0.8187000155448914, 0.9577333331108093)\n",
      "\u001b[1;38;5;39mCOMET INFO:\u001b[0m     batch_accuracy [7500]          : (0.0, 1.0)\n",
      "\u001b[1;38;5;39mCOMET INFO:\u001b[0m     batch_loss [7500]              : (0.0009006217587739229, 2.725097417831421)\n",
      "\u001b[1;38;5;39mCOMET INFO:\u001b[0m     epoch_duration [10]            : (6.6021719409982325, 10.624395514001662)\n",
      "\u001b[1;38;5;39mCOMET INFO:\u001b[0m     loss [10]                      : (0.15252667665481567, 0.5722859501838684)\n",
      "\u001b[1;38;5;39mCOMET INFO:\u001b[0m     val_accuracy [10]              : (0.9142000079154968, 0.953499972820282)\n",
      "\u001b[1;38;5;39mCOMET INFO:\u001b[0m     val_loss [10]                  : (0.1745096743106842, 0.2899140417575836)\n",
      "\u001b[1;38;5;39mCOMET INFO:\u001b[0m     validate_batch_accuracy [1250] : (0.875, 1.0)\n",
      "\u001b[1;38;5;39mCOMET INFO:\u001b[0m     validate_batch_loss [1250]     : (0.005667421966791153, 0.3859871029853821)\n",
      "\u001b[1;38;5;39mCOMET INFO:\u001b[0m   Others:\n",
      "\u001b[1;38;5;39mCOMET INFO:\u001b[0m     optimizer_count        : 11\n",
      "\u001b[1;38;5;39mCOMET INFO:\u001b[0m     optimizer_id           : 61fe9926a0b2429ab77580bbf796ca33\n",
      "\u001b[1;38;5;39mCOMET INFO:\u001b[0m     optimizer_metric       : loss\n",
      "\u001b[1;38;5;39mCOMET INFO:\u001b[0m     optimizer_metric_value : 0.15252667665481567\n",
      "\u001b[1;38;5;39mCOMET INFO:\u001b[0m     optimizer_name         : Optimize MNIST Network with Random Search\n",
      "\u001b[1;38;5;39mCOMET INFO:\u001b[0m     optimizer_objective    : minimum\n",
      "\u001b[1;38;5;39mCOMET INFO:\u001b[0m     optimizer_parameters   : {\"batch_size\": 8, \"first_layer_units\": 21, \"learning_rate\": 0.0034848248875009374}\n",
      "\u001b[1;38;5;39mCOMET INFO:\u001b[0m     optimizer_pid          : 90bd6685001b309fe6de95f7a290fb763ca7a590\n",
      "\u001b[1;38;5;39mCOMET INFO:\u001b[0m     optimizer_process      : 1123214\n",
      "\u001b[1;38;5;39mCOMET INFO:\u001b[0m     optimizer_trial        : 1\n",
      "\u001b[1;38;5;39mCOMET INFO:\u001b[0m     optimizer_version      : 2.1.2\n",
      "\u001b[1;38;5;39mCOMET INFO:\u001b[0m     trainable_params       : 37103\n",
      "\u001b[1;38;5;39mCOMET INFO:\u001b[0m   Parameters:\n",
      "\u001b[1;38;5;39mCOMET INFO:\u001b[0m     Optimizer                           : rmsprop\n",
      "\u001b[1;38;5;39mCOMET INFO:\u001b[0m     RMSprop_centered                    : False\n",
      "\u001b[1;38;5;39mCOMET INFO:\u001b[0m     RMSprop_clipnorm                    : None\n",
      "\u001b[1;38;5;39mCOMET INFO:\u001b[0m     RMSprop_clipvalue                   : None\n",
      "\u001b[1;38;5;39mCOMET INFO:\u001b[0m     RMSprop_ema_momentum                : 0.99\n",
      "\u001b[1;38;5;39mCOMET INFO:\u001b[0m     RMSprop_ema_overwrite_frequency     : None\n",
      "\u001b[1;38;5;39mCOMET INFO:\u001b[0m     RMSprop_epsilon                     : 1e-07\n",
      "\u001b[1;38;5;39mCOMET INFO:\u001b[0m     RMSprop_global_clipnorm             : None\n",
      "\u001b[1;38;5;39mCOMET INFO:\u001b[0m     RMSprop_gradient_accumulation_steps : None\n",
      "\u001b[1;38;5;39mCOMET INFO:\u001b[0m     RMSprop_learning_rate               : 0.0010000000474974513\n",
      "\u001b[1;38;5;39mCOMET INFO:\u001b[0m     RMSprop_loss_scale_factor           : None\n",
      "\u001b[1;38;5;39mCOMET INFO:\u001b[0m     RMSprop_momentum                    : 0.0\n",
      "\u001b[1;38;5;39mCOMET INFO:\u001b[0m     RMSprop_name                        : rmsprop\n",
      "\u001b[1;38;5;39mCOMET INFO:\u001b[0m     RMSprop_rho                         : 0.9\n",
      "\u001b[1;38;5;39mCOMET INFO:\u001b[0m     RMSprop_use_ema                     : False\n",
      "\u001b[1;38;5;39mCOMET INFO:\u001b[0m     RMSprop_weight_decay                : None\n",
      "\u001b[1;38;5;39mCOMET INFO:\u001b[0m     batch_size                          : 8\n",
      "\u001b[1;38;5;39mCOMET INFO:\u001b[0m     epochs                              : 10\n",
      "\u001b[1;38;5;39mCOMET INFO:\u001b[0m     first_layer_units                   : 21\n",
      "\u001b[1;38;5;39mCOMET INFO:\u001b[0m     learning_rate                       : 0.0034848248875009374\n",
      "\u001b[1;38;5;39mCOMET INFO:\u001b[0m     rmsprop_centered                    : False\n",
      "\u001b[1;38;5;39mCOMET INFO:\u001b[0m     rmsprop_clipnorm                    : None\n",
      "\u001b[1;38;5;39mCOMET INFO:\u001b[0m     rmsprop_clipvalue                   : None\n",
      "\u001b[1;38;5;39mCOMET INFO:\u001b[0m     rmsprop_ema_momentum                : 0.99\n",
      "\u001b[1;38;5;39mCOMET INFO:\u001b[0m     rmsprop_ema_overwrite_frequency     : None\n",
      "\u001b[1;38;5;39mCOMET INFO:\u001b[0m     rmsprop_epsilon                     : 1e-07\n",
      "\u001b[1;38;5;39mCOMET INFO:\u001b[0m     rmsprop_global_clipnorm             : None\n",
      "\u001b[1;38;5;39mCOMET INFO:\u001b[0m     rmsprop_gradient_accumulation_steps : None\n",
      "\u001b[1;38;5;39mCOMET INFO:\u001b[0m     rmsprop_learning_rate               : 0.0010000000474974513\n",
      "\u001b[1;38;5;39mCOMET INFO:\u001b[0m     rmsprop_loss_scale_factor           : None\n",
      "\u001b[1;38;5;39mCOMET INFO:\u001b[0m     rmsprop_momentum                    : 0.0\n",
      "\u001b[1;38;5;39mCOMET INFO:\u001b[0m     rmsprop_rho                         : 0.9\n",
      "\u001b[1;38;5;39mCOMET INFO:\u001b[0m     rmsprop_use_ema                     : False\n",
      "\u001b[1;38;5;39mCOMET INFO:\u001b[0m     rmsprop_weight_decay                : None\n",
      "\u001b[1;38;5;39mCOMET INFO:\u001b[0m     steps                               : 7500\n",
      "\u001b[1;38;5;39mCOMET INFO:\u001b[0m   Uploads:\n",
      "\u001b[1;38;5;39mCOMET INFO:\u001b[0m     environment details : 1\n",
      "\u001b[1;38;5;39mCOMET INFO:\u001b[0m     filename            : 1\n",
      "\u001b[1;38;5;39mCOMET INFO:\u001b[0m     installed packages  : 1\n",
      "\u001b[1;38;5;39mCOMET INFO:\u001b[0m     model graph         : 1\n",
      "\u001b[1;38;5;39mCOMET INFO:\u001b[0m     notebook            : 1\n",
      "\u001b[1;38;5;39mCOMET INFO:\u001b[0m     source_code         : 1\n",
      "\u001b[1;38;5;39mCOMET INFO:\u001b[0m \n"
     ]
    },
    {
     "name": "stdout",
     "output_type": "stream",
     "text": [
      "Score %s [0.17570476233959198, 0.9514999985694885]\n"
     ]
    },
    {
     "name": "stderr",
     "output_type": "stream",
     "text": [
      "\u001b[1;38;5;214mCOMET WARNING:\u001b[0m Experiment has been throttled. Some data (like experiment metrics) might be missing. Mission-critical data, like Artifacts, are never throttled.\n",
      "Reason(s) of the experiment being throttled: metrics\n",
      "\u001b[1;38;5;39mCOMET INFO:\u001b[0m Uploading 82 metrics, params and output messages\n",
      "\u001b[1;38;5;214mCOMET WARNING:\u001b[0m As you are running in a Jupyter environment, you will need to call `experiment.end()` when finished to ensure all metrics and code are logged before exiting.\n",
      "\u001b[1;38;5;39mCOMET INFO:\u001b[0m Experiment is live on comet.com https://www.comet.com/nast69/random-search/f31c4631a32843ceba74d1b2815df4b0\n",
      "\n",
      "\u001b[1;38;5;39mCOMET INFO:\u001b[0m Couldn't find a Git repository in '/lustre06/project/6078700/nast/comet' nor in any parent directory. Set `COMET_GIT_DIRECTORY` if your Git Repository is elsewhere.\n"
     ]
    },
    {
     "name": "stdout",
     "output_type": "stream",
     "text": [
      "Epoch 1/10\n"
     ]
    },
    {
     "name": "stderr",
     "output_type": "stream",
     "text": [
      "2024-11-26 13:16:39.510808: W external/local_xla/xla/service/gpu/triton_autotuner.cc:660] Compiling 30 configs for 3 fusions on a single thread.\n"
     ]
    },
    {
     "name": "stdout",
     "output_type": "stream",
     "text": [
      "\u001b[1m3750/3750\u001b[0m \u001b[32m━━━━━━━━━━━━━━━━━━━━\u001b[0m\u001b[37m\u001b[0m \u001b[1m6s\u001b[0m 1ms/step - accuracy: 0.5130 - loss: 1.3882 - val_accuracy: 0.8737 - val_loss: 0.4301\n",
      "Epoch 2/10\n",
      "\u001b[1m3750/3750\u001b[0m \u001b[32m━━━━━━━━━━━━━━━━━━━━\u001b[0m\u001b[37m\u001b[0m \u001b[1m8s\u001b[0m 881us/step - accuracy: 0.8805 - loss: 0.4141 - val_accuracy: 0.8945 - val_loss: 0.3650\n",
      "Epoch 3/10\n",
      "\u001b[1m3750/3750\u001b[0m \u001b[32m━━━━━━━━━━━━━━━━━━━━\u001b[0m\u001b[37m\u001b[0m \u001b[1m5s\u001b[0m 879us/step - accuracy: 0.9028 - loss: 0.3340 - val_accuracy: 0.9097 - val_loss: 0.3072\n",
      "Epoch 4/10\n",
      "\u001b[1m3750/3750\u001b[0m \u001b[32m━━━━━━━━━━━━━━━━━━━━\u001b[0m\u001b[37m\u001b[0m \u001b[1m3s\u001b[0m 885us/step - accuracy: 0.9111 - loss: 0.3014 - val_accuracy: 0.9160 - val_loss: 0.2920\n",
      "Epoch 5/10\n",
      "\u001b[1m3750/3750\u001b[0m \u001b[32m━━━━━━━━━━━━━━━━━━━━\u001b[0m\u001b[37m\u001b[0m \u001b[1m3s\u001b[0m 887us/step - accuracy: 0.9143 - loss: 0.2920 - val_accuracy: 0.9168 - val_loss: 0.2798\n",
      "Epoch 6/10\n",
      "\u001b[1m3750/3750\u001b[0m \u001b[32m━━━━━━━━━━━━━━━━━━━━\u001b[0m\u001b[37m\u001b[0m \u001b[1m3s\u001b[0m 879us/step - accuracy: 0.9196 - loss: 0.2739 - val_accuracy: 0.9150 - val_loss: 0.2873\n",
      "Epoch 7/10\n",
      "\u001b[1m3750/3750\u001b[0m \u001b[32m━━━━━━━━━━━━━━━━━━━━\u001b[0m\u001b[37m\u001b[0m \u001b[1m5s\u001b[0m 892us/step - accuracy: 0.9215 - loss: 0.2697 - val_accuracy: 0.9183 - val_loss: 0.2713\n",
      "Epoch 8/10\n",
      "\u001b[1m3750/3750\u001b[0m \u001b[32m━━━━━━━━━━━━━━━━━━━━\u001b[0m\u001b[37m\u001b[0m \u001b[1m3s\u001b[0m 882us/step - accuracy: 0.9227 - loss: 0.2606 - val_accuracy: 0.9217 - val_loss: 0.2814\n",
      "Epoch 9/10\n",
      "\u001b[1m3750/3750\u001b[0m \u001b[32m━━━━━━━━━━━━━━━━━━━━\u001b[0m\u001b[37m\u001b[0m \u001b[1m3s\u001b[0m 885us/step - accuracy: 0.9238 - loss: 0.2578 - val_accuracy: 0.9145 - val_loss: 0.2852\n",
      "Epoch 10/10\n",
      "\u001b[1m3750/3750\u001b[0m \u001b[32m━━━━━━━━━━━━━━━━━━━━\u001b[0m\u001b[37m\u001b[0m \u001b[1m3s\u001b[0m 882us/step - accuracy: 0.9249 - loss: 0.2606 - val_accuracy: 0.9124 - val_loss: 0.2894\n"
     ]
    },
    {
     "name": "stderr",
     "output_type": "stream",
     "text": [
      "2024-11-26 13:17:23.589791: W external/local_xla/xla/service/gpu/triton_autotuner.cc:656] Compiling 2 configs for triton_gemm_dot.50 on a single thread.\n",
      "\u001b[1;38;5;39mCOMET INFO:\u001b[0m ---------------------------------------------------------------------------------------\n",
      "\u001b[1;38;5;39mCOMET INFO:\u001b[0m Comet.ml Experiment Summary\n",
      "\u001b[1;38;5;39mCOMET INFO:\u001b[0m ---------------------------------------------------------------------------------------\n",
      "\u001b[1;38;5;39mCOMET INFO:\u001b[0m   Data:\n",
      "\u001b[1;38;5;39mCOMET INFO:\u001b[0m     display_summary_level : 1\n",
      "\u001b[1;38;5;39mCOMET INFO:\u001b[0m     name                  : dynamic_hip_7741\n",
      "\u001b[1;38;5;39mCOMET INFO:\u001b[0m     url                   : https://www.comet.com/nast69/random-search/f31c4631a32843ceba74d1b2815df4b0\n",
      "\u001b[1;38;5;39mCOMET INFO:\u001b[0m   Metrics [count] (min, max):\n",
      "\u001b[1;38;5;39mCOMET INFO:\u001b[0m     accuracy [10]                 : (0.7098666429519653, 0.9262333512306213)\n",
      "\u001b[1;38;5;39mCOMET INFO:\u001b[0m     batch_accuracy [3750]         : (0.10725308954715729, 1.0)\n",
      "\u001b[1;38;5;39mCOMET INFO:\u001b[0m     batch_loss [3750]             : (0.052678026258945465, 2.454035520553589)\n",
      "\u001b[1;38;5;39mCOMET INFO:\u001b[0m     epoch_duration [10]           : (3.313438798999414, 7.544533229003719)\n",
      "\u001b[1;38;5;39mCOMET INFO:\u001b[0m     loss [10]                     : (0.25308337807655334, 0.886908769607544)\n",
      "\u001b[1;38;5;39mCOMET INFO:\u001b[0m     val_accuracy [10]             : (0.8737000226974487, 0.9217000007629395)\n",
      "\u001b[1;38;5;39mCOMET INFO:\u001b[0m     val_loss [10]                 : (0.2712725102901459, 0.43006229400634766)\n",
      "\u001b[1;38;5;39mCOMET INFO:\u001b[0m     validate_batch_accuracy [630] : (0.8445571660995483, 0.9545454382896423)\n",
      "\u001b[1;38;5;39mCOMET INFO:\u001b[0m     validate_batch_loss [630]     : (0.1729893535375595, 0.5818319320678711)\n",
      "\u001b[1;38;5;39mCOMET INFO:\u001b[0m   Others:\n",
      "\u001b[1;38;5;39mCOMET INFO:\u001b[0m     optimizer_count        : 12\n",
      "\u001b[1;38;5;39mCOMET INFO:\u001b[0m     optimizer_id           : 61fe9926a0b2429ab77580bbf796ca33\n",
      "\u001b[1;38;5;39mCOMET INFO:\u001b[0m     optimizer_metric       : loss\n",
      "\u001b[1;38;5;39mCOMET INFO:\u001b[0m     optimizer_metric_value : 0.25308337807655334\n",
      "\u001b[1;38;5;39mCOMET INFO:\u001b[0m     optimizer_name         : Optimize MNIST Network with Random Search\n",
      "\u001b[1;38;5;39mCOMET INFO:\u001b[0m     optimizer_objective    : minimum\n",
      "\u001b[1;38;5;39mCOMET INFO:\u001b[0m     optimizer_parameters   : {\"batch_size\": 16, \"first_layer_units\": 8, \"learning_rate\": 0.004219328271552385}\n",
      "\u001b[1;38;5;39mCOMET INFO:\u001b[0m     optimizer_pid          : 5bea71ba9212d05c0b97088d0e3163e5ea862f38\n",
      "\u001b[1;38;5;39mCOMET INFO:\u001b[0m     optimizer_process      : 1123214\n",
      "\u001b[1;38;5;39mCOMET INFO:\u001b[0m     optimizer_trial        : 1\n",
      "\u001b[1;38;5;39mCOMET INFO:\u001b[0m     optimizer_version      : 2.1.2\n",
      "\u001b[1;38;5;39mCOMET INFO:\u001b[0m     trainable_params       : 25234\n",
      "\u001b[1;38;5;39mCOMET INFO:\u001b[0m   Parameters:\n",
      "\u001b[1;38;5;39mCOMET INFO:\u001b[0m     Optimizer                           : rmsprop\n",
      "\u001b[1;38;5;39mCOMET INFO:\u001b[0m     RMSprop_centered                    : False\n",
      "\u001b[1;38;5;39mCOMET INFO:\u001b[0m     RMSprop_clipnorm                    : None\n",
      "\u001b[1;38;5;39mCOMET INFO:\u001b[0m     RMSprop_clipvalue                   : None\n",
      "\u001b[1;38;5;39mCOMET INFO:\u001b[0m     RMSprop_ema_momentum                : 0.99\n",
      "\u001b[1;38;5;39mCOMET INFO:\u001b[0m     RMSprop_ema_overwrite_frequency     : None\n",
      "\u001b[1;38;5;39mCOMET INFO:\u001b[0m     RMSprop_epsilon                     : 1e-07\n",
      "\u001b[1;38;5;39mCOMET INFO:\u001b[0m     RMSprop_global_clipnorm             : None\n",
      "\u001b[1;38;5;39mCOMET INFO:\u001b[0m     RMSprop_gradient_accumulation_steps : None\n",
      "\u001b[1;38;5;39mCOMET INFO:\u001b[0m     RMSprop_learning_rate               : 0.0010000000474974513\n",
      "\u001b[1;38;5;39mCOMET INFO:\u001b[0m     RMSprop_loss_scale_factor           : None\n",
      "\u001b[1;38;5;39mCOMET INFO:\u001b[0m     RMSprop_momentum                    : 0.0\n",
      "\u001b[1;38;5;39mCOMET INFO:\u001b[0m     RMSprop_name                        : rmsprop\n",
      "\u001b[1;38;5;39mCOMET INFO:\u001b[0m     RMSprop_rho                         : 0.9\n",
      "\u001b[1;38;5;39mCOMET INFO:\u001b[0m     RMSprop_use_ema                     : False\n",
      "\u001b[1;38;5;39mCOMET INFO:\u001b[0m     RMSprop_weight_decay                : None\n",
      "\u001b[1;38;5;39mCOMET INFO:\u001b[0m     batch_size                          : 16\n",
      "\u001b[1;38;5;39mCOMET INFO:\u001b[0m     epochs                              : 10\n",
      "\u001b[1;38;5;39mCOMET INFO:\u001b[0m     first_layer_units                   : 8\n",
      "\u001b[1;38;5;39mCOMET INFO:\u001b[0m     learning_rate                       : 0.004219328271552385\n",
      "\u001b[1;38;5;39mCOMET INFO:\u001b[0m     rmsprop_centered                    : False\n",
      "\u001b[1;38;5;39mCOMET INFO:\u001b[0m     rmsprop_clipnorm                    : None\n",
      "\u001b[1;38;5;39mCOMET INFO:\u001b[0m     rmsprop_clipvalue                   : None\n",
      "\u001b[1;38;5;39mCOMET INFO:\u001b[0m     rmsprop_ema_momentum                : 0.99\n",
      "\u001b[1;38;5;39mCOMET INFO:\u001b[0m     rmsprop_ema_overwrite_frequency     : None\n",
      "\u001b[1;38;5;39mCOMET INFO:\u001b[0m     rmsprop_epsilon                     : 1e-07\n",
      "\u001b[1;38;5;39mCOMET INFO:\u001b[0m     rmsprop_global_clipnorm             : None\n",
      "\u001b[1;38;5;39mCOMET INFO:\u001b[0m     rmsprop_gradient_accumulation_steps : None\n",
      "\u001b[1;38;5;39mCOMET INFO:\u001b[0m     rmsprop_learning_rate               : 0.0010000000474974513\n",
      "\u001b[1;38;5;39mCOMET INFO:\u001b[0m     rmsprop_loss_scale_factor           : None\n",
      "\u001b[1;38;5;39mCOMET INFO:\u001b[0m     rmsprop_momentum                    : 0.0\n",
      "\u001b[1;38;5;39mCOMET INFO:\u001b[0m     rmsprop_rho                         : 0.9\n",
      "\u001b[1;38;5;39mCOMET INFO:\u001b[0m     rmsprop_use_ema                     : False\n",
      "\u001b[1;38;5;39mCOMET INFO:\u001b[0m     rmsprop_weight_decay                : None\n",
      "\u001b[1;38;5;39mCOMET INFO:\u001b[0m     steps                               : 3750\n",
      "\u001b[1;38;5;39mCOMET INFO:\u001b[0m   Uploads:\n",
      "\u001b[1;38;5;39mCOMET INFO:\u001b[0m     environment details : 1\n",
      "\u001b[1;38;5;39mCOMET INFO:\u001b[0m     filename            : 1\n",
      "\u001b[1;38;5;39mCOMET INFO:\u001b[0m     installed packages  : 1\n",
      "\u001b[1;38;5;39mCOMET INFO:\u001b[0m     model graph         : 1\n",
      "\u001b[1;38;5;39mCOMET INFO:\u001b[0m     notebook            : 1\n",
      "\u001b[1;38;5;39mCOMET INFO:\u001b[0m     source_code         : 1\n",
      "\u001b[1;38;5;39mCOMET INFO:\u001b[0m \n"
     ]
    },
    {
     "name": "stdout",
     "output_type": "stream",
     "text": [
      "Score %s [0.2894390821456909, 0.9124000072479248]\n"
     ]
    },
    {
     "name": "stderr",
     "output_type": "stream",
     "text": [
      "\u001b[1;38;5;214mCOMET WARNING:\u001b[0m As you are running in a Jupyter environment, you will need to call `experiment.end()` when finished to ensure all metrics and code are logged before exiting.\n",
      "\u001b[1;38;5;39mCOMET INFO:\u001b[0m Couldn't find a Git repository in '/lustre06/project/6078700/nast/comet' nor in any parent directory. Set `COMET_GIT_DIRECTORY` if your Git Repository is elsewhere.\n",
      "\u001b[1;38;5;39mCOMET INFO:\u001b[0m Experiment is live on comet.com https://www.comet.com/nast69/random-search/9709c87278804dc5ada0b307f663454d\n",
      "\n"
     ]
    },
    {
     "name": "stdout",
     "output_type": "stream",
     "text": [
      "Epoch 1/10\n"
     ]
    },
    {
     "name": "stderr",
     "output_type": "stream",
     "text": [
      "2024-11-26 13:17:27.736999: W external/local_xla/xla/service/gpu/triton_autotuner.cc:660] Compiling 38 configs for 2 fusions on a single thread.\n"
     ]
    },
    {
     "name": "stdout",
     "output_type": "stream",
     "text": [
      "\u001b[1m1834/1875\u001b[0m \u001b[32m━━━━━━━━━━━━━━━━━━━\u001b[0m\u001b[37m━\u001b[0m \u001b[1m0s\u001b[0m 798us/step - accuracy: 0.6202 - loss: 1.1766"
     ]
    },
    {
     "name": "stderr",
     "output_type": "stream",
     "text": [
      "2024-11-26 13:17:34.160639: W external/local_xla/xla/service/gpu/triton_autotuner.cc:656] Compiling 18 configs for triton_gemm_dot.50 on a single thread.\n"
     ]
    },
    {
     "name": "stdout",
     "output_type": "stream",
     "text": [
      "\u001b[1m1875/1875\u001b[0m \u001b[32m━━━━━━━━━━━━━━━━━━━━\u001b[0m\u001b[37m\u001b[0m \u001b[1m9s\u001b[0m 2ms/step - accuracy: 0.6243 - loss: 1.1650 - val_accuracy: 0.9163 - val_loss: 0.2804\n",
      "Epoch 2/10\n",
      "\u001b[1m1875/1875\u001b[0m \u001b[32m━━━━━━━━━━━━━━━━━━━━\u001b[0m\u001b[37m\u001b[0m \u001b[1m2s\u001b[0m 911us/step - accuracy: 0.9239 - loss: 0.2563 - val_accuracy: 0.9434 - val_loss: 0.1905\n",
      "Epoch 3/10\n",
      "\u001b[1m1875/1875\u001b[0m \u001b[32m━━━━━━━━━━━━━━━━━━━━\u001b[0m\u001b[37m\u001b[0m \u001b[1m2s\u001b[0m 910us/step - accuracy: 0.9467 - loss: 0.1810 - val_accuracy: 0.9536 - val_loss: 0.1533\n",
      "Epoch 4/10\n",
      "\u001b[1m1875/1875\u001b[0m \u001b[32m━━━━━━━━━━━━━━━━━━━━\u001b[0m\u001b[37m\u001b[0m \u001b[1m3s\u001b[0m 913us/step - accuracy: 0.9579 - loss: 0.1441 - val_accuracy: 0.9600 - val_loss: 0.1348\n",
      "Epoch 5/10\n",
      "\u001b[1m1875/1875\u001b[0m \u001b[32m━━━━━━━━━━━━━━━━━━━━\u001b[0m\u001b[37m\u001b[0m \u001b[1m2s\u001b[0m 910us/step - accuracy: 0.9635 - loss: 0.1242 - val_accuracy: 0.9597 - val_loss: 0.1386\n",
      "Epoch 6/10\n",
      "\u001b[1m1875/1875\u001b[0m \u001b[32m━━━━━━━━━━━━━━━━━━━━\u001b[0m\u001b[37m\u001b[0m \u001b[1m2s\u001b[0m 914us/step - accuracy: 0.9675 - loss: 0.1101 - val_accuracy: 0.9602 - val_loss: 0.1355\n",
      "Epoch 7/10\n",
      "\u001b[1m1875/1875\u001b[0m \u001b[32m━━━━━━━━━━━━━━━━━━━━\u001b[0m\u001b[37m\u001b[0m \u001b[1m2s\u001b[0m 924us/step - accuracy: 0.9698 - loss: 0.0996 - val_accuracy: 0.9669 - val_loss: 0.1166\n",
      "Epoch 8/10\n",
      "\u001b[1m1875/1875\u001b[0m \u001b[32m━━━━━━━━━━━━━━━━━━━━\u001b[0m\u001b[37m\u001b[0m \u001b[1m2s\u001b[0m 908us/step - accuracy: 0.9742 - loss: 0.0862 - val_accuracy: 0.9657 - val_loss: 0.1197\n",
      "Epoch 9/10\n",
      "\u001b[1m1875/1875\u001b[0m \u001b[32m━━━━━━━━━━━━━━━━━━━━\u001b[0m\u001b[37m\u001b[0m \u001b[1m2s\u001b[0m 918us/step - accuracy: 0.9757 - loss: 0.0818 - val_accuracy: 0.9691 - val_loss: 0.1070\n",
      "Epoch 10/10\n",
      "\u001b[1m1875/1875\u001b[0m \u001b[32m━━━━━━━━━━━━━━━━━━━━\u001b[0m\u001b[37m\u001b[0m \u001b[1m2s\u001b[0m 909us/step - accuracy: 0.9768 - loss: 0.0796 - val_accuracy: 0.9651 - val_loss: 0.1213\n"
     ]
    },
    {
     "name": "stderr",
     "output_type": "stream",
     "text": [
      "\u001b[1;38;5;39mCOMET INFO:\u001b[0m ---------------------------------------------------------------------------------------\n",
      "\u001b[1;38;5;39mCOMET INFO:\u001b[0m Comet.ml Experiment Summary\n",
      "\u001b[1;38;5;39mCOMET INFO:\u001b[0m ---------------------------------------------------------------------------------------\n",
      "\u001b[1;38;5;39mCOMET INFO:\u001b[0m   Data:\n",
      "\u001b[1;38;5;39mCOMET INFO:\u001b[0m     display_summary_level : 1\n",
      "\u001b[1;38;5;39mCOMET INFO:\u001b[0m     name                  : electrical_pergola_9582\n",
      "\u001b[1;38;5;39mCOMET INFO:\u001b[0m     url                   : https://www.comet.com/nast69/random-search/9709c87278804dc5ada0b307f663454d\n",
      "\u001b[1;38;5;39mCOMET INFO:\u001b[0m   Metrics [count] (min, max):\n",
      "\u001b[1;38;5;39mCOMET INFO:\u001b[0m     accuracy [10]                 : (0.802133321762085, 0.9763666391372681)\n",
      "\u001b[1;38;5;39mCOMET INFO:\u001b[0m     batch_accuracy [1880]         : (0.0625, 1.0)\n",
      "\u001b[1;38;5;39mCOMET INFO:\u001b[0m     batch_loss [1880]             : (0.022157330065965652, 2.356276512145996)\n",
      "\u001b[1;38;5;39mCOMET INFO:\u001b[0m     epoch_duration [10]           : (1.7178856910031755, 8.758692057999724)\n",
      "\u001b[1;38;5;39mCOMET INFO:\u001b[0m     loss [10]                     : (0.07897699624300003, 0.654329240322113)\n",
      "\u001b[1;38;5;39mCOMET INFO:\u001b[0m     val_accuracy [10]             : (0.9162999987602234, 0.9690999984741211)\n",
      "\u001b[1;38;5;39mCOMET INFO:\u001b[0m     val_loss [10]                 : (0.10702608525753021, 0.28039637207984924)\n",
      "\u001b[1;38;5;39mCOMET INFO:\u001b[0m     validate_batch_accuracy [320] : (0.896276593208313, 1.0)\n",
      "\u001b[1;38;5;39mCOMET INFO:\u001b[0m     validate_batch_loss [320]     : (0.01996762305498123, 0.3481704592704773)\n",
      "\u001b[1;38;5;39mCOMET INFO:\u001b[0m   Others:\n",
      "\u001b[1;38;5;39mCOMET INFO:\u001b[0m     optimizer_count        : 13\n",
      "\u001b[1;38;5;39mCOMET INFO:\u001b[0m     optimizer_id           : 61fe9926a0b2429ab77580bbf796ca33\n",
      "\u001b[1;38;5;39mCOMET INFO:\u001b[0m     optimizer_metric       : loss\n",
      "\u001b[1;38;5;39mCOMET INFO:\u001b[0m     optimizer_metric_value : 0.07897699624300003\n",
      "\u001b[1;38;5;39mCOMET INFO:\u001b[0m     optimizer_name         : Optimize MNIST Network with Random Search\n",
      "\u001b[1;38;5;39mCOMET INFO:\u001b[0m     optimizer_objective    : minimum\n",
      "\u001b[1;38;5;39mCOMET INFO:\u001b[0m     optimizer_parameters   : {\"batch_size\": 32, \"first_layer_units\": 46, \"learning_rate\": 0.0006277333496976054}\n",
      "\u001b[1;38;5;39mCOMET INFO:\u001b[0m     optimizer_pid          : 54cbfc3649c95257f94bb3cbb3497e918e7b16a4\n",
      "\u001b[1;38;5;39mCOMET INFO:\u001b[0m     optimizer_process      : 1123214\n",
      "\u001b[1;38;5;39mCOMET INFO:\u001b[0m     optimizer_trial        : 1\n",
      "\u001b[1;38;5;39mCOMET INFO:\u001b[0m     optimizer_version      : 2.1.2\n",
      "\u001b[1;38;5;39mCOMET INFO:\u001b[0m     trainable_params       : 59928\n",
      "\u001b[1;38;5;39mCOMET INFO:\u001b[0m   Parameters:\n",
      "\u001b[1;38;5;39mCOMET INFO:\u001b[0m     Optimizer                           : rmsprop\n",
      "\u001b[1;38;5;39mCOMET INFO:\u001b[0m     RMSprop_centered                    : False\n",
      "\u001b[1;38;5;39mCOMET INFO:\u001b[0m     RMSprop_clipnorm                    : None\n",
      "\u001b[1;38;5;39mCOMET INFO:\u001b[0m     RMSprop_clipvalue                   : None\n",
      "\u001b[1;38;5;39mCOMET INFO:\u001b[0m     RMSprop_ema_momentum                : 0.99\n",
      "\u001b[1;38;5;39mCOMET INFO:\u001b[0m     RMSprop_ema_overwrite_frequency     : None\n",
      "\u001b[1;38;5;39mCOMET INFO:\u001b[0m     RMSprop_epsilon                     : 1e-07\n",
      "\u001b[1;38;5;39mCOMET INFO:\u001b[0m     RMSprop_global_clipnorm             : None\n",
      "\u001b[1;38;5;39mCOMET INFO:\u001b[0m     RMSprop_gradient_accumulation_steps : None\n",
      "\u001b[1;38;5;39mCOMET INFO:\u001b[0m     RMSprop_learning_rate               : 0.0010000000474974513\n",
      "\u001b[1;38;5;39mCOMET INFO:\u001b[0m     RMSprop_loss_scale_factor           : None\n",
      "\u001b[1;38;5;39mCOMET INFO:\u001b[0m     RMSprop_momentum                    : 0.0\n",
      "\u001b[1;38;5;39mCOMET INFO:\u001b[0m     RMSprop_name                        : rmsprop\n",
      "\u001b[1;38;5;39mCOMET INFO:\u001b[0m     RMSprop_rho                         : 0.9\n",
      "\u001b[1;38;5;39mCOMET INFO:\u001b[0m     RMSprop_use_ema                     : False\n",
      "\u001b[1;38;5;39mCOMET INFO:\u001b[0m     RMSprop_weight_decay                : None\n",
      "\u001b[1;38;5;39mCOMET INFO:\u001b[0m     batch_size                          : 32\n",
      "\u001b[1;38;5;39mCOMET INFO:\u001b[0m     epochs                              : 10\n",
      "\u001b[1;38;5;39mCOMET INFO:\u001b[0m     first_layer_units                   : 46\n",
      "\u001b[1;38;5;39mCOMET INFO:\u001b[0m     learning_rate                       : 0.0006277333496976054\n",
      "\u001b[1;38;5;39mCOMET INFO:\u001b[0m     rmsprop_centered                    : False\n",
      "\u001b[1;38;5;39mCOMET INFO:\u001b[0m     rmsprop_clipnorm                    : None\n",
      "\u001b[1;38;5;39mCOMET INFO:\u001b[0m     rmsprop_clipvalue                   : None\n",
      "\u001b[1;38;5;39mCOMET INFO:\u001b[0m     rmsprop_ema_momentum                : 0.99\n",
      "\u001b[1;38;5;39mCOMET INFO:\u001b[0m     rmsprop_ema_overwrite_frequency     : None\n",
      "\u001b[1;38;5;39mCOMET INFO:\u001b[0m     rmsprop_epsilon                     : 1e-07\n",
      "\u001b[1;38;5;39mCOMET INFO:\u001b[0m     rmsprop_global_clipnorm             : None\n",
      "\u001b[1;38;5;39mCOMET INFO:\u001b[0m     rmsprop_gradient_accumulation_steps : None\n",
      "\u001b[1;38;5;39mCOMET INFO:\u001b[0m     rmsprop_learning_rate               : 0.0010000000474974513\n",
      "\u001b[1;38;5;39mCOMET INFO:\u001b[0m     rmsprop_loss_scale_factor           : None\n",
      "\u001b[1;38;5;39mCOMET INFO:\u001b[0m     rmsprop_momentum                    : 0.0\n",
      "\u001b[1;38;5;39mCOMET INFO:\u001b[0m     rmsprop_rho                         : 0.9\n",
      "\u001b[1;38;5;39mCOMET INFO:\u001b[0m     rmsprop_use_ema                     : False\n",
      "\u001b[1;38;5;39mCOMET INFO:\u001b[0m     rmsprop_weight_decay                : None\n",
      "\u001b[1;38;5;39mCOMET INFO:\u001b[0m     steps                               : 1875\n",
      "\u001b[1;38;5;39mCOMET INFO:\u001b[0m   Uploads:\n",
      "\u001b[1;38;5;39mCOMET INFO:\u001b[0m     environment details : 1\n",
      "\u001b[1;38;5;39mCOMET INFO:\u001b[0m     filename            : 1\n",
      "\u001b[1;38;5;39mCOMET INFO:\u001b[0m     installed packages  : 1\n",
      "\u001b[1;38;5;39mCOMET INFO:\u001b[0m     model graph         : 1\n",
      "\u001b[1;38;5;39mCOMET INFO:\u001b[0m     notebook            : 1\n",
      "\u001b[1;38;5;39mCOMET INFO:\u001b[0m     source_code         : 1\n",
      "\u001b[1;38;5;39mCOMET INFO:\u001b[0m \n"
     ]
    },
    {
     "name": "stdout",
     "output_type": "stream",
     "text": [
      "Score %s [0.12133223563432693, 0.9650999903678894]\n"
     ]
    },
    {
     "name": "stderr",
     "output_type": "stream",
     "text": [
      "\u001b[1;38;5;39mCOMET INFO:\u001b[0m Uploading 1 metrics, params and output messages\n",
      "\u001b[1;38;5;214mCOMET WARNING:\u001b[0m As you are running in a Jupyter environment, you will need to call `experiment.end()` when finished to ensure all metrics and code are logged before exiting.\n",
      "\u001b[1;38;5;39mCOMET INFO:\u001b[0m Experiment is live on comet.com https://www.comet.com/nast69/random-search/92a89609f01f4c08b60cb002cdc65de2\n",
      "\n",
      "\u001b[1;38;5;39mCOMET INFO:\u001b[0m Couldn't find a Git repository in '/lustre06/project/6078700/nast/comet' nor in any parent directory. Set `COMET_GIT_DIRECTORY` if your Git Repository is elsewhere.\n"
     ]
    },
    {
     "name": "stdout",
     "output_type": "stream",
     "text": [
      "Epoch 1/10\n"
     ]
    },
    {
     "name": "stderr",
     "output_type": "stream",
     "text": [
      "2024-11-26 13:17:56.808799: W external/local_xla/xla/service/gpu/triton_autotuner.cc:660] Compiling 32 configs for 2 fusions on a single thread.\n"
     ]
    },
    {
     "name": "stdout",
     "output_type": "stream",
     "text": [
      "\u001b[1m1856/1875\u001b[0m \u001b[32m━━━━━━━━━━━━━━━━━━━\u001b[0m\u001b[37m━\u001b[0m \u001b[1m0s\u001b[0m 790us/step - accuracy: 0.5635 - loss: 1.3298"
     ]
    },
    {
     "name": "stderr",
     "output_type": "stream",
     "text": [
      "2024-11-26 13:18:01.775443: W external/local_xla/xla/service/gpu/triton_autotuner.cc:656] Compiling 13 configs for triton_gemm_dot.50 on a single thread.\n"
     ]
    },
    {
     "name": "stdout",
     "output_type": "stream",
     "text": [
      "\u001b[1m1875/1875\u001b[0m \u001b[32m━━━━━━━━━━━━━━━━━━━━\u001b[0m\u001b[37m\u001b[0m \u001b[1m7s\u001b[0m 2ms/step - accuracy: 0.5657 - loss: 1.3239 - val_accuracy: 0.9052 - val_loss: 0.3349\n",
      "Epoch 2/10\n",
      "\u001b[1m1875/1875\u001b[0m \u001b[32m━━━━━━━━━━━━━━━━━━━━\u001b[0m\u001b[37m\u001b[0m \u001b[1m2s\u001b[0m 904us/step - accuracy: 0.9081 - loss: 0.3127 - val_accuracy: 0.9322 - val_loss: 0.2415\n",
      "Epoch 3/10\n",
      "\u001b[1m1875/1875\u001b[0m \u001b[32m━━━━━━━━━━━━━━━━━━━━\u001b[0m\u001b[37m\u001b[0m \u001b[1m2s\u001b[0m 910us/step - accuracy: 0.9282 - loss: 0.2428 - val_accuracy: 0.9375 - val_loss: 0.2221\n",
      "Epoch 4/10\n",
      "\u001b[1m1875/1875\u001b[0m \u001b[32m━━━━━━━━━━━━━━━━━━━━\u001b[0m\u001b[37m\u001b[0m \u001b[1m2s\u001b[0m 901us/step - accuracy: 0.9403 - loss: 0.2008 - val_accuracy: 0.9442 - val_loss: 0.1900\n",
      "Epoch 5/10\n",
      "\u001b[1m1875/1875\u001b[0m \u001b[32m━━━━━━━━━━━━━━━━━━━━\u001b[0m\u001b[37m\u001b[0m \u001b[1m2s\u001b[0m 903us/step - accuracy: 0.9468 - loss: 0.1807 - val_accuracy: 0.9450 - val_loss: 0.1853\n",
      "Epoch 6/10\n",
      "\u001b[1m1875/1875\u001b[0m \u001b[32m━━━━━━━━━━━━━━━━━━━━\u001b[0m\u001b[37m\u001b[0m \u001b[1m2s\u001b[0m 902us/step - accuracy: 0.9498 - loss: 0.1683 - val_accuracy: 0.9502 - val_loss: 0.1705\n",
      "Epoch 7/10\n",
      "\u001b[1m1875/1875\u001b[0m \u001b[32m━━━━━━━━━━━━━━━━━━━━\u001b[0m\u001b[37m\u001b[0m \u001b[1m2s\u001b[0m 1ms/step - accuracy: 0.9549 - loss: 0.1492 - val_accuracy: 0.9542 - val_loss: 0.1639\n",
      "Epoch 8/10\n",
      "\u001b[1m1875/1875\u001b[0m \u001b[32m━━━━━━━━━━━━━━━━━━━━\u001b[0m\u001b[37m\u001b[0m \u001b[1m2s\u001b[0m 921us/step - accuracy: 0.9558 - loss: 0.1474 - val_accuracy: 0.9541 - val_loss: 0.1578\n",
      "Epoch 9/10\n",
      "\u001b[1m1875/1875\u001b[0m \u001b[32m━━━━━━━━━━━━━━━━━━━━\u001b[0m\u001b[37m\u001b[0m \u001b[1m3s\u001b[0m 912us/step - accuracy: 0.9590 - loss: 0.1382 - val_accuracy: 0.9539 - val_loss: 0.1554\n",
      "Epoch 10/10\n",
      "\u001b[1m1875/1875\u001b[0m \u001b[32m━━━━━━━━━━━━━━━━━━━━\u001b[0m\u001b[37m\u001b[0m \u001b[1m3s\u001b[0m 912us/step - accuracy: 0.9607 - loss: 0.1293 - val_accuracy: 0.9558 - val_loss: 0.1445\n"
     ]
    },
    {
     "name": "stderr",
     "output_type": "stream",
     "text": [
      "\u001b[1;38;5;39mCOMET INFO:\u001b[0m ---------------------------------------------------------------------------------------\n",
      "\u001b[1;38;5;39mCOMET INFO:\u001b[0m Comet.ml Experiment Summary\n",
      "\u001b[1;38;5;39mCOMET INFO:\u001b[0m ---------------------------------------------------------------------------------------\n",
      "\u001b[1;38;5;39mCOMET INFO:\u001b[0m   Data:\n",
      "\u001b[1;38;5;39mCOMET INFO:\u001b[0m     display_summary_level : 1\n",
      "\u001b[1;38;5;39mCOMET INFO:\u001b[0m     name                  : friendly_auditor_4445\n",
      "\u001b[1;38;5;39mCOMET INFO:\u001b[0m     url                   : https://www.comet.com/nast69/random-search/92a89609f01f4c08b60cb002cdc65de2\n",
      "\u001b[1;38;5;39mCOMET INFO:\u001b[0m   Metrics [count] (min, max):\n",
      "\u001b[1;38;5;39mCOMET INFO:\u001b[0m     accuracy [10]                 : (0.7630166411399841, 0.960183322429657)\n",
      "\u001b[1;38;5;39mCOMET INFO:\u001b[0m     batch_accuracy [1880]         : (0.0, 1.0)\n",
      "\u001b[1;38;5;39mCOMET INFO:\u001b[0m     batch_loss [1880]             : (0.011355247348546982, 2.5271549224853516)\n",
      "\u001b[1;38;5;39mCOMET INFO:\u001b[0m     epoch_duration [10]           : (1.70578487199964, 6.565030541998567)\n",
      "\u001b[1;38;5;39mCOMET INFO:\u001b[0m     loss [10]                     : (0.13082295656204224, 0.7790089845657349)\n",
      "\u001b[1;38;5;39mCOMET INFO:\u001b[0m     val_accuracy [10]             : (0.9052000045776367, 0.9557999968528748)\n",
      "\u001b[1;38;5;39mCOMET INFO:\u001b[0m     val_loss [10]                 : (0.14451852440834045, 0.33493778109550476)\n",
      "\u001b[1;38;5;39mCOMET INFO:\u001b[0m     validate_batch_accuracy [320] : (0.8722527623176575, 0.96875)\n",
      "\u001b[1;38;5;39mCOMET INFO:\u001b[0m     validate_batch_loss [320]     : (0.07499829679727554, 0.4242211580276489)\n",
      "\u001b[1;38;5;39mCOMET INFO:\u001b[0m   Others:\n",
      "\u001b[1;38;5;39mCOMET INFO:\u001b[0m     optimizer_count        : 14\n",
      "\u001b[1;38;5;39mCOMET INFO:\u001b[0m     optimizer_id           : 61fe9926a0b2429ab77580bbf796ca33\n",
      "\u001b[1;38;5;39mCOMET INFO:\u001b[0m     optimizer_metric       : loss\n",
      "\u001b[1;38;5;39mCOMET INFO:\u001b[0m     optimizer_metric_value : 0.13082295656204224\n",
      "\u001b[1;38;5;39mCOMET INFO:\u001b[0m     optimizer_name         : Optimize MNIST Network with Random Search\n",
      "\u001b[1;38;5;39mCOMET INFO:\u001b[0m     optimizer_objective    : minimum\n",
      "\u001b[1;38;5;39mCOMET INFO:\u001b[0m     optimizer_parameters   : {\"batch_size\": 32, \"first_layer_units\": 22, \"learning_rate\": 0.004143225287188298}\n",
      "\u001b[1;38;5;39mCOMET INFO:\u001b[0m     optimizer_pid          : 0dbdfe52c965fbc434c08a9013994b1c1308228e\n",
      "\u001b[1;38;5;39mCOMET INFO:\u001b[0m     optimizer_process      : 1123214\n",
      "\u001b[1;38;5;39mCOMET INFO:\u001b[0m     optimizer_trial        : 1\n",
      "\u001b[1;38;5;39mCOMET INFO:\u001b[0m     optimizer_version      : 2.1.2\n",
      "\u001b[1;38;5;39mCOMET INFO:\u001b[0m     trainable_params       : 38016\n",
      "\u001b[1;38;5;39mCOMET INFO:\u001b[0m   Parameters:\n",
      "\u001b[1;38;5;39mCOMET INFO:\u001b[0m     Optimizer                           : rmsprop\n",
      "\u001b[1;38;5;39mCOMET INFO:\u001b[0m     RMSprop_centered                    : False\n",
      "\u001b[1;38;5;39mCOMET INFO:\u001b[0m     RMSprop_clipnorm                    : None\n",
      "\u001b[1;38;5;39mCOMET INFO:\u001b[0m     RMSprop_clipvalue                   : None\n",
      "\u001b[1;38;5;39mCOMET INFO:\u001b[0m     RMSprop_ema_momentum                : 0.99\n",
      "\u001b[1;38;5;39mCOMET INFO:\u001b[0m     RMSprop_ema_overwrite_frequency     : None\n",
      "\u001b[1;38;5;39mCOMET INFO:\u001b[0m     RMSprop_epsilon                     : 1e-07\n",
      "\u001b[1;38;5;39mCOMET INFO:\u001b[0m     RMSprop_global_clipnorm             : None\n",
      "\u001b[1;38;5;39mCOMET INFO:\u001b[0m     RMSprop_gradient_accumulation_steps : None\n",
      "\u001b[1;38;5;39mCOMET INFO:\u001b[0m     RMSprop_learning_rate               : 0.0010000000474974513\n",
      "\u001b[1;38;5;39mCOMET INFO:\u001b[0m     RMSprop_loss_scale_factor           : None\n",
      "\u001b[1;38;5;39mCOMET INFO:\u001b[0m     RMSprop_momentum                    : 0.0\n",
      "\u001b[1;38;5;39mCOMET INFO:\u001b[0m     RMSprop_name                        : rmsprop\n",
      "\u001b[1;38;5;39mCOMET INFO:\u001b[0m     RMSprop_rho                         : 0.9\n",
      "\u001b[1;38;5;39mCOMET INFO:\u001b[0m     RMSprop_use_ema                     : False\n",
      "\u001b[1;38;5;39mCOMET INFO:\u001b[0m     RMSprop_weight_decay                : None\n",
      "\u001b[1;38;5;39mCOMET INFO:\u001b[0m     batch_size                          : 32\n",
      "\u001b[1;38;5;39mCOMET INFO:\u001b[0m     epochs                              : 10\n",
      "\u001b[1;38;5;39mCOMET INFO:\u001b[0m     first_layer_units                   : 22\n",
      "\u001b[1;38;5;39mCOMET INFO:\u001b[0m     learning_rate                       : 0.004143225287188298\n",
      "\u001b[1;38;5;39mCOMET INFO:\u001b[0m     rmsprop_centered                    : False\n",
      "\u001b[1;38;5;39mCOMET INFO:\u001b[0m     rmsprop_clipnorm                    : None\n",
      "\u001b[1;38;5;39mCOMET INFO:\u001b[0m     rmsprop_clipvalue                   : None\n",
      "\u001b[1;38;5;39mCOMET INFO:\u001b[0m     rmsprop_ema_momentum                : 0.99\n",
      "\u001b[1;38;5;39mCOMET INFO:\u001b[0m     rmsprop_ema_overwrite_frequency     : None\n",
      "\u001b[1;38;5;39mCOMET INFO:\u001b[0m     rmsprop_epsilon                     : 1e-07\n",
      "\u001b[1;38;5;39mCOMET INFO:\u001b[0m     rmsprop_global_clipnorm             : None\n",
      "\u001b[1;38;5;39mCOMET INFO:\u001b[0m     rmsprop_gradient_accumulation_steps : None\n",
      "\u001b[1;38;5;39mCOMET INFO:\u001b[0m     rmsprop_learning_rate               : 0.0010000000474974513\n",
      "\u001b[1;38;5;39mCOMET INFO:\u001b[0m     rmsprop_loss_scale_factor           : None\n",
      "\u001b[1;38;5;39mCOMET INFO:\u001b[0m     rmsprop_momentum                    : 0.0\n",
      "\u001b[1;38;5;39mCOMET INFO:\u001b[0m     rmsprop_rho                         : 0.9\n",
      "\u001b[1;38;5;39mCOMET INFO:\u001b[0m     rmsprop_use_ema                     : False\n",
      "\u001b[1;38;5;39mCOMET INFO:\u001b[0m     rmsprop_weight_decay                : None\n",
      "\u001b[1;38;5;39mCOMET INFO:\u001b[0m     steps                               : 1875\n",
      "\u001b[1;38;5;39mCOMET INFO:\u001b[0m   Uploads:\n",
      "\u001b[1;38;5;39mCOMET INFO:\u001b[0m     environment details : 1\n",
      "\u001b[1;38;5;39mCOMET INFO:\u001b[0m     filename            : 1\n",
      "\u001b[1;38;5;39mCOMET INFO:\u001b[0m     installed packages  : 1\n",
      "\u001b[1;38;5;39mCOMET INFO:\u001b[0m     model graph         : 1\n",
      "\u001b[1;38;5;39mCOMET INFO:\u001b[0m     notebook            : 1\n",
      "\u001b[1;38;5;39mCOMET INFO:\u001b[0m     source_code         : 1\n",
      "\u001b[1;38;5;39mCOMET INFO:\u001b[0m \n"
     ]
    },
    {
     "name": "stdout",
     "output_type": "stream",
     "text": [
      "Score %s [0.14451852440834045, 0.9557999968528748]\n"
     ]
    },
    {
     "name": "stderr",
     "output_type": "stream",
     "text": [
      "\u001b[1;38;5;214mCOMET WARNING:\u001b[0m As you are running in a Jupyter environment, you will need to call `experiment.end()` when finished to ensure all metrics and code are logged before exiting.\n",
      "\u001b[1;38;5;39mCOMET INFO:\u001b[0m Couldn't find a Git repository in '/lustre06/project/6078700/nast/comet' nor in any parent directory. Set `COMET_GIT_DIRECTORY` if your Git Repository is elsewhere.\n",
      "\u001b[1;38;5;39mCOMET INFO:\u001b[0m Experiment is live on comet.com https://www.comet.com/nast69/random-search/c4b91fc5a0f148c4a1536daa40f7bb20\n",
      "\n"
     ]
    },
    {
     "name": "stdout",
     "output_type": "stream",
     "text": [
      "Epoch 1/10\n"
     ]
    },
    {
     "name": "stderr",
     "output_type": "stream",
     "text": [
      "2024-11-26 13:18:23.680364: W external/local_xla/xla/service/gpu/triton_autotuner.cc:660] Compiling 41 configs for 3 fusions on a single thread.\n"
     ]
    },
    {
     "name": "stdout",
     "output_type": "stream",
     "text": [
      "\u001b[1m3750/3750\u001b[0m \u001b[32m━━━━━━━━━━━━━━━━━━━━\u001b[0m\u001b[37m\u001b[0m \u001b[1m7s\u001b[0m 1ms/step - accuracy: 0.5643 - loss: 1.2567 - val_accuracy: 0.8830 - val_loss: 0.4033\n",
      "Epoch 2/10\n",
      "\u001b[1m3750/3750\u001b[0m \u001b[32m━━━━━━━━━━━━━━━━━━━━\u001b[0m\u001b[37m\u001b[0m \u001b[1m3s\u001b[0m 890us/step - accuracy: 0.9016 - loss: 0.3448 - val_accuracy: 0.9195 - val_loss: 0.2711\n",
      "Epoch 3/10\n",
      "\u001b[1m3750/3750\u001b[0m \u001b[32m━━━━━━━━━━━━━━━━━━━━\u001b[0m\u001b[37m\u001b[0m \u001b[1m3s\u001b[0m 886us/step - accuracy: 0.9214 - loss: 0.2720 - val_accuracy: 0.9276 - val_loss: 0.2478\n",
      "Epoch 4/10\n",
      "\u001b[1m3750/3750\u001b[0m \u001b[32m━━━━━━━━━━━━━━━━━━━━\u001b[0m\u001b[37m\u001b[0m \u001b[1m5s\u001b[0m 884us/step - accuracy: 0.9325 - loss: 0.2347 - val_accuracy: 0.9355 - val_loss: 0.2257\n",
      "Epoch 5/10\n",
      "\u001b[1m3750/3750\u001b[0m \u001b[32m━━━━━━━━━━━━━━━━━━━━\u001b[0m\u001b[37m\u001b[0m \u001b[1m3s\u001b[0m 890us/step - accuracy: 0.9377 - loss: 0.2164 - val_accuracy: 0.9369 - val_loss: 0.2213\n",
      "Epoch 6/10\n",
      "\u001b[1m3750/3750\u001b[0m \u001b[32m━━━━━━━━━━━━━━━━━━━━\u001b[0m\u001b[37m\u001b[0m \u001b[1m3s\u001b[0m 893us/step - accuracy: 0.9406 - loss: 0.2014 - val_accuracy: 0.9424 - val_loss: 0.2083\n",
      "Epoch 7/10\n",
      "\u001b[1m3750/3750\u001b[0m \u001b[32m━━━━━━━━━━━━━━━━━━━━\u001b[0m\u001b[37m\u001b[0m \u001b[1m3s\u001b[0m 885us/step - accuracy: 0.9455 - loss: 0.1927 - val_accuracy: 0.9423 - val_loss: 0.2106\n",
      "Epoch 8/10\n",
      "\u001b[1m3750/3750\u001b[0m \u001b[32m━━━━━━━━━━━━━━━━━━━━\u001b[0m\u001b[37m\u001b[0m \u001b[1m5s\u001b[0m 896us/step - accuracy: 0.9465 - loss: 0.1875 - val_accuracy: 0.9403 - val_loss: 0.2186\n",
      "Epoch 9/10\n",
      "\u001b[1m3750/3750\u001b[0m \u001b[32m━━━━━━━━━━━━━━━━━━━━\u001b[0m\u001b[37m\u001b[0m \u001b[1m3s\u001b[0m 891us/step - accuracy: 0.9476 - loss: 0.1797 - val_accuracy: 0.9466 - val_loss: 0.1928\n",
      "Epoch 10/10\n",
      "\u001b[1m3750/3750\u001b[0m \u001b[32m━━━━━━━━━━━━━━━━━━━━\u001b[0m\u001b[37m\u001b[0m \u001b[1m5s\u001b[0m 892us/step - accuracy: 0.9484 - loss: 0.1783 - val_accuracy: 0.9446 - val_loss: 0.1950\n"
     ]
    },
    {
     "name": "stderr",
     "output_type": "stream",
     "text": [
      "2024-11-26 13:19:06.004338: W external/local_xla/xla/service/gpu/triton_autotuner.cc:656] Compiling 16 configs for triton_gemm_dot.50 on a single thread.\n",
      "\u001b[1;38;5;39mCOMET INFO:\u001b[0m ---------------------------------------------------------------------------------------\n",
      "\u001b[1;38;5;39mCOMET INFO:\u001b[0m Comet.ml Experiment Summary\n",
      "\u001b[1;38;5;39mCOMET INFO:\u001b[0m ---------------------------------------------------------------------------------------\n",
      "\u001b[1;38;5;39mCOMET INFO:\u001b[0m   Data:\n",
      "\u001b[1;38;5;39mCOMET INFO:\u001b[0m     display_summary_level : 1\n",
      "\u001b[1;38;5;39mCOMET INFO:\u001b[0m     name                  : federal_turtle_4187\n",
      "\u001b[1;38;5;39mCOMET INFO:\u001b[0m     url                   : https://www.comet.com/nast69/random-search/c4b91fc5a0f148c4a1536daa40f7bb20\n",
      "\u001b[1;38;5;39mCOMET INFO:\u001b[0m   Metrics [count] (min, max):\n",
      "\u001b[1;38;5;39mCOMET INFO:\u001b[0m     accuracy [10]                 : (0.7555333375930786, 0.9492999911308289)\n",
      "\u001b[1;38;5;39mCOMET INFO:\u001b[0m     batch_accuracy [3750]         : (0.0625, 1.0)\n",
      "\u001b[1;38;5;39mCOMET INFO:\u001b[0m     batch_loss [3750]             : (0.005507225636392832, 2.504549264907837)\n",
      "\u001b[1;38;5;39mCOMET INFO:\u001b[0m     epoch_duration [10]           : (3.3392275869991863, 7.117379941999388)\n",
      "\u001b[1;38;5;39mCOMET INFO:\u001b[0m     loss [10]                     : (0.176071435213089, 0.7675003409385681)\n",
      "\u001b[1;38;5;39mCOMET INFO:\u001b[0m     val_accuracy [10]             : (0.8830000162124634, 0.9466000199317932)\n",
      "\u001b[1;38;5;39mCOMET INFO:\u001b[0m     val_loss [10]                 : (0.19281885027885437, 0.4033013880252838)\n",
      "\u001b[1;38;5;39mCOMET INFO:\u001b[0m     validate_batch_accuracy [630] : (0.850978672504425, 0.9772727489471436)\n",
      "\u001b[1;38;5;39mCOMET INFO:\u001b[0m     validate_batch_loss [630]     : (0.0919177308678627, 0.5045834183692932)\n",
      "\u001b[1;38;5;39mCOMET INFO:\u001b[0m   Others:\n",
      "\u001b[1;38;5;39mCOMET INFO:\u001b[0m     optimizer_count        : 15\n",
      "\u001b[1;38;5;39mCOMET INFO:\u001b[0m     optimizer_id           : 61fe9926a0b2429ab77580bbf796ca33\n",
      "\u001b[1;38;5;39mCOMET INFO:\u001b[0m     optimizer_metric       : loss\n",
      "\u001b[1;38;5;39mCOMET INFO:\u001b[0m     optimizer_metric_value : 0.176071435213089\n",
      "\u001b[1;38;5;39mCOMET INFO:\u001b[0m     optimizer_name         : Optimize MNIST Network with Random Search\n",
      "\u001b[1;38;5;39mCOMET INFO:\u001b[0m     optimizer_objective    : minimum\n",
      "\u001b[1;38;5;39mCOMET INFO:\u001b[0m     optimizer_parameters   : {\"batch_size\": 16, \"first_layer_units\": 13, \"learning_rate\": 0.006834929819911292}\n",
      "\u001b[1;38;5;39mCOMET INFO:\u001b[0m     optimizer_pid          : 98d9655a3a2386ba3773fc9fa550052c5eefb9f6\n",
      "\u001b[1;38;5;39mCOMET INFO:\u001b[0m     optimizer_process      : 1123214\n",
      "\u001b[1;38;5;39mCOMET INFO:\u001b[0m     optimizer_trial        : 1\n",
      "\u001b[1;38;5;39mCOMET INFO:\u001b[0m     optimizer_version      : 2.1.2\n",
      "\u001b[1;38;5;39mCOMET INFO:\u001b[0m     trainable_params       : 29799\n",
      "\u001b[1;38;5;39mCOMET INFO:\u001b[0m   Parameters:\n",
      "\u001b[1;38;5;39mCOMET INFO:\u001b[0m     Optimizer                           : rmsprop\n",
      "\u001b[1;38;5;39mCOMET INFO:\u001b[0m     RMSprop_centered                    : False\n",
      "\u001b[1;38;5;39mCOMET INFO:\u001b[0m     RMSprop_clipnorm                    : None\n",
      "\u001b[1;38;5;39mCOMET INFO:\u001b[0m     RMSprop_clipvalue                   : None\n",
      "\u001b[1;38;5;39mCOMET INFO:\u001b[0m     RMSprop_ema_momentum                : 0.99\n",
      "\u001b[1;38;5;39mCOMET INFO:\u001b[0m     RMSprop_ema_overwrite_frequency     : None\n",
      "\u001b[1;38;5;39mCOMET INFO:\u001b[0m     RMSprop_epsilon                     : 1e-07\n",
      "\u001b[1;38;5;39mCOMET INFO:\u001b[0m     RMSprop_global_clipnorm             : None\n",
      "\u001b[1;38;5;39mCOMET INFO:\u001b[0m     RMSprop_gradient_accumulation_steps : None\n",
      "\u001b[1;38;5;39mCOMET INFO:\u001b[0m     RMSprop_learning_rate               : 0.0010000000474974513\n",
      "\u001b[1;38;5;39mCOMET INFO:\u001b[0m     RMSprop_loss_scale_factor           : None\n",
      "\u001b[1;38;5;39mCOMET INFO:\u001b[0m     RMSprop_momentum                    : 0.0\n",
      "\u001b[1;38;5;39mCOMET INFO:\u001b[0m     RMSprop_name                        : rmsprop\n",
      "\u001b[1;38;5;39mCOMET INFO:\u001b[0m     RMSprop_rho                         : 0.9\n",
      "\u001b[1;38;5;39mCOMET INFO:\u001b[0m     RMSprop_use_ema                     : False\n",
      "\u001b[1;38;5;39mCOMET INFO:\u001b[0m     RMSprop_weight_decay                : None\n",
      "\u001b[1;38;5;39mCOMET INFO:\u001b[0m     batch_size                          : 16\n",
      "\u001b[1;38;5;39mCOMET INFO:\u001b[0m     epochs                              : 10\n",
      "\u001b[1;38;5;39mCOMET INFO:\u001b[0m     first_layer_units                   : 13\n",
      "\u001b[1;38;5;39mCOMET INFO:\u001b[0m     learning_rate                       : 0.006834929819911292\n",
      "\u001b[1;38;5;39mCOMET INFO:\u001b[0m     rmsprop_centered                    : False\n",
      "\u001b[1;38;5;39mCOMET INFO:\u001b[0m     rmsprop_clipnorm                    : None\n",
      "\u001b[1;38;5;39mCOMET INFO:\u001b[0m     rmsprop_clipvalue                   : None\n",
      "\u001b[1;38;5;39mCOMET INFO:\u001b[0m     rmsprop_ema_momentum                : 0.99\n",
      "\u001b[1;38;5;39mCOMET INFO:\u001b[0m     rmsprop_ema_overwrite_frequency     : None\n",
      "\u001b[1;38;5;39mCOMET INFO:\u001b[0m     rmsprop_epsilon                     : 1e-07\n",
      "\u001b[1;38;5;39mCOMET INFO:\u001b[0m     rmsprop_global_clipnorm             : None\n",
      "\u001b[1;38;5;39mCOMET INFO:\u001b[0m     rmsprop_gradient_accumulation_steps : None\n",
      "\u001b[1;38;5;39mCOMET INFO:\u001b[0m     rmsprop_learning_rate               : 0.0010000000474974513\n",
      "\u001b[1;38;5;39mCOMET INFO:\u001b[0m     rmsprop_loss_scale_factor           : None\n",
      "\u001b[1;38;5;39mCOMET INFO:\u001b[0m     rmsprop_momentum                    : 0.0\n",
      "\u001b[1;38;5;39mCOMET INFO:\u001b[0m     rmsprop_rho                         : 0.9\n",
      "\u001b[1;38;5;39mCOMET INFO:\u001b[0m     rmsprop_use_ema                     : False\n",
      "\u001b[1;38;5;39mCOMET INFO:\u001b[0m     rmsprop_weight_decay                : None\n",
      "\u001b[1;38;5;39mCOMET INFO:\u001b[0m     steps                               : 3750\n",
      "\u001b[1;38;5;39mCOMET INFO:\u001b[0m   Uploads:\n",
      "\u001b[1;38;5;39mCOMET INFO:\u001b[0m     environment details : 1\n",
      "\u001b[1;38;5;39mCOMET INFO:\u001b[0m     filename            : 1\n",
      "\u001b[1;38;5;39mCOMET INFO:\u001b[0m     installed packages  : 1\n",
      "\u001b[1;38;5;39mCOMET INFO:\u001b[0m     model graph         : 1\n",
      "\u001b[1;38;5;39mCOMET INFO:\u001b[0m     notebook            : 1\n",
      "\u001b[1;38;5;39mCOMET INFO:\u001b[0m     source_code         : 1\n",
      "\u001b[1;38;5;39mCOMET INFO:\u001b[0m \n"
     ]
    },
    {
     "name": "stdout",
     "output_type": "stream",
     "text": [
      "Score %s [0.19504310190677643, 0.944599986076355]\n"
     ]
    },
    {
     "name": "stderr",
     "output_type": "stream",
     "text": [
      "\u001b[1;38;5;39mCOMET INFO:\u001b[0m Uploading 75 metrics, params and output messages\n",
      "\u001b[1;38;5;39mCOMET INFO:\u001b[0m Optimizer search 61fe9926a0b2429ab77580bbf796ca33 has completed\n"
     ]
    }
   ],
   "source": [
    "for experiment in opt.get_experiments():\n",
    "    # Log parameters, or others:\n",
    "    experiment.log_parameter(\"epochs\", 10)\n",
    "\n",
    "    # Build the model:\n",
    "    model = build_model_graph(experiment)\n",
    "\n",
    "    # Train it:\n",
    "    train(experiment, model, x_train, y_train, x_test, y_test)\n",
    "\n",
    "    # How well did it do?\n",
    "    evaluate(experiment, model, x_test, y_test)\n",
    "\n",
    "    # Optionally, end the experiment:\n",
    "    experiment.end()"
   ]
  },
  {
   "cell_type": "code",
   "execution_count": null,
   "id": "0f7a3999-f73c-4b5b-89fe-d38e66d3a44c",
   "metadata": {},
   "outputs": [],
   "source": [
    "# Configuration for the optimizer\n",
    "config = {\n",
    "    \"algorithm\": \"random\",  # Random search for hyperparameter optimization\n",
    "    \"name\": \"Optimize MNIST Network with Random Search\",\n",
    "    \"spec\": {\"maxCombo\": 15, \"objective\": \"minimize\", \"metric\": \"loss\"},  # Optimization details\n",
    "    \"parameters\": {  # Hyperparameter definitions\n",
    "        \"first_layer_units\": {\"type\": \"integer\", \"min\": 8, \"max\": 64},  # Number of units in the first layer\n",
    "        \"batch_size\": {\"type\": \"discrete\", \"values\": [8, 16, 32]},  # Batch size options\n",
    "        \"learning_rate\": {\"type\": \"float\", \"min\": 0.0001, \"max\": 0.01},  # Learning rate range\n",
    "    },\n",
    "    \"trials\": 1,  # Number of trials to run\n",
    "}\n",
    "\n",
    "# Initialize the optimizer with the given configuration\n",
    "opt = comet_ml.Optimizer(config)\n",
    "\n",
    "# Iterate over experiments generated by the optimizer\n",
    "for experiment in opt.get_experiments():\n",
    "    experiment.log_parameter(\"epochs\", 10)  # Log fixed parameter: number of epochs\n",
    "\n",
    "    model = build_model_graph(experiment)  # Build the model with the experiment's parameters\n",
    "    train(experiment, model, x_train, y_train, x_test, y_test)  # Train the model on the dataset\n",
    "    evaluate(experiment, model, x_test, y_test)  # Evaluate the model's performance\n",
    "\n",
    "    experiment.end()  # End the experiment (optional but recommended)\n"
   ]
  }
 ],
 "metadata": {
  "kernelspec": {
   "display_name": "Python 3 (ipykernel)",
   "language": "python",
   "name": "python3"
  },
  "language_info": {
   "codemirror_mode": {
    "name": "ipython",
    "version": 3
   },
   "file_extension": ".py",
   "mimetype": "text/x-python",
   "name": "python",
   "nbconvert_exporter": "python",
   "pygments_lexer": "ipython3",
   "version": "3.10.12"
  }
 },
 "nbformat": 4,
 "nbformat_minor": 5
}
